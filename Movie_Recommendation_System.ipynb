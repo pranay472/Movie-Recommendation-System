{
  "nbformat": 4,
  "nbformat_minor": 0,
  "metadata": {
    "colab": {
      "provenance": [],
      "authorship_tag": "ABX9TyPQ/DIMzUa8TqIC7lWaqlul",
      "include_colab_link": true
    },
    "kernelspec": {
      "name": "python3",
      "display_name": "Python 3"
    },
    "language_info": {
      "name": "python"
    }
  },
  "cells": [
    {
      "cell_type": "markdown",
      "metadata": {
        "id": "view-in-github",
        "colab_type": "text"
      },
      "source": [
        "<a href=\"https://colab.research.google.com/github/pranay472/YBI_FOUNDATION_INTERNSHIP/blob/main/Movie_Recommendation_System.ipynb\" target=\"_parent\"><img src=\"https://colab.research.google.com/assets/colab-badge.svg\" alt=\"Open In Colab\"/></a>"
      ]
    },
    {
      "cell_type": "markdown",
      "source": [
        "# **Movie_Recommendation**"
      ],
      "metadata": {
        "id": "8787jnlhCQYg"
      }
    },
    {
      "cell_type": "markdown",
      "source": [
        "# **Import** **Library**"
      ],
      "metadata": {
        "id": "qD00hA7PAlm6"
      }
    },
    {
      "cell_type": "code",
      "execution_count": 2,
      "metadata": {
        "id": "nrVAKaYjAYEq"
      },
      "outputs": [],
      "source": [
        "import pandas as pd\n",
        "import numpy as np"
      ]
    },
    {
      "cell_type": "code",
      "source": [
        "df=pd.read_csv('https://github.com/YBI-Foundation/Dataset/raw/main/Movies%20Recommendation.csv')"
      ],
      "metadata": {
        "id": "pQoe7oTaA-Xh"
      },
      "execution_count": 3,
      "outputs": []
    },
    {
      "cell_type": "markdown",
      "source": [
        "# **Import Dataset**"
      ],
      "metadata": {
        "id": "7iiKKMpJCivT"
      }
    },
    {
      "cell_type": "code",
      "source": [
        "df.head()"
      ],
      "metadata": {
        "colab": {
          "base_uri": "https://localhost:8080/",
          "height": 672
        },
        "id": "H2jVgWpqBKBE",
        "outputId": "75f8f57d-5534-45e2-9c1b-13f1ddd9b6bd"
      },
      "execution_count": 4,
      "outputs": [
        {
          "output_type": "execute_result",
          "data": {
            "text/plain": [
              "   Movie_ID      Movie_Title                       Movie_Genre Movie_Language  \\\n",
              "0         1       Four Rooms                      Crime Comedy             en   \n",
              "1         2        Star Wars  Adventure Action Science Fiction             en   \n",
              "2         3     Finding Nemo                  Animation Family             en   \n",
              "3         4     Forrest Gump              Comedy Drama Romance             en   \n",
              "4         5  American Beauty                             Drama             en   \n",
              "\n",
              "   Movie_Budget  Movie_Popularity Movie_Release_Date  Movie_Revenue  \\\n",
              "0       4000000         22.876230         09-12-1995        4300000   \n",
              "1      11000000        126.393695         25-05-1977      775398007   \n",
              "2      94000000         85.688789         30-05-2003      940335536   \n",
              "3      55000000        138.133331         06-07-1994      677945399   \n",
              "4      15000000         80.878605         15-09-1999      356296601   \n",
              "\n",
              "   Movie_Runtime  Movie_Vote  ...  \\\n",
              "0           98.0         6.5  ...   \n",
              "1          121.0         8.1  ...   \n",
              "2          100.0         7.6  ...   \n",
              "3          142.0         8.2  ...   \n",
              "4          122.0         7.9  ...   \n",
              "\n",
              "                                      Movie_Homepage  \\\n",
              "0                                                NaN   \n",
              "1  http://www.starwars.com/films/star-wars-episod...   \n",
              "2              http://movies.disney.com/finding-nemo   \n",
              "3                                                NaN   \n",
              "4                      http://www.dreamworks.com/ab/   \n",
              "\n",
              "                                      Movie_Keywords  \\\n",
              "0          hotel new year's eve witch bet hotel room   \n",
              "1        android galaxy hermit death star lightsaber   \n",
              "2  father son relationship harbor underwater fish...   \n",
              "3  vietnam veteran hippie mentally disabled runni...   \n",
              "4  male nudity female nudity adultery midlife cri...   \n",
              "\n",
              "                                      Movie_Overview  \\\n",
              "0  It's Ted the Bellhop's first night on the job....   \n",
              "1  Princess Leia is captured and held hostage by ...   \n",
              "2  Nemo, an adventurous young clownfish, is unexp...   \n",
              "3  A man with a low IQ has accomplished great thi...   \n",
              "4  Lester Burnham, a depressed suburban father in...   \n",
              "\n",
              "                              Movie_Production_House  \\\n",
              "0  [{\"name\": \"Miramax Films\", \"id\": 14}, {\"name\":...   \n",
              "1  [{\"name\": \"Lucasfilm\", \"id\": 1}, {\"name\": \"Twe...   \n",
              "2     [{\"name\": \"Pixar Animation Studios\", \"id\": 3}]   \n",
              "3          [{\"name\": \"Paramount Pictures\", \"id\": 4}]   \n",
              "4  [{\"name\": \"DreamWorks SKG\", \"id\": 27}, {\"name\"...   \n",
              "\n",
              "                            Movie_Production_Country  \\\n",
              "0  [{\"iso_3166_1\": \"US\", \"name\": \"United States o...   \n",
              "1  [{\"iso_3166_1\": \"US\", \"name\": \"United States o...   \n",
              "2  [{\"iso_3166_1\": \"US\", \"name\": \"United States o...   \n",
              "3  [{\"iso_3166_1\": \"US\", \"name\": \"United States o...   \n",
              "4  [{\"iso_3166_1\": \"US\", \"name\": \"United States o...   \n",
              "\n",
              "                      Movie_Spoken_Language  \\\n",
              "0  [{\"iso_639_1\": \"en\", \"name\": \"English\"}]   \n",
              "1  [{\"iso_639_1\": \"en\", \"name\": \"English\"}]   \n",
              "2  [{\"iso_639_1\": \"en\", \"name\": \"English\"}]   \n",
              "3  [{\"iso_639_1\": \"en\", \"name\": \"English\"}]   \n",
              "4  [{\"iso_639_1\": \"en\", \"name\": \"English\"}]   \n",
              "\n",
              "                                       Movie_Tagline  \\\n",
              "0  Twelve outrageous guests. Four scandalous requ...   \n",
              "1       A long time ago in a galaxy far, far away...   \n",
              "2  There are 3.7 trillion fish in the ocean, they...   \n",
              "3  The world will never be the same, once you've ...   \n",
              "4                                       Look closer.   \n",
              "\n",
              "                                          Movie_Cast  \\\n",
              "0  Tim Roth Antonio Banderas Jennifer Beals Madon...   \n",
              "1  Mark Hamill Harrison Ford Carrie Fisher Peter ...   \n",
              "2  Albert Brooks Ellen DeGeneres Alexander Gould ...   \n",
              "3  Tom Hanks Robin Wright Gary Sinise Mykelti Wil...   \n",
              "4  Kevin Spacey Annette Bening Thora Birch Wes Be...   \n",
              "\n",
              "                                          Movie_Crew   Movie_Director  \n",
              "0  [{'name': 'Allison Anders', 'gender': 1, 'depa...   Allison Anders  \n",
              "1  [{'name': 'George Lucas', 'gender': 2, 'depart...     George Lucas  \n",
              "2  [{'name': 'Andrew Stanton', 'gender': 2, 'depa...   Andrew Stanton  \n",
              "3  [{'name': 'Alan Silvestri', 'gender': 2, 'depa...  Robert Zemeckis  \n",
              "4  [{'name': 'Thomas Newman', 'gender': 2, 'depar...       Sam Mendes  \n",
              "\n",
              "[5 rows x 21 columns]"
            ],
            "text/html": [
              "\n",
              "  <div id=\"df-51b38c29-3ef3-45be-a71d-bd7c0fea67a0\" class=\"colab-df-container\">\n",
              "    <div>\n",
              "<style scoped>\n",
              "    .dataframe tbody tr th:only-of-type {\n",
              "        vertical-align: middle;\n",
              "    }\n",
              "\n",
              "    .dataframe tbody tr th {\n",
              "        vertical-align: top;\n",
              "    }\n",
              "\n",
              "    .dataframe thead th {\n",
              "        text-align: right;\n",
              "    }\n",
              "</style>\n",
              "<table border=\"1\" class=\"dataframe\">\n",
              "  <thead>\n",
              "    <tr style=\"text-align: right;\">\n",
              "      <th></th>\n",
              "      <th>Movie_ID</th>\n",
              "      <th>Movie_Title</th>\n",
              "      <th>Movie_Genre</th>\n",
              "      <th>Movie_Language</th>\n",
              "      <th>Movie_Budget</th>\n",
              "      <th>Movie_Popularity</th>\n",
              "      <th>Movie_Release_Date</th>\n",
              "      <th>Movie_Revenue</th>\n",
              "      <th>Movie_Runtime</th>\n",
              "      <th>Movie_Vote</th>\n",
              "      <th>...</th>\n",
              "      <th>Movie_Homepage</th>\n",
              "      <th>Movie_Keywords</th>\n",
              "      <th>Movie_Overview</th>\n",
              "      <th>Movie_Production_House</th>\n",
              "      <th>Movie_Production_Country</th>\n",
              "      <th>Movie_Spoken_Language</th>\n",
              "      <th>Movie_Tagline</th>\n",
              "      <th>Movie_Cast</th>\n",
              "      <th>Movie_Crew</th>\n",
              "      <th>Movie_Director</th>\n",
              "    </tr>\n",
              "  </thead>\n",
              "  <tbody>\n",
              "    <tr>\n",
              "      <th>0</th>\n",
              "      <td>1</td>\n",
              "      <td>Four Rooms</td>\n",
              "      <td>Crime Comedy</td>\n",
              "      <td>en</td>\n",
              "      <td>4000000</td>\n",
              "      <td>22.876230</td>\n",
              "      <td>09-12-1995</td>\n",
              "      <td>4300000</td>\n",
              "      <td>98.0</td>\n",
              "      <td>6.5</td>\n",
              "      <td>...</td>\n",
              "      <td>NaN</td>\n",
              "      <td>hotel new year's eve witch bet hotel room</td>\n",
              "      <td>It's Ted the Bellhop's first night on the job....</td>\n",
              "      <td>[{\"name\": \"Miramax Films\", \"id\": 14}, {\"name\":...</td>\n",
              "      <td>[{\"iso_3166_1\": \"US\", \"name\": \"United States o...</td>\n",
              "      <td>[{\"iso_639_1\": \"en\", \"name\": \"English\"}]</td>\n",
              "      <td>Twelve outrageous guests. Four scandalous requ...</td>\n",
              "      <td>Tim Roth Antonio Banderas Jennifer Beals Madon...</td>\n",
              "      <td>[{'name': 'Allison Anders', 'gender': 1, 'depa...</td>\n",
              "      <td>Allison Anders</td>\n",
              "    </tr>\n",
              "    <tr>\n",
              "      <th>1</th>\n",
              "      <td>2</td>\n",
              "      <td>Star Wars</td>\n",
              "      <td>Adventure Action Science Fiction</td>\n",
              "      <td>en</td>\n",
              "      <td>11000000</td>\n",
              "      <td>126.393695</td>\n",
              "      <td>25-05-1977</td>\n",
              "      <td>775398007</td>\n",
              "      <td>121.0</td>\n",
              "      <td>8.1</td>\n",
              "      <td>...</td>\n",
              "      <td>http://www.starwars.com/films/star-wars-episod...</td>\n",
              "      <td>android galaxy hermit death star lightsaber</td>\n",
              "      <td>Princess Leia is captured and held hostage by ...</td>\n",
              "      <td>[{\"name\": \"Lucasfilm\", \"id\": 1}, {\"name\": \"Twe...</td>\n",
              "      <td>[{\"iso_3166_1\": \"US\", \"name\": \"United States o...</td>\n",
              "      <td>[{\"iso_639_1\": \"en\", \"name\": \"English\"}]</td>\n",
              "      <td>A long time ago in a galaxy far, far away...</td>\n",
              "      <td>Mark Hamill Harrison Ford Carrie Fisher Peter ...</td>\n",
              "      <td>[{'name': 'George Lucas', 'gender': 2, 'depart...</td>\n",
              "      <td>George Lucas</td>\n",
              "    </tr>\n",
              "    <tr>\n",
              "      <th>2</th>\n",
              "      <td>3</td>\n",
              "      <td>Finding Nemo</td>\n",
              "      <td>Animation Family</td>\n",
              "      <td>en</td>\n",
              "      <td>94000000</td>\n",
              "      <td>85.688789</td>\n",
              "      <td>30-05-2003</td>\n",
              "      <td>940335536</td>\n",
              "      <td>100.0</td>\n",
              "      <td>7.6</td>\n",
              "      <td>...</td>\n",
              "      <td>http://movies.disney.com/finding-nemo</td>\n",
              "      <td>father son relationship harbor underwater fish...</td>\n",
              "      <td>Nemo, an adventurous young clownfish, is unexp...</td>\n",
              "      <td>[{\"name\": \"Pixar Animation Studios\", \"id\": 3}]</td>\n",
              "      <td>[{\"iso_3166_1\": \"US\", \"name\": \"United States o...</td>\n",
              "      <td>[{\"iso_639_1\": \"en\", \"name\": \"English\"}]</td>\n",
              "      <td>There are 3.7 trillion fish in the ocean, they...</td>\n",
              "      <td>Albert Brooks Ellen DeGeneres Alexander Gould ...</td>\n",
              "      <td>[{'name': 'Andrew Stanton', 'gender': 2, 'depa...</td>\n",
              "      <td>Andrew Stanton</td>\n",
              "    </tr>\n",
              "    <tr>\n",
              "      <th>3</th>\n",
              "      <td>4</td>\n",
              "      <td>Forrest Gump</td>\n",
              "      <td>Comedy Drama Romance</td>\n",
              "      <td>en</td>\n",
              "      <td>55000000</td>\n",
              "      <td>138.133331</td>\n",
              "      <td>06-07-1994</td>\n",
              "      <td>677945399</td>\n",
              "      <td>142.0</td>\n",
              "      <td>8.2</td>\n",
              "      <td>...</td>\n",
              "      <td>NaN</td>\n",
              "      <td>vietnam veteran hippie mentally disabled runni...</td>\n",
              "      <td>A man with a low IQ has accomplished great thi...</td>\n",
              "      <td>[{\"name\": \"Paramount Pictures\", \"id\": 4}]</td>\n",
              "      <td>[{\"iso_3166_1\": \"US\", \"name\": \"United States o...</td>\n",
              "      <td>[{\"iso_639_1\": \"en\", \"name\": \"English\"}]</td>\n",
              "      <td>The world will never be the same, once you've ...</td>\n",
              "      <td>Tom Hanks Robin Wright Gary Sinise Mykelti Wil...</td>\n",
              "      <td>[{'name': 'Alan Silvestri', 'gender': 2, 'depa...</td>\n",
              "      <td>Robert Zemeckis</td>\n",
              "    </tr>\n",
              "    <tr>\n",
              "      <th>4</th>\n",
              "      <td>5</td>\n",
              "      <td>American Beauty</td>\n",
              "      <td>Drama</td>\n",
              "      <td>en</td>\n",
              "      <td>15000000</td>\n",
              "      <td>80.878605</td>\n",
              "      <td>15-09-1999</td>\n",
              "      <td>356296601</td>\n",
              "      <td>122.0</td>\n",
              "      <td>7.9</td>\n",
              "      <td>...</td>\n",
              "      <td>http://www.dreamworks.com/ab/</td>\n",
              "      <td>male nudity female nudity adultery midlife cri...</td>\n",
              "      <td>Lester Burnham, a depressed suburban father in...</td>\n",
              "      <td>[{\"name\": \"DreamWorks SKG\", \"id\": 27}, {\"name\"...</td>\n",
              "      <td>[{\"iso_3166_1\": \"US\", \"name\": \"United States o...</td>\n",
              "      <td>[{\"iso_639_1\": \"en\", \"name\": \"English\"}]</td>\n",
              "      <td>Look closer.</td>\n",
              "      <td>Kevin Spacey Annette Bening Thora Birch Wes Be...</td>\n",
              "      <td>[{'name': 'Thomas Newman', 'gender': 2, 'depar...</td>\n",
              "      <td>Sam Mendes</td>\n",
              "    </tr>\n",
              "  </tbody>\n",
              "</table>\n",
              "<p>5 rows × 21 columns</p>\n",
              "</div>\n",
              "    <div class=\"colab-df-buttons\">\n",
              "\n",
              "  <div class=\"colab-df-container\">\n",
              "    <button class=\"colab-df-convert\" onclick=\"convertToInteractive('df-51b38c29-3ef3-45be-a71d-bd7c0fea67a0')\"\n",
              "            title=\"Convert this dataframe to an interactive table.\"\n",
              "            style=\"display:none;\">\n",
              "\n",
              "  <svg xmlns=\"http://www.w3.org/2000/svg\" height=\"24px\" viewBox=\"0 -960 960 960\">\n",
              "    <path d=\"M120-120v-720h720v720H120Zm60-500h600v-160H180v160Zm220 220h160v-160H400v160Zm0 220h160v-160H400v160ZM180-400h160v-160H180v160Zm440 0h160v-160H620v160ZM180-180h160v-160H180v160Zm440 0h160v-160H620v160Z\"/>\n",
              "  </svg>\n",
              "    </button>\n",
              "\n",
              "  <style>\n",
              "    .colab-df-container {\n",
              "      display:flex;\n",
              "      gap: 12px;\n",
              "    }\n",
              "\n",
              "    .colab-df-convert {\n",
              "      background-color: #E8F0FE;\n",
              "      border: none;\n",
              "      border-radius: 50%;\n",
              "      cursor: pointer;\n",
              "      display: none;\n",
              "      fill: #1967D2;\n",
              "      height: 32px;\n",
              "      padding: 0 0 0 0;\n",
              "      width: 32px;\n",
              "    }\n",
              "\n",
              "    .colab-df-convert:hover {\n",
              "      background-color: #E2EBFA;\n",
              "      box-shadow: 0px 1px 2px rgba(60, 64, 67, 0.3), 0px 1px 3px 1px rgba(60, 64, 67, 0.15);\n",
              "      fill: #174EA6;\n",
              "    }\n",
              "\n",
              "    .colab-df-buttons div {\n",
              "      margin-bottom: 4px;\n",
              "    }\n",
              "\n",
              "    [theme=dark] .colab-df-convert {\n",
              "      background-color: #3B4455;\n",
              "      fill: #D2E3FC;\n",
              "    }\n",
              "\n",
              "    [theme=dark] .colab-df-convert:hover {\n",
              "      background-color: #434B5C;\n",
              "      box-shadow: 0px 1px 3px 1px rgba(0, 0, 0, 0.15);\n",
              "      filter: drop-shadow(0px 1px 2px rgba(0, 0, 0, 0.3));\n",
              "      fill: #FFFFFF;\n",
              "    }\n",
              "  </style>\n",
              "\n",
              "    <script>\n",
              "      const buttonEl =\n",
              "        document.querySelector('#df-51b38c29-3ef3-45be-a71d-bd7c0fea67a0 button.colab-df-convert');\n",
              "      buttonEl.style.display =\n",
              "        google.colab.kernel.accessAllowed ? 'block' : 'none';\n",
              "\n",
              "      async function convertToInteractive(key) {\n",
              "        const element = document.querySelector('#df-51b38c29-3ef3-45be-a71d-bd7c0fea67a0');\n",
              "        const dataTable =\n",
              "          await google.colab.kernel.invokeFunction('convertToInteractive',\n",
              "                                                    [key], {});\n",
              "        if (!dataTable) return;\n",
              "\n",
              "        const docLinkHtml = 'Like what you see? Visit the ' +\n",
              "          '<a target=\"_blank\" href=https://colab.research.google.com/notebooks/data_table.ipynb>data table notebook</a>'\n",
              "          + ' to learn more about interactive tables.';\n",
              "        element.innerHTML = '';\n",
              "        dataTable['output_type'] = 'display_data';\n",
              "        await google.colab.output.renderOutput(dataTable, element);\n",
              "        const docLink = document.createElement('div');\n",
              "        docLink.innerHTML = docLinkHtml;\n",
              "        element.appendChild(docLink);\n",
              "      }\n",
              "    </script>\n",
              "  </div>\n",
              "\n",
              "\n",
              "<div id=\"df-e5a49e3d-cdfb-481f-8d3e-8af82fecae81\">\n",
              "  <button class=\"colab-df-quickchart\" onclick=\"quickchart('df-e5a49e3d-cdfb-481f-8d3e-8af82fecae81')\"\n",
              "            title=\"Suggest charts\"\n",
              "            style=\"display:none;\">\n",
              "\n",
              "<svg xmlns=\"http://www.w3.org/2000/svg\" height=\"24px\"viewBox=\"0 0 24 24\"\n",
              "     width=\"24px\">\n",
              "    <g>\n",
              "        <path d=\"M19 3H5c-1.1 0-2 .9-2 2v14c0 1.1.9 2 2 2h14c1.1 0 2-.9 2-2V5c0-1.1-.9-2-2-2zM9 17H7v-7h2v7zm4 0h-2V7h2v10zm4 0h-2v-4h2v4z\"/>\n",
              "    </g>\n",
              "</svg>\n",
              "  </button>\n",
              "\n",
              "<style>\n",
              "  .colab-df-quickchart {\n",
              "      --bg-color: #E8F0FE;\n",
              "      --fill-color: #1967D2;\n",
              "      --hover-bg-color: #E2EBFA;\n",
              "      --hover-fill-color: #174EA6;\n",
              "      --disabled-fill-color: #AAA;\n",
              "      --disabled-bg-color: #DDD;\n",
              "  }\n",
              "\n",
              "  [theme=dark] .colab-df-quickchart {\n",
              "      --bg-color: #3B4455;\n",
              "      --fill-color: #D2E3FC;\n",
              "      --hover-bg-color: #434B5C;\n",
              "      --hover-fill-color: #FFFFFF;\n",
              "      --disabled-bg-color: #3B4455;\n",
              "      --disabled-fill-color: #666;\n",
              "  }\n",
              "\n",
              "  .colab-df-quickchart {\n",
              "    background-color: var(--bg-color);\n",
              "    border: none;\n",
              "    border-radius: 50%;\n",
              "    cursor: pointer;\n",
              "    display: none;\n",
              "    fill: var(--fill-color);\n",
              "    height: 32px;\n",
              "    padding: 0;\n",
              "    width: 32px;\n",
              "  }\n",
              "\n",
              "  .colab-df-quickchart:hover {\n",
              "    background-color: var(--hover-bg-color);\n",
              "    box-shadow: 0 1px 2px rgba(60, 64, 67, 0.3), 0 1px 3px 1px rgba(60, 64, 67, 0.15);\n",
              "    fill: var(--button-hover-fill-color);\n",
              "  }\n",
              "\n",
              "  .colab-df-quickchart-complete:disabled,\n",
              "  .colab-df-quickchart-complete:disabled:hover {\n",
              "    background-color: var(--disabled-bg-color);\n",
              "    fill: var(--disabled-fill-color);\n",
              "    box-shadow: none;\n",
              "  }\n",
              "\n",
              "  .colab-df-spinner {\n",
              "    border: 2px solid var(--fill-color);\n",
              "    border-color: transparent;\n",
              "    border-bottom-color: var(--fill-color);\n",
              "    animation:\n",
              "      spin 1s steps(1) infinite;\n",
              "  }\n",
              "\n",
              "  @keyframes spin {\n",
              "    0% {\n",
              "      border-color: transparent;\n",
              "      border-bottom-color: var(--fill-color);\n",
              "      border-left-color: var(--fill-color);\n",
              "    }\n",
              "    20% {\n",
              "      border-color: transparent;\n",
              "      border-left-color: var(--fill-color);\n",
              "      border-top-color: var(--fill-color);\n",
              "    }\n",
              "    30% {\n",
              "      border-color: transparent;\n",
              "      border-left-color: var(--fill-color);\n",
              "      border-top-color: var(--fill-color);\n",
              "      border-right-color: var(--fill-color);\n",
              "    }\n",
              "    40% {\n",
              "      border-color: transparent;\n",
              "      border-right-color: var(--fill-color);\n",
              "      border-top-color: var(--fill-color);\n",
              "    }\n",
              "    60% {\n",
              "      border-color: transparent;\n",
              "      border-right-color: var(--fill-color);\n",
              "    }\n",
              "    80% {\n",
              "      border-color: transparent;\n",
              "      border-right-color: var(--fill-color);\n",
              "      border-bottom-color: var(--fill-color);\n",
              "    }\n",
              "    90% {\n",
              "      border-color: transparent;\n",
              "      border-bottom-color: var(--fill-color);\n",
              "    }\n",
              "  }\n",
              "</style>\n",
              "\n",
              "  <script>\n",
              "    async function quickchart(key) {\n",
              "      const quickchartButtonEl =\n",
              "        document.querySelector('#' + key + ' button');\n",
              "      quickchartButtonEl.disabled = true;  // To prevent multiple clicks.\n",
              "      quickchartButtonEl.classList.add('colab-df-spinner');\n",
              "      try {\n",
              "        const charts = await google.colab.kernel.invokeFunction(\n",
              "            'suggestCharts', [key], {});\n",
              "      } catch (error) {\n",
              "        console.error('Error during call to suggestCharts:', error);\n",
              "      }\n",
              "      quickchartButtonEl.classList.remove('colab-df-spinner');\n",
              "      quickchartButtonEl.classList.add('colab-df-quickchart-complete');\n",
              "    }\n",
              "    (() => {\n",
              "      let quickchartButtonEl =\n",
              "        document.querySelector('#df-e5a49e3d-cdfb-481f-8d3e-8af82fecae81 button');\n",
              "      quickchartButtonEl.style.display =\n",
              "        google.colab.kernel.accessAllowed ? 'block' : 'none';\n",
              "    })();\n",
              "  </script>\n",
              "</div>\n",
              "\n",
              "    </div>\n",
              "  </div>\n"
            ],
            "application/vnd.google.colaboratory.intrinsic+json": {
              "type": "dataframe",
              "variable_name": "df"
            }
          },
          "metadata": {},
          "execution_count": 4
        }
      ]
    },
    {
      "cell_type": "code",
      "source": [
        "df.info()"
      ],
      "metadata": {
        "colab": {
          "base_uri": "https://localhost:8080/"
        },
        "id": "yYI-_8xABVt1",
        "outputId": "f36f5bdf-ab2a-4e5b-e4c4-33480d9d1fe0"
      },
      "execution_count": 5,
      "outputs": [
        {
          "output_type": "stream",
          "name": "stdout",
          "text": [
            "<class 'pandas.core.frame.DataFrame'>\n",
            "RangeIndex: 4760 entries, 0 to 4759\n",
            "Data columns (total 21 columns):\n",
            " #   Column                    Non-Null Count  Dtype  \n",
            "---  ------                    --------------  -----  \n",
            " 0   Movie_ID                  4760 non-null   int64  \n",
            " 1   Movie_Title               4760 non-null   object \n",
            " 2   Movie_Genre               4760 non-null   object \n",
            " 3   Movie_Language            4760 non-null   object \n",
            " 4   Movie_Budget              4760 non-null   int64  \n",
            " 5   Movie_Popularity          4760 non-null   float64\n",
            " 6   Movie_Release_Date        4760 non-null   object \n",
            " 7   Movie_Revenue             4760 non-null   int64  \n",
            " 8   Movie_Runtime             4758 non-null   float64\n",
            " 9   Movie_Vote                4760 non-null   float64\n",
            " 10  Movie_Vote_Count          4760 non-null   int64  \n",
            " 11  Movie_Homepage            1699 non-null   object \n",
            " 12  Movie_Keywords            4373 non-null   object \n",
            " 13  Movie_Overview            4757 non-null   object \n",
            " 14  Movie_Production_House    4760 non-null   object \n",
            " 15  Movie_Production_Country  4760 non-null   object \n",
            " 16  Movie_Spoken_Language     4760 non-null   object \n",
            " 17  Movie_Tagline             3942 non-null   object \n",
            " 18  Movie_Cast                4733 non-null   object \n",
            " 19  Movie_Crew                4760 non-null   object \n",
            " 20  Movie_Director            4738 non-null   object \n",
            "dtypes: float64(3), int64(4), object(14)\n",
            "memory usage: 781.1+ KB\n"
          ]
        }
      ]
    },
    {
      "cell_type": "code",
      "source": [
        "df.shape"
      ],
      "metadata": {
        "colab": {
          "base_uri": "https://localhost:8080/"
        },
        "id": "nJ_PlXUbBeY5",
        "outputId": "38a29478-dfbd-4264-b0ba-d68457649bf3"
      },
      "execution_count": 7,
      "outputs": [
        {
          "output_type": "execute_result",
          "data": {
            "text/plain": [
              "(4760, 21)"
            ]
          },
          "metadata": {},
          "execution_count": 7
        }
      ]
    },
    {
      "cell_type": "code",
      "source": [
        "df.columns"
      ],
      "metadata": {
        "colab": {
          "base_uri": "https://localhost:8080/"
        },
        "id": "oYD0pY-XBkbV",
        "outputId": "8257cced-735e-4349-cbc6-f39768194798"
      },
      "execution_count": 8,
      "outputs": [
        {
          "output_type": "execute_result",
          "data": {
            "text/plain": [
              "Index(['Movie_ID', 'Movie_Title', 'Movie_Genre', 'Movie_Language',\n",
              "       'Movie_Budget', 'Movie_Popularity', 'Movie_Release_Date',\n",
              "       'Movie_Revenue', 'Movie_Runtime', 'Movie_Vote', 'Movie_Vote_Count',\n",
              "       'Movie_Homepage', 'Movie_Keywords', 'Movie_Overview',\n",
              "       'Movie_Production_House', 'Movie_Production_Country',\n",
              "       'Movie_Spoken_Language', 'Movie_Tagline', 'Movie_Cast', 'Movie_Crew',\n",
              "       'Movie_Director'],\n",
              "      dtype='object')"
            ]
          },
          "metadata": {},
          "execution_count": 8
        }
      ]
    },
    {
      "cell_type": "code",
      "source": [
        "df_features=df[['Movie_Genre','Movie_Keywords','Movie_Tagline','Movie_Cast','Movie_Director']].fillna('')"
      ],
      "metadata": {
        "id": "NHTyb7VBB0Yf"
      },
      "execution_count": 9,
      "outputs": []
    },
    {
      "cell_type": "code",
      "source": [
        "df_features.shape"
      ],
      "metadata": {
        "colab": {
          "base_uri": "https://localhost:8080/"
        },
        "id": "CFiNSfV5CwYc",
        "outputId": "30fcad96-02fe-4e6c-cafa-581c7ba32240"
      },
      "execution_count": 10,
      "outputs": [
        {
          "output_type": "execute_result",
          "data": {
            "text/plain": [
              "(4760, 5)"
            ]
          },
          "metadata": {},
          "execution_count": 10
        }
      ]
    },
    {
      "cell_type": "code",
      "source": [
        "df_features"
      ],
      "metadata": {
        "colab": {
          "base_uri": "https://localhost:8080/",
          "height": 580
        },
        "id": "NTdQXbWMC1Qf",
        "outputId": "5443a84e-4e27-44ab-e69e-421f97303964"
      },
      "execution_count": 11,
      "outputs": [
        {
          "output_type": "execute_result",
          "data": {
            "text/plain": [
              "                           Movie_Genre  \\\n",
              "0                         Crime Comedy   \n",
              "1     Adventure Action Science Fiction   \n",
              "2                     Animation Family   \n",
              "3                 Comedy Drama Romance   \n",
              "4                                Drama   \n",
              "...                                ...   \n",
              "4755                            Horror   \n",
              "4756               Comedy Family Drama   \n",
              "4757                    Thriller Drama   \n",
              "4758                            Family   \n",
              "4759                       Documentary   \n",
              "\n",
              "                                         Movie_Keywords  \\\n",
              "0             hotel new year's eve witch bet hotel room   \n",
              "1           android galaxy hermit death star lightsaber   \n",
              "2     father son relationship harbor underwater fish...   \n",
              "3     vietnam veteran hippie mentally disabled runni...   \n",
              "4     male nudity female nudity adultery midlife cri...   \n",
              "...                                                 ...   \n",
              "4755                                                      \n",
              "4756                                                      \n",
              "4757                     christian film sex trafficking   \n",
              "4758                                                      \n",
              "4759  music actors legendary perfomer classic hollyw...   \n",
              "\n",
              "                                          Movie_Tagline  \\\n",
              "0     Twelve outrageous guests. Four scandalous requ...   \n",
              "1          A long time ago in a galaxy far, far away...   \n",
              "2     There are 3.7 trillion fish in the ocean, they...   \n",
              "3     The world will never be the same, once you've ...   \n",
              "4                                          Look closer.   \n",
              "...                                                 ...   \n",
              "4755                The hot spot where Satan's waitin'.   \n",
              "4756           It’s better to stand out than to fit in.   \n",
              "4757           She never knew it could happen to her...   \n",
              "4758                                                      \n",
              "4759                                                      \n",
              "\n",
              "                                             Movie_Cast     Movie_Director  \n",
              "0     Tim Roth Antonio Banderas Jennifer Beals Madon...     Allison Anders  \n",
              "1     Mark Hamill Harrison Ford Carrie Fisher Peter ...       George Lucas  \n",
              "2     Albert Brooks Ellen DeGeneres Alexander Gould ...     Andrew Stanton  \n",
              "3     Tom Hanks Robin Wright Gary Sinise Mykelti Wil...    Robert Zemeckis  \n",
              "4     Kevin Spacey Annette Bening Thora Birch Wes Be...         Sam Mendes  \n",
              "...                                                 ...                ...  \n",
              "4755  Lisa Hart Carroll Michael Des Barres Paul Drak...         Pece Dingo  \n",
              "4756  Roni Akurati Brighton Sharbino Jason Lee Anjul...       Frank Lotito  \n",
              "4757  Nicole Smolen Kim Baldwin Ariana Stephens Brys...       Jaco Booyens  \n",
              "4758                                                                        \n",
              "4759                                    Tony Oppedisano  Simon Napier-Bell  \n",
              "\n",
              "[4760 rows x 5 columns]"
            ],
            "text/html": [
              "\n",
              "  <div id=\"df-7727f7d6-369e-4789-9857-728d35b3e749\" class=\"colab-df-container\">\n",
              "    <div>\n",
              "<style scoped>\n",
              "    .dataframe tbody tr th:only-of-type {\n",
              "        vertical-align: middle;\n",
              "    }\n",
              "\n",
              "    .dataframe tbody tr th {\n",
              "        vertical-align: top;\n",
              "    }\n",
              "\n",
              "    .dataframe thead th {\n",
              "        text-align: right;\n",
              "    }\n",
              "</style>\n",
              "<table border=\"1\" class=\"dataframe\">\n",
              "  <thead>\n",
              "    <tr style=\"text-align: right;\">\n",
              "      <th></th>\n",
              "      <th>Movie_Genre</th>\n",
              "      <th>Movie_Keywords</th>\n",
              "      <th>Movie_Tagline</th>\n",
              "      <th>Movie_Cast</th>\n",
              "      <th>Movie_Director</th>\n",
              "    </tr>\n",
              "  </thead>\n",
              "  <tbody>\n",
              "    <tr>\n",
              "      <th>0</th>\n",
              "      <td>Crime Comedy</td>\n",
              "      <td>hotel new year's eve witch bet hotel room</td>\n",
              "      <td>Twelve outrageous guests. Four scandalous requ...</td>\n",
              "      <td>Tim Roth Antonio Banderas Jennifer Beals Madon...</td>\n",
              "      <td>Allison Anders</td>\n",
              "    </tr>\n",
              "    <tr>\n",
              "      <th>1</th>\n",
              "      <td>Adventure Action Science Fiction</td>\n",
              "      <td>android galaxy hermit death star lightsaber</td>\n",
              "      <td>A long time ago in a galaxy far, far away...</td>\n",
              "      <td>Mark Hamill Harrison Ford Carrie Fisher Peter ...</td>\n",
              "      <td>George Lucas</td>\n",
              "    </tr>\n",
              "    <tr>\n",
              "      <th>2</th>\n",
              "      <td>Animation Family</td>\n",
              "      <td>father son relationship harbor underwater fish...</td>\n",
              "      <td>There are 3.7 trillion fish in the ocean, they...</td>\n",
              "      <td>Albert Brooks Ellen DeGeneres Alexander Gould ...</td>\n",
              "      <td>Andrew Stanton</td>\n",
              "    </tr>\n",
              "    <tr>\n",
              "      <th>3</th>\n",
              "      <td>Comedy Drama Romance</td>\n",
              "      <td>vietnam veteran hippie mentally disabled runni...</td>\n",
              "      <td>The world will never be the same, once you've ...</td>\n",
              "      <td>Tom Hanks Robin Wright Gary Sinise Mykelti Wil...</td>\n",
              "      <td>Robert Zemeckis</td>\n",
              "    </tr>\n",
              "    <tr>\n",
              "      <th>4</th>\n",
              "      <td>Drama</td>\n",
              "      <td>male nudity female nudity adultery midlife cri...</td>\n",
              "      <td>Look closer.</td>\n",
              "      <td>Kevin Spacey Annette Bening Thora Birch Wes Be...</td>\n",
              "      <td>Sam Mendes</td>\n",
              "    </tr>\n",
              "    <tr>\n",
              "      <th>...</th>\n",
              "      <td>...</td>\n",
              "      <td>...</td>\n",
              "      <td>...</td>\n",
              "      <td>...</td>\n",
              "      <td>...</td>\n",
              "    </tr>\n",
              "    <tr>\n",
              "      <th>4755</th>\n",
              "      <td>Horror</td>\n",
              "      <td></td>\n",
              "      <td>The hot spot where Satan's waitin'.</td>\n",
              "      <td>Lisa Hart Carroll Michael Des Barres Paul Drak...</td>\n",
              "      <td>Pece Dingo</td>\n",
              "    </tr>\n",
              "    <tr>\n",
              "      <th>4756</th>\n",
              "      <td>Comedy Family Drama</td>\n",
              "      <td></td>\n",
              "      <td>It’s better to stand out than to fit in.</td>\n",
              "      <td>Roni Akurati Brighton Sharbino Jason Lee Anjul...</td>\n",
              "      <td>Frank Lotito</td>\n",
              "    </tr>\n",
              "    <tr>\n",
              "      <th>4757</th>\n",
              "      <td>Thriller Drama</td>\n",
              "      <td>christian film sex trafficking</td>\n",
              "      <td>She never knew it could happen to her...</td>\n",
              "      <td>Nicole Smolen Kim Baldwin Ariana Stephens Brys...</td>\n",
              "      <td>Jaco Booyens</td>\n",
              "    </tr>\n",
              "    <tr>\n",
              "      <th>4758</th>\n",
              "      <td>Family</td>\n",
              "      <td></td>\n",
              "      <td></td>\n",
              "      <td></td>\n",
              "      <td></td>\n",
              "    </tr>\n",
              "    <tr>\n",
              "      <th>4759</th>\n",
              "      <td>Documentary</td>\n",
              "      <td>music actors legendary perfomer classic hollyw...</td>\n",
              "      <td></td>\n",
              "      <td>Tony Oppedisano</td>\n",
              "      <td>Simon Napier-Bell</td>\n",
              "    </tr>\n",
              "  </tbody>\n",
              "</table>\n",
              "<p>4760 rows × 5 columns</p>\n",
              "</div>\n",
              "    <div class=\"colab-df-buttons\">\n",
              "\n",
              "  <div class=\"colab-df-container\">\n",
              "    <button class=\"colab-df-convert\" onclick=\"convertToInteractive('df-7727f7d6-369e-4789-9857-728d35b3e749')\"\n",
              "            title=\"Convert this dataframe to an interactive table.\"\n",
              "            style=\"display:none;\">\n",
              "\n",
              "  <svg xmlns=\"http://www.w3.org/2000/svg\" height=\"24px\" viewBox=\"0 -960 960 960\">\n",
              "    <path d=\"M120-120v-720h720v720H120Zm60-500h600v-160H180v160Zm220 220h160v-160H400v160Zm0 220h160v-160H400v160ZM180-400h160v-160H180v160Zm440 0h160v-160H620v160ZM180-180h160v-160H180v160Zm440 0h160v-160H620v160Z\"/>\n",
              "  </svg>\n",
              "    </button>\n",
              "\n",
              "  <style>\n",
              "    .colab-df-container {\n",
              "      display:flex;\n",
              "      gap: 12px;\n",
              "    }\n",
              "\n",
              "    .colab-df-convert {\n",
              "      background-color: #E8F0FE;\n",
              "      border: none;\n",
              "      border-radius: 50%;\n",
              "      cursor: pointer;\n",
              "      display: none;\n",
              "      fill: #1967D2;\n",
              "      height: 32px;\n",
              "      padding: 0 0 0 0;\n",
              "      width: 32px;\n",
              "    }\n",
              "\n",
              "    .colab-df-convert:hover {\n",
              "      background-color: #E2EBFA;\n",
              "      box-shadow: 0px 1px 2px rgba(60, 64, 67, 0.3), 0px 1px 3px 1px rgba(60, 64, 67, 0.15);\n",
              "      fill: #174EA6;\n",
              "    }\n",
              "\n",
              "    .colab-df-buttons div {\n",
              "      margin-bottom: 4px;\n",
              "    }\n",
              "\n",
              "    [theme=dark] .colab-df-convert {\n",
              "      background-color: #3B4455;\n",
              "      fill: #D2E3FC;\n",
              "    }\n",
              "\n",
              "    [theme=dark] .colab-df-convert:hover {\n",
              "      background-color: #434B5C;\n",
              "      box-shadow: 0px 1px 3px 1px rgba(0, 0, 0, 0.15);\n",
              "      filter: drop-shadow(0px 1px 2px rgba(0, 0, 0, 0.3));\n",
              "      fill: #FFFFFF;\n",
              "    }\n",
              "  </style>\n",
              "\n",
              "    <script>\n",
              "      const buttonEl =\n",
              "        document.querySelector('#df-7727f7d6-369e-4789-9857-728d35b3e749 button.colab-df-convert');\n",
              "      buttonEl.style.display =\n",
              "        google.colab.kernel.accessAllowed ? 'block' : 'none';\n",
              "\n",
              "      async function convertToInteractive(key) {\n",
              "        const element = document.querySelector('#df-7727f7d6-369e-4789-9857-728d35b3e749');\n",
              "        const dataTable =\n",
              "          await google.colab.kernel.invokeFunction('convertToInteractive',\n",
              "                                                    [key], {});\n",
              "        if (!dataTable) return;\n",
              "\n",
              "        const docLinkHtml = 'Like what you see? Visit the ' +\n",
              "          '<a target=\"_blank\" href=https://colab.research.google.com/notebooks/data_table.ipynb>data table notebook</a>'\n",
              "          + ' to learn more about interactive tables.';\n",
              "        element.innerHTML = '';\n",
              "        dataTable['output_type'] = 'display_data';\n",
              "        await google.colab.output.renderOutput(dataTable, element);\n",
              "        const docLink = document.createElement('div');\n",
              "        docLink.innerHTML = docLinkHtml;\n",
              "        element.appendChild(docLink);\n",
              "      }\n",
              "    </script>\n",
              "  </div>\n",
              "\n",
              "\n",
              "<div id=\"df-2f200ff8-072f-4b36-aa40-3136a123241f\">\n",
              "  <button class=\"colab-df-quickchart\" onclick=\"quickchart('df-2f200ff8-072f-4b36-aa40-3136a123241f')\"\n",
              "            title=\"Suggest charts\"\n",
              "            style=\"display:none;\">\n",
              "\n",
              "<svg xmlns=\"http://www.w3.org/2000/svg\" height=\"24px\"viewBox=\"0 0 24 24\"\n",
              "     width=\"24px\">\n",
              "    <g>\n",
              "        <path d=\"M19 3H5c-1.1 0-2 .9-2 2v14c0 1.1.9 2 2 2h14c1.1 0 2-.9 2-2V5c0-1.1-.9-2-2-2zM9 17H7v-7h2v7zm4 0h-2V7h2v10zm4 0h-2v-4h2v4z\"/>\n",
              "    </g>\n",
              "</svg>\n",
              "  </button>\n",
              "\n",
              "<style>\n",
              "  .colab-df-quickchart {\n",
              "      --bg-color: #E8F0FE;\n",
              "      --fill-color: #1967D2;\n",
              "      --hover-bg-color: #E2EBFA;\n",
              "      --hover-fill-color: #174EA6;\n",
              "      --disabled-fill-color: #AAA;\n",
              "      --disabled-bg-color: #DDD;\n",
              "  }\n",
              "\n",
              "  [theme=dark] .colab-df-quickchart {\n",
              "      --bg-color: #3B4455;\n",
              "      --fill-color: #D2E3FC;\n",
              "      --hover-bg-color: #434B5C;\n",
              "      --hover-fill-color: #FFFFFF;\n",
              "      --disabled-bg-color: #3B4455;\n",
              "      --disabled-fill-color: #666;\n",
              "  }\n",
              "\n",
              "  .colab-df-quickchart {\n",
              "    background-color: var(--bg-color);\n",
              "    border: none;\n",
              "    border-radius: 50%;\n",
              "    cursor: pointer;\n",
              "    display: none;\n",
              "    fill: var(--fill-color);\n",
              "    height: 32px;\n",
              "    padding: 0;\n",
              "    width: 32px;\n",
              "  }\n",
              "\n",
              "  .colab-df-quickchart:hover {\n",
              "    background-color: var(--hover-bg-color);\n",
              "    box-shadow: 0 1px 2px rgba(60, 64, 67, 0.3), 0 1px 3px 1px rgba(60, 64, 67, 0.15);\n",
              "    fill: var(--button-hover-fill-color);\n",
              "  }\n",
              "\n",
              "  .colab-df-quickchart-complete:disabled,\n",
              "  .colab-df-quickchart-complete:disabled:hover {\n",
              "    background-color: var(--disabled-bg-color);\n",
              "    fill: var(--disabled-fill-color);\n",
              "    box-shadow: none;\n",
              "  }\n",
              "\n",
              "  .colab-df-spinner {\n",
              "    border: 2px solid var(--fill-color);\n",
              "    border-color: transparent;\n",
              "    border-bottom-color: var(--fill-color);\n",
              "    animation:\n",
              "      spin 1s steps(1) infinite;\n",
              "  }\n",
              "\n",
              "  @keyframes spin {\n",
              "    0% {\n",
              "      border-color: transparent;\n",
              "      border-bottom-color: var(--fill-color);\n",
              "      border-left-color: var(--fill-color);\n",
              "    }\n",
              "    20% {\n",
              "      border-color: transparent;\n",
              "      border-left-color: var(--fill-color);\n",
              "      border-top-color: var(--fill-color);\n",
              "    }\n",
              "    30% {\n",
              "      border-color: transparent;\n",
              "      border-left-color: var(--fill-color);\n",
              "      border-top-color: var(--fill-color);\n",
              "      border-right-color: var(--fill-color);\n",
              "    }\n",
              "    40% {\n",
              "      border-color: transparent;\n",
              "      border-right-color: var(--fill-color);\n",
              "      border-top-color: var(--fill-color);\n",
              "    }\n",
              "    60% {\n",
              "      border-color: transparent;\n",
              "      border-right-color: var(--fill-color);\n",
              "    }\n",
              "    80% {\n",
              "      border-color: transparent;\n",
              "      border-right-color: var(--fill-color);\n",
              "      border-bottom-color: var(--fill-color);\n",
              "    }\n",
              "    90% {\n",
              "      border-color: transparent;\n",
              "      border-bottom-color: var(--fill-color);\n",
              "    }\n",
              "  }\n",
              "</style>\n",
              "\n",
              "  <script>\n",
              "    async function quickchart(key) {\n",
              "      const quickchartButtonEl =\n",
              "        document.querySelector('#' + key + ' button');\n",
              "      quickchartButtonEl.disabled = true;  // To prevent multiple clicks.\n",
              "      quickchartButtonEl.classList.add('colab-df-spinner');\n",
              "      try {\n",
              "        const charts = await google.colab.kernel.invokeFunction(\n",
              "            'suggestCharts', [key], {});\n",
              "      } catch (error) {\n",
              "        console.error('Error during call to suggestCharts:', error);\n",
              "      }\n",
              "      quickchartButtonEl.classList.remove('colab-df-spinner');\n",
              "      quickchartButtonEl.classList.add('colab-df-quickchart-complete');\n",
              "    }\n",
              "    (() => {\n",
              "      let quickchartButtonEl =\n",
              "        document.querySelector('#df-2f200ff8-072f-4b36-aa40-3136a123241f button');\n",
              "      quickchartButtonEl.style.display =\n",
              "        google.colab.kernel.accessAllowed ? 'block' : 'none';\n",
              "    })();\n",
              "  </script>\n",
              "</div>\n",
              "\n",
              "  <div id=\"id_58467dc7-acca-4f87-98d0-8e16f71a4c0a\">\n",
              "    <style>\n",
              "      .colab-df-generate {\n",
              "        background-color: #E8F0FE;\n",
              "        border: none;\n",
              "        border-radius: 50%;\n",
              "        cursor: pointer;\n",
              "        display: none;\n",
              "        fill: #1967D2;\n",
              "        height: 32px;\n",
              "        padding: 0 0 0 0;\n",
              "        width: 32px;\n",
              "      }\n",
              "\n",
              "      .colab-df-generate:hover {\n",
              "        background-color: #E2EBFA;\n",
              "        box-shadow: 0px 1px 2px rgba(60, 64, 67, 0.3), 0px 1px 3px 1px rgba(60, 64, 67, 0.15);\n",
              "        fill: #174EA6;\n",
              "      }\n",
              "\n",
              "      [theme=dark] .colab-df-generate {\n",
              "        background-color: #3B4455;\n",
              "        fill: #D2E3FC;\n",
              "      }\n",
              "\n",
              "      [theme=dark] .colab-df-generate:hover {\n",
              "        background-color: #434B5C;\n",
              "        box-shadow: 0px 1px 3px 1px rgba(0, 0, 0, 0.15);\n",
              "        filter: drop-shadow(0px 1px 2px rgba(0, 0, 0, 0.3));\n",
              "        fill: #FFFFFF;\n",
              "      }\n",
              "    </style>\n",
              "    <button class=\"colab-df-generate\" onclick=\"generateWithVariable('df_features')\"\n",
              "            title=\"Generate code using this dataframe.\"\n",
              "            style=\"display:none;\">\n",
              "\n",
              "  <svg xmlns=\"http://www.w3.org/2000/svg\" height=\"24px\"viewBox=\"0 0 24 24\"\n",
              "       width=\"24px\">\n",
              "    <path d=\"M7,19H8.4L18.45,9,17,7.55,7,17.6ZM5,21V16.75L18.45,3.32a2,2,0,0,1,2.83,0l1.4,1.43a1.91,1.91,0,0,1,.58,1.4,1.91,1.91,0,0,1-.58,1.4L9.25,21ZM18.45,9,17,7.55Zm-12,3A5.31,5.31,0,0,0,4.9,8.1,5.31,5.31,0,0,0,1,6.5,5.31,5.31,0,0,0,4.9,4.9,5.31,5.31,0,0,0,6.5,1,5.31,5.31,0,0,0,8.1,4.9,5.31,5.31,0,0,0,12,6.5,5.46,5.46,0,0,0,6.5,12Z\"/>\n",
              "  </svg>\n",
              "    </button>\n",
              "    <script>\n",
              "      (() => {\n",
              "      const buttonEl =\n",
              "        document.querySelector('#id_58467dc7-acca-4f87-98d0-8e16f71a4c0a button.colab-df-generate');\n",
              "      buttonEl.style.display =\n",
              "        google.colab.kernel.accessAllowed ? 'block' : 'none';\n",
              "\n",
              "      buttonEl.onclick = () => {\n",
              "        google.colab.notebook.generateWithVariable('df_features');\n",
              "      }\n",
              "      })();\n",
              "    </script>\n",
              "  </div>\n",
              "\n",
              "    </div>\n",
              "  </div>\n"
            ],
            "application/vnd.google.colaboratory.intrinsic+json": {
              "type": "dataframe",
              "variable_name": "df_features",
              "summary": "{\n  \"name\": \"df_features\",\n  \"rows\": 4760,\n  \"fields\": [\n    {\n      \"column\": \"Movie_Genre\",\n      \"properties\": {\n        \"dtype\": \"category\",\n        \"num_unique_values\": 1164,\n        \"samples\": [\n          \"Family Animation Adventure\",\n          \"Adventure Science Fiction Action\",\n          \"Action Crime Drama Romance Thriller\"\n        ],\n        \"semantic_type\": \"\",\n        \"description\": \"\"\n      }\n    },\n    {\n      \"column\": \"Movie_Keywords\",\n      \"properties\": {\n        \"dtype\": \"string\",\n        \"num_unique_values\": 4203,\n        \"samples\": [\n          \"canada nazis sequel spin off ancient evil\",\n          \"sex professor wedding woman director columbia university\",\n          \"prophecy sea beach gold small town\"\n        ],\n        \"semantic_type\": \"\",\n        \"description\": \"\"\n      }\n    },\n    {\n      \"column\": \"Movie_Tagline\",\n      \"properties\": {\n        \"dtype\": \"string\",\n        \"num_unique_values\": 3928,\n        \"samples\": [\n          \"The messenger must be silenced.\",\n          \"It's not the house that's haunted.\",\n          \"The final hunt begins.\"\n        ],\n        \"semantic_type\": \"\",\n        \"description\": \"\"\n      }\n    },\n    {\n      \"column\": \"Movie_Cast\",\n      \"properties\": {\n        \"dtype\": \"string\",\n        \"num_unique_values\": 4715,\n        \"samples\": [\n          \"Robin Tunney Fairuza Balk Neve Campbell Rachel True Skeet Ulrich\",\n          \"Peter Sellers Christopher Plummer Herbert Lom Catherine Schell Peter Arne\",\n          \"John Wayne Laraine Day Cedric Hardwicke Judith Anderson Anthony Quinn\"\n        ],\n        \"semantic_type\": \"\",\n        \"description\": \"\"\n      }\n    },\n    {\n      \"column\": \"Movie_Director\",\n      \"properties\": {\n        \"dtype\": \"category\",\n        \"num_unique_values\": 2332,\n        \"samples\": [\n          \"Rob McKittrick\",\n          \"Terron R. Parsons\",\n          \"Cyrus Nowrasteh\"\n        ],\n        \"semantic_type\": \"\",\n        \"description\": \"\"\n      }\n    }\n  ]\n}"
            }
          },
          "metadata": {},
          "execution_count": 11
        }
      ]
    },
    {
      "cell_type": "code",
      "source": [
        "x = df_features['Movie_Genre'] + ' ' + df_features['Movie_Keywords'] + ' ' + df_features['Movie_Tagline'] + ' ' + df_features['Movie_Cast']+ ' ' + df_features['Movie_Director']"
      ],
      "metadata": {
        "id": "h7UepPM5C9LC"
      },
      "execution_count": 12,
      "outputs": []
    },
    {
      "cell_type": "code",
      "source": [
        "x.shape"
      ],
      "metadata": {
        "colab": {
          "base_uri": "https://localhost:8080/"
        },
        "id": "YvjSaShSDG1G",
        "outputId": "321ec0c0-d4c2-4ff2-9f52-574da2f330f4"
      },
      "execution_count": 13,
      "outputs": [
        {
          "output_type": "execute_result",
          "data": {
            "text/plain": [
              "(4760,)"
            ]
          },
          "metadata": {},
          "execution_count": 13
        }
      ]
    },
    {
      "cell_type": "markdown",
      "source": [
        "# **Get Features Text Conversion to Tokens**"
      ],
      "metadata": {
        "id": "b7BLIUGmAkBj"
      }
    },
    {
      "cell_type": "code",
      "source": [
        "from sklearn.feature_extraction.text import TfidfVectorizer"
      ],
      "metadata": {
        "id": "ihspGi8RDIqB"
      },
      "execution_count": 14,
      "outputs": []
    },
    {
      "cell_type": "code",
      "source": [
        "tfidf = TfidfVectorizer()"
      ],
      "metadata": {
        "id": "tGB9IZMdDTs7"
      },
      "execution_count": 15,
      "outputs": []
    },
    {
      "cell_type": "code",
      "source": [
        "x = tfidf.fit_transform(x)"
      ],
      "metadata": {
        "id": "nKivTNxBDWen"
      },
      "execution_count": 16,
      "outputs": []
    },
    {
      "cell_type": "code",
      "source": [
        "x.shape"
      ],
      "metadata": {
        "colab": {
          "base_uri": "https://localhost:8080/"
        },
        "id": "d6nhsokwDZTx",
        "outputId": "c755d3ff-9220-4069-cea1-79b073ffc4f5"
      },
      "execution_count": 17,
      "outputs": [
        {
          "output_type": "execute_result",
          "data": {
            "text/plain": [
              "(4760, 17258)"
            ]
          },
          "metadata": {},
          "execution_count": 17
        }
      ]
    },
    {
      "cell_type": "code",
      "source": [
        "print(x)"
      ],
      "metadata": {
        "colab": {
          "base_uri": "https://localhost:8080/"
        },
        "id": "yyM1RtBfDdaV",
        "outputId": "5a00e2a6-0245-405f-d69d-b320eb45b528"
      },
      "execution_count": 18,
      "outputs": [
        {
          "output_type": "stream",
          "name": "stdout",
          "text": [
            "  (0, 617)\t0.1633382144407513\n",
            "  (0, 492)\t0.1432591540388685\n",
            "  (0, 15413)\t0.1465525095337543\n",
            "  (0, 9675)\t0.14226057295252661\n",
            "  (0, 9465)\t0.1659841367820977\n",
            "  (0, 1390)\t0.16898383612799558\n",
            "  (0, 7825)\t0.09799561597509843\n",
            "  (0, 1214)\t0.13865857545144072\n",
            "  (0, 729)\t0.13415063359531618\n",
            "  (0, 13093)\t0.1432591540388685\n",
            "  (0, 15355)\t0.10477815972666779\n",
            "  (0, 9048)\t0.0866842116160778\n",
            "  (0, 11161)\t0.06250380151644369\n",
            "  (0, 16773)\t0.17654247479915475\n",
            "  (0, 5612)\t0.08603537588547631\n",
            "  (0, 16735)\t0.10690083751525419\n",
            "  (0, 7904)\t0.13348000542112332\n",
            "  (0, 15219)\t0.09800472886453934\n",
            "  (0, 11242)\t0.07277788238484746\n",
            "  (0, 3878)\t0.11998399582562203\n",
            "  (0, 5499)\t0.11454057510303811\n",
            "  (0, 7071)\t0.19822417598406614\n",
            "  (0, 7454)\t0.14745635785412262\n",
            "  (0, 1495)\t0.19712637387361423\n",
            "  (0, 9206)\t0.15186283580984414\n",
            "  :\t:\n",
            "  (4757, 5455)\t0.12491480594769522\n",
            "  (4757, 2967)\t0.16273475835631626\n",
            "  (4757, 8464)\t0.23522565554066333\n",
            "  (4757, 6938)\t0.17088173678136628\n",
            "  (4757, 8379)\t0.17480603856721913\n",
            "  (4757, 15303)\t0.07654356007668191\n",
            "  (4757, 15384)\t0.09754322497537371\n",
            "  (4757, 7649)\t0.11479421494340192\n",
            "  (4757, 10896)\t0.14546473055066447\n",
            "  (4757, 4494)\t0.05675298448720501\n",
            "  (4758, 5238)\t1.0\n",
            "  (4759, 11264)\t0.33947721804318337\n",
            "  (4759, 11708)\t0.33947721804318337\n",
            "  (4759, 205)\t0.3237911628497312\n",
            "  (4759, 8902)\t0.3040290704566037\n",
            "  (4759, 14062)\t0.3237911628497312\n",
            "  (4759, 3058)\t0.2812896191863103\n",
            "  (4759, 7130)\t0.26419662449963793\n",
            "  (4759, 10761)\t0.3126617295732147\n",
            "  (4759, 4358)\t0.18306542312175342\n",
            "  (4759, 14051)\t0.20084315377640435\n",
            "  (4759, 5690)\t0.19534291014627303\n",
            "  (4759, 15431)\t0.19628653185946862\n",
            "  (4759, 1490)\t0.21197258705292082\n",
            "  (4759, 10666)\t0.15888268987343043\n"
          ]
        }
      ]
    },
    {
      "cell_type": "markdown",
      "source": [
        "# **Get Similarity Score Using Cosine Similarity**"
      ],
      "metadata": {
        "id": "3LZGnSKUDliZ"
      }
    },
    {
      "cell_type": "code",
      "source": [
        "from sklearn.metrics.pairwise import cosine_similarity"
      ],
      "metadata": {
        "id": "hmKGPl6fDmzS"
      },
      "execution_count": 19,
      "outputs": []
    },
    {
      "cell_type": "code",
      "source": [
        "Similarity_Score = cosine_similarity(x)"
      ],
      "metadata": {
        "id": "W308ymdpDrDL"
      },
      "execution_count": 20,
      "outputs": []
    },
    {
      "cell_type": "code",
      "source": [
        "Similarity_Score"
      ],
      "metadata": {
        "colab": {
          "base_uri": "https://localhost:8080/"
        },
        "id": "tTrwXRUEDuDe",
        "outputId": "dab56bec-d09f-4293-98fd-c155823c858a"
      },
      "execution_count": 21,
      "outputs": [
        {
          "output_type": "execute_result",
          "data": {
            "text/plain": [
              "array([[1.        , 0.01351235, 0.03570468, ..., 0.        , 0.        ,\n",
              "        0.        ],\n",
              "       [0.01351235, 1.        , 0.00806674, ..., 0.        , 0.        ,\n",
              "        0.        ],\n",
              "       [0.03570468, 0.00806674, 1.        , ..., 0.        , 0.08014876,\n",
              "        0.        ],\n",
              "       ...,\n",
              "       [0.        , 0.        , 0.        , ..., 1.        , 0.        ,\n",
              "        0.        ],\n",
              "       [0.        , 0.        , 0.08014876, ..., 0.        , 1.        ,\n",
              "        0.        ],\n",
              "       [0.        , 0.        , 0.        , ..., 0.        , 0.        ,\n",
              "        1.        ]])"
            ]
          },
          "metadata": {},
          "execution_count": 21
        }
      ]
    },
    {
      "cell_type": "code",
      "source": [
        "Similarity_Score.shape"
      ],
      "metadata": {
        "colab": {
          "base_uri": "https://localhost:8080/"
        },
        "id": "boQnW5IBDyJ3",
        "outputId": "0bb32c73-9662-4749-d162-028ec1b72db2"
      },
      "execution_count": 22,
      "outputs": [
        {
          "output_type": "execute_result",
          "data": {
            "text/plain": [
              "(4760, 4760)"
            ]
          },
          "metadata": {},
          "execution_count": 22
        }
      ]
    },
    {
      "cell_type": "markdown",
      "source": [
        "# **Get Movie Name as Input form User & Validate for Closest Spelling**"
      ],
      "metadata": {
        "id": "N4_64V2_D3cL"
      }
    },
    {
      "cell_type": "code",
      "source": [
        "Favourite_Movie_Name = input(' Enter a movie name :')"
      ],
      "metadata": {
        "colab": {
          "base_uri": "https://localhost:8080/"
        },
        "id": "z3wj9HL2DzfA",
        "outputId": "b2a1400c-5d21-4d60-ed2a-fa15fc263fe6"
      },
      "execution_count": 23,
      "outputs": [
        {
          "name": "stdout",
          "output_type": "stream",
          "text": [
            " Enter a movie name :spider man\n"
          ]
        }
      ]
    },
    {
      "cell_type": "code",
      "source": [
        "All_Movies_Title_List = df['Movie_Title'].tolist()"
      ],
      "metadata": {
        "id": "xVygJI_eEK3d"
      },
      "execution_count": 24,
      "outputs": []
    },
    {
      "cell_type": "code",
      "source": [
        "import difflib"
      ],
      "metadata": {
        "id": "jk9jKvIoEQh7"
      },
      "execution_count": 25,
      "outputs": []
    },
    {
      "cell_type": "code",
      "source": [
        "Movie_Recommendation = difflib.get_close_matches(Favourite_Movie_Name, All_Movies_Title_List)\n",
        "print(Movie_Recommendation)"
      ],
      "metadata": {
        "colab": {
          "base_uri": "https://localhost:8080/"
        },
        "id": "nEr-_2OGEVXf",
        "outputId": "660d7814-c347-4a63-b5bb-47613bdc2dae"
      },
      "execution_count": 26,
      "outputs": [
        {
          "output_type": "stream",
          "name": "stdout",
          "text": [
            "['Spider-Man', 'Inside Man', 'Superman']\n"
          ]
        }
      ]
    },
    {
      "cell_type": "code",
      "source": [
        "Close_Match = Movie_Recommendation[0]\n",
        "print(Close_Match)"
      ],
      "metadata": {
        "colab": {
          "base_uri": "https://localhost:8080/"
        },
        "id": "-d3FCzDREXg2",
        "outputId": "c32607dd-7dce-406a-f3e2-877b10f728f9"
      },
      "execution_count": 27,
      "outputs": [
        {
          "output_type": "stream",
          "name": "stdout",
          "text": [
            "Spider-Man\n"
          ]
        }
      ]
    },
    {
      "cell_type": "code",
      "source": [
        "Index_of_Close_Match_Movie = df[df.Movie_Title == Close_Match]['Movie_ID'].values[0]\n",
        "print(Index_of_Close_Match_Movie)"
      ],
      "metadata": {
        "colab": {
          "base_uri": "https://localhost:8080/"
        },
        "id": "gyl1c6LJEbOF",
        "outputId": "11c78b77-ff73-4513-a0a4-3ee97b98a4b1"
      },
      "execution_count": 28,
      "outputs": [
        {
          "output_type": "stream",
          "name": "stdout",
          "text": [
            "231\n"
          ]
        }
      ]
    },
    {
      "cell_type": "code",
      "source": [
        "Recommendation_Score = list(enumerate(Similarity_Score[Index_of_Close_Match_Movie]))\n",
        "print(Recommendation_Score)"
      ],
      "metadata": {
        "colab": {
          "base_uri": "https://localhost:8080/"
        },
        "id": "bAWBTXXWEdiO",
        "outputId": "089ff515-db3d-429b-cc09-bcdf4f11b441"
      },
      "execution_count": 29,
      "outputs": [
        {
          "output_type": "stream",
          "name": "stdout",
          "text": [
            "[(0, 0.048192034932028796), (1, 0.022239397842472156), (2, 0.03868081482291046), (3, 0.013946922841306442), (4, 0.02303818132402784), (5, 0.0), (6, 0.04947352504954711), (7, 0.04253961936393332), (8, 0.0), (9, 0.03855932635772345), (10, 0.006371160265942887), (11, 0.022610733518003214), (12, 0.02331689653846588), (13, 0.021963139157111403), (14, 0.0), (15, 0.09046403857482033), (16, 0.02119751873591395), (17, 0.02740924953510753), (18, 0.1295577164581832), (19, 0.030518017627306757), (20, 0.0), (21, 0.027937720550624497), (22, 0.015752529945727654), (23, 0.02608473463433892), (24, 0.06102460460334571), (25, 0.053150123981374746), (26, 0.0), (27, 0.00818854123315475), (28, 0.012124090871117146), (29, 0.04283885056068916), (30, 0.0), (31, 0.011582021816637865), (32, 0.03822537782765709), (33, 0.012251574847039889), (34, 0.021186075955647365), (35, 0.05119761899332402), (36, 0.019870754313189437), (37, 0.012653852753878815), (38, 0.006832286565001507), (39, 0.013918295020986399), (40, 0.02450284661072894), (41, 0.0731561660547495), (42, 0.0), (43, 0.043215121372058185), (44, 0.030883501876522966), (45, 0.007481437873593034), (46, 0.012883431009925027), (47, 0.0), (48, 0.006587423119571054), (49, 0.0), (50, 0.0), (51, 0.013378890916813768), (52, 0.0), (53, 0.01878519861622411), (54, 0.06095921579583949), (55, 0.0269610703243775), (56, 0.0424234433757504), (57, 0.05395141126920032), (58, 0.016622329223204207), (59, 0.014281293721756287), (60, 0.03683750118105752), (61, 0.011789417247676407), (62, 0.04907067737974467), (63, 0.02365813168690984), (64, 0.0), (65, 0.02784667657211916), (66, 0.0), (67, 0.052508921822478), (68, 0.03562968793473348), (69, 0.045494278985290605), (70, 0.012072031999685451), (71, 0.025260732355794905), (72, 0.02852174122934425), (73, 0.01748650223185266), (74, 0.0), (75, 0.02623489062955767), (76, 0.013883925236504616), (77, 0.01968968272547623), (78, 0.04196559545072632), (79, 0.05624701944184648), (80, 0.02398475929021048), (81, 0.012201788125378366), (82, 0.03372788767508211), (83, 0.01607670517713805), (84, 0.005853685543753394), (85, 0.1439529636391116), (86, 0.05241310422667557), (87, 0.037314699232427855), (88, 0.039757794388699946), (89, 0.022752870321483112), (90, 0.01355465560202051), (91, 0.006978695751445752), (92, 0.026165228189151193), (93, 0.013276303361772069), (94, 0.012729252872331245), (95, 0.014258665335150014), (96, 0.03219957744128209), (97, 0.0), (98, 0.0), (99, 0.0), (100, 0.02207029580124255), (101, 0.024109513073181953), (102, 0.032044358845366064), (103, 0.0), (104, 0.06804580276672925), (105, 0.0400009800684464), (106, 0.024425044667615414), (107, 0.0), (108, 0.05600449243444047), (109, 0.040772228331687844), (110, 0.0), (111, 0.0), (112, 0.019601354640365727), (113, 0.03257921510870265), (114, 0.027752865025159553), (115, 0.0), (116, 0.023271796822787922), (117, 0.011760318333656756), (118, 0.06630088876230524), (119, 0.02916414572216311), (120, 0.0), (121, 0.035627137010024484), (122, 0.11335443454529104), (123, 0.03675598987071463), (124, 0.02897279847105977), (125, 0.08657200499063228), (126, 0.0), (127, 0.0), (128, 0.020294415061355615), (129, 0.022971091902132725), (130, 0.09736731107511555), (131, 0.016073312326903524), (132, 0.021059054518507554), (133, 0.0), (134, 0.0), (135, 0.005973368787478438), (136, 0.03685939458489042), (137, 0.030606687908509185), (138, 0.01954922301442904), (139, 0.0067077529955047715), (140, 0.0), (141, 0.02523925860931166), (142, 0.035938093204796545), (143, 0.017849843833630526), (144, 0.0207580748206216), (145, 0.0), (146, 0.0), (147, 0.013725665256973604), (148, 0.00542528435220814), (149, 0.0), (150, 0.047611388032315766), (151, 0.014318810411652248), (152, 0.04538376856595861), (153, 0.046566390378736014), (154, 0.0), (155, 0.0870419961141004), (156, 0.02185409240123582), (157, 0.026302149478739927), (158, 0.025092192047451216), (159, 0.017095709072896818), (160, 0.02830353303582201), (161, 0.04098134848768783), (162, 0.0364394731682105), (163, 0.01652633452462829), (164, 0.015096043035321471), (165, 0.011982645224028862), (166, 0.0), (167, 0.02540190784499903), (168, 0.021143110289762373), (169, 0.08120046849425627), (170, 0.0054168814250495365), (171, 0.013157725110978378), (172, 0.03877672614754821), (173, 0.04594463958665953), (174, 0.01567050020290268), (175, 0.013396348723400115), (176, 0.0), (177, 0.02370423749530141), (178, 0.07526774949282761), (179, 0.019055034125974212), (180, 0.019149144623813643), (181, 0.11127059677257947), (182, 0.03931590403668121), (183, 0.014549894642652321), (184, 0.04832579283720957), (185, 0.02245111136289045), (186, 0.021541266805804243), (187, 0.0), (188, 0.011863339208705853), (189, 0.014354050959498942), (190, 0.0), (191, 0.04531763146340347), (192, 0.027506813468952354), (193, 0.08862889190985164), (194, 0.029260401682472487), (195, 0.0), (196, 0.0), (197, 0.01497975239373387), (198, 0.03296974238056368), (199, 0.04228920061222648), (200, 0.017830813562228078), (201, 0.014462031566122047), (202, 0.007242327158149682), (203, 0.02088675534953779), (204, 0.07017965709665369), (205, 0.0), (206, 0.025730791221911783), (207, 0.0), (208, 0.031559258775629095), (209, 0.016008564852006125), (210, 0.006443332906971095), (211, 0.01329156477537048), (212, 0.02222952193094727), (213, 0.0), (214, 0.0), (215, 0.0), (216, 0.027140070643962132), (217, 0.017830540432380738), (218, 0.10362817184492426), (219, 0.008020487094151622), (220, 0.029404802139126482), (221, 0.0), (222, 0.062286842597421205), (223, 0.01638530399650242), (224, 0.026415064773248096), (225, 0.0273180870199353), (226, 0.015255047929432653), (227, 0.036925039188623485), (228, 0.01798971722134177), (229, 0.07350135253350966), (230, 0.3178625005037518), (231, 1.0), (232, 0.48984076807387517), (233, 0.01958312149359824), (234, 0.034414270224256374), (235, 0.029487473275682803), (236, 0.03666892404770872), (237, 0.03306353240083404), (238, 0.032945125067257844), (239, 0.020068521852958376), (240, 0.010216082751139026), (241, 0.0372002657575645), (242, 0.02056088393399249), (243, 0.011169338133583147), (244, 0.005848587821261503), (245, 0.012632114035571062), (246, 0.0), (247, 0.04248086224580047), (248, 0.014676754649118199), (249, 0.0), (250, 0.0), (251, 0.02305782518630438), (252, 0.03508819063526869), (253, 0.016680960991522283), (254, 0.013573796666833476), (255, 0.012895981894427953), (256, 0.0), (257, 0.017308308563094885), (258, 0.013955977868001498), (259, 0.005944278553429026), (260, 0.013147413748271353), (261, 0.013373596062572532), (262, 0.0), (263, 0.05426532704434508), (264, 0.04153541673488036), (265, 0.0), (266, 0.025299389278505915), (267, 0.0), (268, 0.0), (269, 0.0904194078435786), (270, 0.0), (271, 0.03494440937921514), (272, 0.0), (273, 0.030201057741832158), (274, 0.01751827519485433), (275, 0.08694008016491298), (276, 0.013071500375742905), (277, 0.05564706222552354), (278, 0.038850771070449534), (279, 0.03414128511639959), (280, 0.015823369548961082), (281, 0.0), (282, 0.015629360779184517), (283, 0.04266306498348785), (284, 0.04316231628470036), (285, 0.009996167294583065), (286, 0.017676432242994148), (287, 0.014886283154156701), (288, 0.04253527948834305), (289, 0.011125156958249699), (290, 0.011311130732945682), (291, 0.0), (292, 0.028840866816446802), (293, 0.0), (294, 0.011036751801574065), (295, 0.043869278922365036), (296, 0.028261498957593525), (297, 0.04861197268286063), (298, 0.08643654882878393), (299, 0.04557571783400407), (300, 0.03400102894484398), (301, 0.0377522412191412), (302, 0.01155755810384874), (303, 0.03321475352689937), (304, 0.0), (305, 0.013847947282253097), (306, 0.024117916465109156), (307, 0.05881697624891971), (308, 0.0), (309, 0.03151125209783468), (310, 0.01331777848003421), (311, 0.010359656175181201), (312, 0.0), (313, 0.01644153988365812), (314, 0.011619631563328708), (315, 0.040162920338320064), (316, 0.04312991773069025), (317, 0.03744771557920124), (318, 0.013896630992934375), (319, 0.01394215456556288), (320, 0.02744227960277356), (321, 0.028852523420849673), (322, 0.05646656327182124), (323, 0.03710258518470233), (324, 0.0370126137196036), (325, 0.023653734112157234), (326, 0.042312802655460766), (327, 0.04900330767526642), (328, 0.05622145837768489), (329, 0.03078027347662733), (330, 0.043847877381147225), (331, 0.0), (332, 0.04639705060948922), (333, 0.015135171633071367), (334, 0.05045012701413608), (335, 0.0), (336, 0.03553825377726976), (337, 0.07415466119282858), (338, 0.11226711549347486), (339, 0.09062017581237491), (340, 0.038345596174588326), (341, 0.017082226049267343), (342, 0.04592658695286144), (343, 0.06785765079885263), (344, 0.0), (345, 0.018337191411461035), (346, 0.03092483336648621), (347, 0.020247921243952176), (348, 0.0), (349, 0.0), (350, 0.03657402427179237), (351, 0.008420726010835823), (352, 0.028372361229119555), (353, 0.04834609662607628), (354, 0.03315051675409046), (355, 0.06994303495050219), (356, 0.08078999701261873), (357, 0.0), (358, 0.04283670088929924), (359, 0.06142062190727071), (360, 0.0), (361, 0.021043693006323312), (362, 0.03407363167095308), (363, 0.038998271233753545), (364, 0.0067816906575898575), (365, 0.03613570354460864), (366, 0.0), (367, 0.0), (368, 0.009462142537463959), (369, 0.0), (370, 0.0), (371, 0.0), (372, 0.0), (373, 0.03565009842989911), (374, 0.04345578339970724), (375, 0.017709766107301926), (376, 0.01069773970941067), (377, 0.024474115390345934), (378, 0.0), (379, 0.012765334263664125), (380, 0.0), (381, 0.05814845322302937), (382, 0.02373245202756657), (383, 0.029989306839835774), (384, 0.02772291684764099), (385, 0.1290099707445729), (386, 0.022745080386697137), (387, 0.0), (388, 0.0), (389, 0.0), (390, 0.028025806088130767), (391, 0.04309571105476772), (392, 0.029335765431395124), (393, 0.012276788408814346), (394, 0.005109248036898389), (395, 0.01281179306262512), (396, 0.01060640346079386), (397, 0.012673800986200806), (398, 0.0), (399, 0.05791124622767264), (400, 0.02017315325083271), (401, 0.032194764527083905), (402, 0.019340210728608365), (403, 0.02280195100609738), (404, 0.03710582169222679), (405, 0.0), (406, 0.029160239484044163), (407, 0.045864887532216236), (408, 0.0), (409, 0.007257478128424498), (410, 0.02709190411624691), (411, 0.01644801003385254), (412, 0.012961169965422048), (413, 0.04025657747833852), (414, 0.02088095696815259), (415, 0.012612780172685816), (416, 0.0), (417, 0.012875444224668606), (418, 0.034436291477328684), (419, 0.008878208136536635), (420, 0.0), (421, 0.006096532252573496), (422, 0.0), (423, 0.0), (424, 0.01573870013052139), (425, 0.047055029591083555), (426, 0.03879629486527003), (427, 0.0), (428, 0.021440279935305694), (429, 0.0), (430, 0.024732413601896357), (431, 0.0), (432, 0.0), (433, 0.0485451807360759), (434, 0.037527722545696474), (435, 0.03358246507178597), (436, 0.0), (437, 0.030107126116026645), (438, 0.01649697471502857), (439, 0.0), (440, 0.013785436557263187), (441, 0.013110152750759258), (442, 0.06221166517312272), (443, 0.0), (444, 0.015446679280666264), (445, 0.013581415556093834), (446, 0.027489784014330054), (447, 0.0), (448, 0.04116908161213853), (449, 0.06332373786017106), (450, 0.0), (451, 0.03992625013401556), (452, 0.0343377779217899), (453, 0.0), (454, 0.011801756363778637), (455, 0.048170702315882406), (456, 0.026124225655403843), (457, 0.007234995408126414), (458, 0.006670856533133899), (459, 0.0), (460, 0.0), (461, 0.009335040414247877), (462, 0.0), (463, 0.01470308361241147), (464, 0.13872777729007718), (465, 0.0390442073417279), (466, 0.028789748302122317), (467, 0.028703784607231813), (468, 0.027816743385710684), (469, 0.011455248376670665), (470, 0.023037843705793013), (471, 0.011875055730276345), (472, 0.0675192165215773), (473, 0.0), (474, 0.0), (475, 0.07909113252455809), (476, 0.013518397041643511), (477, 0.046096580415453316), (478, 0.013937577225150875), (479, 0.0), (480, 0.03308183288962443), (481, 0.0), (482, 0.029413438050208775), (483, 0.012608018557577977), (484, 0.007969917210947438), (485, 0.016350324200366303), (486, 0.013313173574654807), (487, 0.0640691593467269), (488, 0.0), (489, 0.0), (490, 0.1087131111669766), (491, 0.07894313912514703), (492, 0.01673063266511199), (493, 0.02617982138736632), (494, 0.01709385086912087), (495, 0.015849385608999348), (496, 0.048346422701838504), (497, 0.01233511215768289), (498, 0.03512120287918933), (499, 0.013402149942360976), (500, 0.005829402121404953), (501, 0.012447180850065742), (502, 0.0), (503, 0.0), (504, 0.02030154540945624), (505, 0.0), (506, 0.05827262242786227), (507, 0.0), (508, 0.04325270780026623), (509, 0.015646498336066624), (510, 0.0), (511, 0.028897442313028914), (512, 0.007105791863948422), (513, 0.006498994810625167), (514, 0.04496405672003787), (515, 0.005388953957039944), (516, 0.006231778359608513), (517, 0.027371182528453365), (518, 0.0), (519, 0.038487218273877924), (520, 0.0), (521, 0.02996426888611322), (522, 0.0358892799169757), (523, 0.016677135952661536), (524, 0.02179075741964749), (525, 0.08177321196415771), (526, 0.03285177874970581), (527, 0.03609433376813394), (528, 0.04180806007422971), (529, 0.012794752762512752), (530, 0.06145830500765262), (531, 0.0), (532, 0.028673699722871454), (533, 0.020575744230349125), (534, 0.03318098278347647), (535, 0.0), (536, 0.0), (537, 0.08145901147901877), (538, 0.07963921099250718), (539, 0.01356407901161863), (540, 0.012793157201131073), (541, 0.0), (542, 0.050664755918833855), (543, 0.0), (544, 0.0), (545, 0.016620646136494464), (546, 0.019127204950591576), (547, 0.04864858588458512), (548, 0.037153706460036684), (549, 0.022038488875212044), (550, 0.053030762045676264), (551, 0.048797869459849416), (552, 0.0), (553, 0.059493211286586065), (554, 0.005799378296841079), (555, 0.056840060251645175), (556, 0.0), (557, 0.0), (558, 0.0), (559, 0.0), (560, 0.005996591207174239), (561, 0.024246276241369595), (562, 0.029408099106785743), (563, 0.011104809491578185), (564, 0.0), (565, 0.10643317531954535), (566, 0.05817886939306314), (567, 0.08070975330569402), (568, 0.049720602736899114), (569, 0.023642184332626163), (570, 0.03524282955514404), (571, 0.0), (572, 0.08484729260054492), (573, 0.0), (574, 0.0), (575, 0.0), (576, 0.0), (577, 0.012416186501411042), (578, 0.0), (579, 0.0460132441023952), (580, 0.0), (581, 0.0), (582, 0.06797693569043003), (583, 0.01438235627987051), (584, 0.04176053748502165), (585, 0.0), (586, 0.02065032553868014), (587, 0.0), (588, 0.0), (589, 0.01178496813409149), (590, 0.02374103532115292), (591, 0.015222500647230882), (592, 0.026206985781340723), (593, 0.0), (594, 0.11390433321704646), (595, 0.006575114463510275), (596, 0.0), (597, 0.026723238010337158), (598, 0.07660004305590459), (599, 0.022875888362037845), (600, 0.047333350660044245), (601, 0.011824903254449605), (602, 0.021699671089351714), (603, 0.014743290858848302), (604, 0.012749903777534516), (605, 0.02090103445689871), (606, 0.0), (607, 0.0), (608, 0.0071456179089213435), (609, 0.044022218112823676), (610, 0.025654428157566203), (611, 0.0), (612, 0.016198907228626585), (613, 0.025433069994357082), (614, 0.06146620484990244), (615, 0.11453946511868227), (616, 0.03653225575665032), (617, 0.010397542626304622), (618, 0.06874508237809879), (619, 0.005950802243922946), (620, 0.045129208619402096), (621, 0.03386154083713052), (622, 0.05238541893201114), (623, 0.0162042924772784), (624, 0.0), (625, 0.0), (626, 0.0), (627, 0.010674086375669281), (628, 0.0), (629, 0.023230330741463783), (630, 0.049338896119417636), (631, 0.05149821434859181), (632, 0.005403312630629989), (633, 0.0), (634, 0.03305558272104078), (635, 0.04549169748521116), (636, 0.012842307698175267), (637, 0.0275241397884049), (638, 0.0), (639, 0.021788256784585493), (640, 0.02160083697710342), (641, 0.017005711886373287), (642, 0.0), (643, 0.027307153502489433), (644, 0.017023044004281458), (645, 0.0), (646, 0.0), (647, 0.009684077798306443), (648, 0.08170783252021115), (649, 0.012051496048522745), (650, 0.007380608592856866), (651, 0.02108870113501052), (652, 0.0), (653, 0.02793178609055949), (654, 0.006301157631674742), (655, 0.0), (656, 0.019219036539949667), (657, 0.04447933991931479), (658, 0.0), (659, 0.0), (660, 0.026566087181059166), (661, 0.02039810664448271), (662, 0.01157787346751756), (663, 0.03938518251887165), (664, 0.034008448384432774), (665, 0.012744542957780942), (666, 0.09313464897115993), (667, 0.0), (668, 0.013461806899620014), (669, 0.020098350960430063), (670, 0.039629711773443196), (671, 0.037218930979933694), (672, 0.02200109976225514), (673, 0.006524119400515143), (674, 0.025577612553054237), (675, 0.0), (676, 0.011939228985738232), (677, 0.008639011469001357), (678, 0.0), (679, 0.0), (680, 0.0), (681, 0.04766850478885519), (682, 0.006723861921807471), (683, 0.03630276170718116), (684, 0.027223832733606484), (685, 0.0), (686, 0.008712246022927314), (687, 0.013265882456889462), (688, 0.006622816064676542), (689, 0.015777835167221737), (690, 0.005562444592772855), (691, 0.02174282782506783), (692, 0.03887891394095246), (693, 0.012376542582801296), (694, 0.0), (695, 0.0), (696, 0.0), (697, 0.07071191994278238), (698, 0.034504753384516196), (699, 0.055610451793292444), (700, 0.03570136997496948), (701, 0.013747089392278812), (702, 0.03339878291153208), (703, 0.010607169130586677), (704, 0.0), (705, 0.04633167582721836), (706, 0.08363295658505132), (707, 0.029957705157942827), (708, 0.0), (709, 0.05069342430768501), (710, 0.043711891880624375), (711, 0.0), (712, 0.010550051082969787), (713, 0.026378657466714524), (714, 0.040088955616011626), (715, 0.08843669988110434), (716, 0.014535574811816221), (717, 0.02596704103893055), (718, 0.0), (719, 0.04891071539791298), (720, 0.019066335985961698), (721, 0.0), (722, 0.0), (723, 0.005061090191258752), (724, 0.01968747830713226), (725, 0.05402057696257037), (726, 0.016576085000118642), (727, 0.03300687926812425), (728, 0.006448215984208621), (729, 0.006666713230817247), (730, 0.03920377960225037), (731, 0.0), (732, 0.02401548383129668), (733, 0.0), (734, 0.014857895704081577), (735, 0.0), (736, 0.012021358265577143), (737, 0.06508103404637874), (738, 0.015070277387583837), (739, 0.0), (740, 0.0), (741, 0.01207445332990579), (742, 0.040830783729453174), (743, 0.0), (744, 0.02420938659569377), (745, 0.03159956941059235), (746, 0.0), (747, 0.0), (748, 0.03843912970415973), (749, 0.005982104538498641), (750, 0.03517325292630344), (751, 0.05027030244115753), (752, 0.045063917933726605), (753, 0.00693030504705163), (754, 0.0), (755, 0.014827313950734933), (756, 0.08828878227612852), (757, 0.02534521202213485), (758, 0.03650594015397693), (759, 0.025103732300668768), (760, 0.01458772486617277), (761, 0.0), (762, 0.055476091332641954), (763, 0.06466645643308512), (764, 0.0), (765, 0.10036209783206555), (766, 0.014679345782346101), (767, 0.0), (768, 0.012563256824794575), (769, 0.02623145376097146), (770, 0.011029423991926739), (771, 0.0), (772, 0.024398241060405678), (773, 0.011913384675627617), (774, 0.05450498956252812), (775, 0.03874887235678408), (776, 0.013925327662016321), (777, 0.0), (778, 0.037279849675356254), (779, 0.03272197533364276), (780, 0.05158855932012027), (781, 0.012575747854554065), (782, 0.036175827361686154), (783, 0.0), (784, 0.0), (785, 0.0), (786, 0.0), (787, 0.018183812090254863), (788, 0.04044036358390805), (789, 0.0), (790, 0.010697638903064969), (791, 0.0), (792, 0.011740607357298791), (793, 0.028793037863688378), (794, 0.06301455255001603), (795, 0.007066231498851012), (796, 0.0), (797, 0.0), (798, 0.0), (799, 0.0), (800, 0.019633526411576462), (801, 0.0), (802, 0.0), (803, 0.005343425299502804), (804, 0.015304331685033435), (805, 0.011388119035567645), (806, 0.014306540191938902), (807, 0.020488077435259697), (808, 0.04142275884093585), (809, 0.022425090974654515), (810, 0.011880579953826778), (811, 0.01289197242399781), (812, 0.08139917399626785), (813, 0.0), (814, 0.061329368838298204), (815, 0.0), (816, 0.0), (817, 0.015352691134194405), (818, 0.019234307648116043), (819, 0.030444816500816443), (820, 0.0), (821, 0.03733270372411728), (822, 0.03839744115147373), (823, 0.017586163256215735), (824, 0.031118097383356132), (825, 0.0057983577888770475), (826, 0.027917037569713712), (827, 0.005671646743083782), (828, 0.0), (829, 0.03019712686650907), (830, 0.022952530390586017), (831, 0.0), (832, 0.052622685729868446), (833, 0.039722541764009994), (834, 0.04209868602014946), (835, 0.04013099486264675), (836, 0.010527158361615158), (837, 0.00946671931192115), (838, 0.0654784516980958), (839, 0.012470025803240125), (840, 0.014771415125440012), (841, 0.03229203097530557), (842, 0.024259249855980495), (843, 0.044089095566751044), (844, 0.01709998768424792), (845, 0.006258947797681864), (846, 0.03562407373512926), (847, 0.018192739516946853), (848, 0.006029341154262521), (849, 0.025785670405639075), (850, 0.10974516306838092), (851, 0.015698395317943502), (852, 0.0075405795500007086), (853, 0.012266337441730423), (854, 0.026543657336555126), (855, 0.0), (856, 0.017709412074136777), (857, 0.0), (858, 0.0), (859, 0.02292864651274168), (860, 0.0), (861, 0.03067089213274727), (862, 0.0), (863, 0.0), (864, 0.016030910022180166), (865, 0.015666009005193497), (866, 0.005557877662617989), (867, 0.04630765368821699), (868, 0.0298564169687667), (869, 0.006129733705976564), (870, 0.030431657204703755), (871, 0.042084750123486024), (872, 0.014839425885689032), (873, 0.0), (874, 0.043194836260509475), (875, 0.04552441329656228), (876, 0.029819450406190127), (877, 0.0), (878, 0.018740795888183122), (879, 0.02277982519147399), (880, 0.0485653439264946), (881, 0.008706619055468441), (882, 0.03546073858231588), (883, 0.03675332235466445), (884, 0.0), (885, 0.0), (886, 0.0), (887, 0.01298416527414874), (888, 0.0), (889, 0.0), (890, 0.014458458994098653), (891, 0.017923861855990063), (892, 0.04115608479486833), (893, 0.0), (894, 0.019990027038054997), (895, 0.05405864743342859), (896, 0.013453377452018227), (897, 0.031358677735737514), (898, 0.02353445937589552), (899, 0.07834306530518527), (900, 0.026722806802002716), (901, 0.0), (902, 0.04963494886418773), (903, 0.007389168379169947), (904, 0.007037608670609071), (905, 0.006915850743058798), (906, 0.08331741900244909), (907, 0.0), (908, 0.006107586752400658), (909, 0.02003642453833914), (910, 0.0), (911, 0.024799213843835807), (912, 0.02020581357744584), (913, 0.00634159487440848), (914, 0.05690210964094056), (915, 0.026678194299655178), (916, 0.03356592421144932), (917, 0.030119056798294172), (918, 0.04477932174964286), (919, 0.03911645200706816), (920, 0.007236620627135955), (921, 0.059638981297426306), (922, 0.05258064677473996), (923, 0.04775490881361355), (924, 0.05026061549996892), (925, 0.0), (926, 0.006148290110804516), (927, 0.03829206100922525), (928, 0.050333195625031246), (929, 0.02289424284322744), (930, 0.0), (931, 0.12391107668668393), (932, 0.0), (933, 0.0), (934, 0.04014154055788463), (935, 0.007332083020434026), (936, 0.053459968258868416), (937, 0.0), (938, 0.015293308518615309), (939, 0.01307599825302493), (940, 0.019460312049732843), (941, 0.0), (942, 0.0), (943, 0.0), (944, 0.027130882652749162), (945, 0.025211410359050605), (946, 0.024777300390262928), (947, 0.008064595292545565), (948, 0.039045116299101665), (949, 0.03351897418861278), (950, 0.014856845219818686), (951, 0.01673533462264228), (952, 0.05144915331028412), (953, 0.00961459899324358), (954, 0.023060938670474335), (955, 0.0), (956, 0.015186859232570753), (957, 0.09176899475641409), (958, 0.05136593832652119), (959, 0.0), (960, 0.0), (961, 0.012354895076544305), (962, 0.02550898741332324), (963, 0.03467992351629806), (964, 0.0), (965, 0.013831087855546013), (966, 0.04007313677646811), (967, 0.024106760971391847), (968, 0.04026135533189219), (969, 0.020781185849855537), (970, 0.04183375916129274), (971, 0.02576490926028369), (972, 0.021426536904256402), (973, 0.01252814517897262), (974, 0.005596647754810297), (975, 0.02380854648911956), (976, 0.0), (977, 0.03882090599752491), (978, 0.0), (979, 0.014028628822001312), (980, 0.020856131385179028), (981, 0.015318880416377141), (982, 0.0), (983, 0.012489245844675948), (984, 0.014512680504861809), (985, 0.0), (986, 0.005973946963534997), (987, 0.0), (988, 0.04747659872583759), (989, 0.019848146841790607), (990, 0.050532633567525416), (991, 0.012818098192667231), (992, 0.04333154428112729), (993, 0.0), (994, 0.047090283415816905), (995, 0.04419047135052496), (996, 0.008436242635473615), (997, 0.015303381984073092), (998, 0.02920110976683543), (999, 0.03128181457190007), (1000, 0.015304632026167664), (1001, 0.013210979360889736), (1002, 0.0), (1003, 0.0), (1004, 0.036174675854720055), (1005, 0.016695915449036796), (1006, 0.0325145333073721), (1007, 0.03585609376425616), (1008, 0.009457666287784506), (1009, 0.16227924169949576), (1010, 0.005056567711859682), (1011, 0.02455683239432836), (1012, 0.029447835002690173), (1013, 0.031400659343070014), (1014, 0.02530694511828142), (1015, 0.023612064539160156), (1016, 0.06856238731951242), (1017, 0.021231314196857514), (1018, 0.013834572201550495), (1019, 0.015054709961863038), (1020, 0.015220561634729384), (1021, 0.02961166178831913), (1022, 0.018833585096831314), (1023, 0.04013667951089474), (1024, 0.006226810854958622), (1025, 0.012353978202283771), (1026, 0.04939027553232554), (1027, 0.0), (1028, 0.0), (1029, 0.010444582888526541), (1030, 0.0), (1031, 0.006356486783762288), (1032, 0.0), (1033, 0.057809362947269495), (1034, 0.0), (1035, 0.0058079749411549765), (1036, 0.0), (1037, 0.01290547706009927), (1038, 0.041657248129337465), (1039, 0.0), (1040, 0.009931865279751179), (1041, 0.014321492350550543), (1042, 0.02607178879169612), (1043, 0.04705926944585394), (1044, 0.005791510135480206), (1045, 0.06136573196003685), (1046, 0.0441351162437572), (1047, 0.0), (1048, 0.03234086295307362), (1049, 0.0), (1050, 0.006715628845013169), (1051, 0.02424481893687032), (1052, 0.0), (1053, 0.0), (1054, 0.005645302153254662), (1055, 0.01090364596543939), (1056, 0.006504693030157121), (1057, 0.037971011284147684), (1058, 0.0), (1059, 0.0), (1060, 0.0), (1061, 0.013735511453739777), (1062, 0.0), (1063, 0.013392892782378454), (1064, 0.0), (1065, 0.005464331545623824), (1066, 0.005506226663690197), (1067, 0.0189075591849911), (1068, 0.026060832674195157), (1069, 0.039930327866430845), (1070, 0.0), (1071, 0.0), (1072, 0.0), (1073, 0.0), (1074, 0.10131830813783632), (1075, 0.016712504054664203), (1076, 0.005762936555815456), (1077, 0.028789036207640617), (1078, 0.0), (1079, 0.007249054146894022), (1080, 0.0), (1081, 0.02550907553733054), (1082, 0.005871641070326799), (1083, 0.0), (1084, 0.012460176919154436), (1085, 0.00803625099045371), (1086, 0.0), (1087, 0.024143188688692405), (1088, 0.0), (1089, 0.015241686493385708), (1090, 0.09853128040267053), (1091, 0.015175125275246008), (1092, 0.0049831081532369405), (1093, 0.01840197542062638), (1094, 0.07003572231454921), (1095, 0.014177975536687898), (1096, 0.033621669911511), (1097, 0.02141349804810851), (1098, 0.0), (1099, 0.031520965130768255), (1100, 0.010854564469015804), (1101, 0.0), (1102, 0.005933552421243606), (1103, 0.0), (1104, 0.0), (1105, 0.01406909146731403), (1106, 0.0), (1107, 0.0), (1108, 0.014143315693167326), (1109, 0.013655673148347985), (1110, 0.0), (1111, 0.1045022646246147), (1112, 0.0), (1113, 0.013381267967874595), (1114, 0.08610025192142264), (1115, 0.03619782499562082), (1116, 0.01680712581613632), (1117, 0.025148383066865804), (1118, 0.04525510292061705), (1119, 0.0), (1120, 0.0), (1121, 0.01911480098852781), (1122, 0.006086661717467874), (1123, 0.02448100863332226), (1124, 0.029631281718234724), (1125, 0.0), (1126, 0.020340694066135034), (1127, 0.005884326988365021), (1128, 0.01554541927377303), (1129, 0.06353672704208276), (1130, 0.010815303608769073), (1131, 0.0), (1132, 0.019349512395220612), (1133, 0.011013496628760146), (1134, 0.06153297293975052), (1135, 0.025727630246800415), (1136, 0.013908472501765074), (1137, 0.021476633598499047), (1138, 0.006047681191072989), (1139, 0.0), (1140, 0.0), (1141, 0.02334339057852252), (1142, 0.012509949152527473), (1143, 0.013756542688191039), (1144, 0.0126485188827535), (1145, 0.0), (1146, 0.015339744652241123), (1147, 0.0), (1148, 0.013904593898057805), (1149, 0.01172271252599502), (1150, 0.027830469436988532), (1151, 0.013899072871976021), (1152, 0.0), (1153, 0.004191767653801747), (1154, 0.005328825295013996), (1155, 0.037021050255055254), (1156, 0.0), (1157, 0.10483327556108517), (1158, 0.0), (1159, 0.0), (1160, 0.0), (1161, 0.0), (1162, 0.054574833837384), (1163, 0.0), (1164, 0.004861275317966661), (1165, 0.03484788676105395), (1166, 0.012962184984218764), (1167, 0.0), (1168, 0.0), (1169, 0.0), (1170, 0.0), (1171, 0.04129738614782358), (1172, 0.11423490860486286), (1173, 0.026901186078080685), (1174, 0.006111833847828941), (1175, 0.032839702940030524), (1176, 0.01218929120362654), (1177, 0.0), (1178, 0.048103018696389305), (1179, 0.013859477540777536), (1180, 0.018796339110409382), (1181, 0.0), (1182, 0.01618644731594994), (1183, 0.005549249192524631), (1184, 0.0), (1185, 0.014603645265277226), (1186, 0.0), (1187, 0.0), (1188, 0.0), (1189, 0.0), (1190, 0.01135301282741868), (1191, 0.0), (1192, 0.03260732346569125), (1193, 0.0), (1194, 0.02074844801635963), (1195, 0.048435210210232386), (1196, 0.011863343592346571), (1197, 0.0), (1198, 0.04549121120062449), (1199, 0.03557962669586588), (1200, 0.011558191844881223), (1201, 0.0), (1202, 0.0), (1203, 0.0), (1204, 0.0), (1205, 0.013103506878992078), (1206, 0.02956875726753836), (1207, 0.032520897462245825), (1208, 0.0162119552070564), (1209, 0.011552592452835677), (1210, 0.010079440522733372), (1211, 0.013136180155920878), (1212, 0.024980918494691237), (1213, 0.009695527945906892), (1214, 0.04904991824215654), (1215, 0.04577819397328078), (1216, 0.034110729605084114), (1217, 0.0), (1218, 0.032221644028047974), (1219, 0.01950855238632046), (1220, 0.014319072086224674), (1221, 0.006553646305834083), (1222, 0.017067955733971983), (1223, 0.011987477463930878), (1224, 0.027271091678256844), (1225, 0.014622983625667583), (1226, 0.021623440664557313), (1227, 0.03566175297403821), (1228, 0.023335878768092025), (1229, 0.031955394071960935), (1230, 0.005738391476216095), (1231, 0.007553795027574268), (1232, 0.0), (1233, 0.02737298274665447), (1234, 0.021559953119760222), (1235, 0.013463993824000665), (1236, 0.02511565283264185), (1237, 0.04056440053711625), (1238, 0.04380715004855046), (1239, 0.06528110068832024), (1240, 0.028596464908149467), (1241, 0.004914799077377983), (1242, 0.035768774782231), (1243, 0.0), (1244, 0.027000602324418636), (1245, 0.037063185402056886), (1246, 0.03648829257462611), (1247, 0.013390002756814883), (1248, 0.010604438003359149), (1249, 0.08330674914325034), (1250, 0.02834080632943466), (1251, 0.0), (1252, 0.0318069917149945), (1253, 0.02855292197362698), (1254, 0.08180058995348134), (1255, 0.015074032760934528), (1256, 0.02290251811728776), (1257, 0.03715799973794478), (1258, 0.03121439085987189), (1259, 0.025640463139056796), (1260, 0.0), (1261, 0.011561550376762469), (1262, 0.0296470153795972), (1263, 0.05274197690636783), (1264, 0.0), (1265, 0.09632295181099611), (1266, 0.03836951813727983), (1267, 0.026006228917657935), (1268, 0.020621748592040367), (1269, 0.057041499839069386), (1270, 0.03165125850078927), (1271, 0.0), (1272, 0.0077669990478915285), (1273, 0.04980954843890261), (1274, 0.005677695513306746), (1275, 0.01420984731630893), (1276, 0.004459250579822842), (1277, 0.008253697044066246), (1278, 0.07431607799669437), (1279, 0.12261493636104243), (1280, 0.014760254861704104), (1281, 0.005456737659921135), (1282, 0.0), (1283, 0.03352135054117502), (1284, 0.02125504725097172), (1285, 0.032163902444553805), (1286, 0.0), (1287, 0.007594820790309349), (1288, 0.007172344515030306), (1289, 0.0), (1290, 0.005296543687926715), (1291, 0.021631260651424948), (1292, 0.08715225834724116), (1293, 0.04382092873595698), (1294, 0.0), (1295, 0.023123445559224166), (1296, 0.03747923809558619), (1297, 0.0), (1298, 0.0), (1299, 0.016016105451778558), (1300, 0.0), (1301, 0.012110000219319132), (1302, 0.02215440336202553), (1303, 0.0), (1304, 0.0), (1305, 0.07164598074102768), (1306, 0.011565241260998803), (1307, 0.02234807139921337), (1308, 0.04404192274173935), (1309, 0.011863310262582912), (1310, 0.051925901096451274), (1311, 0.0), (1312, 0.013388310382599026), (1313, 0.0), (1314, 0.05285549658077264), (1315, 0.013482803791848814), (1316, 0.03716012971424385), (1317, 0.012854114889316844), (1318, 0.0), (1319, 0.0), (1320, 0.014067073443445564), (1321, 0.04773719614175562), (1322, 0.015531329232318217), (1323, 0.0), (1324, 0.014786029868850109), (1325, 0.0), (1326, 0.0323433470661583), (1327, 0.0225823431364282), (1328, 0.01461736829746877), (1329, 0.04326010432739253), (1330, 0.0), (1331, 0.0), (1332, 0.03413367555402126), (1333, 0.008406243444618756), (1334, 0.07169190333119227), (1335, 0.006038039505913791), (1336, 0.0249410378230527), (1337, 0.0061011063305066796), (1338, 0.005880139059518985), (1339, 0.0), (1340, 0.0), (1341, 0.06824304705260463), (1342, 0.010283755700105543), (1343, 0.0), (1344, 0.00892493660974453), (1345, 0.03614463462727906), (1346, 0.10906951959870022), (1347, 0.0), (1348, 0.005207573104412206), (1349, 0.054038378026201664), (1350, 0.013502213268259164), (1351, 0.008139649300587895), (1352, 0.011774398875884634), (1353, 0.0), (1354, 0.012787009760051423), (1355, 0.012611319553043213), (1356, 0.028966226364352126), (1357, 0.029247515146880877), (1358, 0.013661202239043813), (1359, 0.01704759303146393), (1360, 0.0), (1361, 0.0), (1362, 0.00944966847143308), (1363, 0.08688917639990767), (1364, 0.012787503228433167), (1365, 0.07874477978640106), (1366, 0.040662535589058094), (1367, 0.03881000356012618), (1368, 0.03554461282720021), (1369, 0.039896695244791086), (1370, 0.010296336266244224), (1371, 0.0), (1372, 0.01892968479633911), (1373, 0.019205634696453908), (1374, 0.08100626154637072), (1375, 0.0), (1376, 0.030129102810196245), (1377, 0.017620370480817975), (1378, 0.011931148618478193), (1379, 0.03643955889567856), (1380, 0.014618689596619588), (1381, 0.015906764755454647), (1382, 0.11436022989847222), (1383, 0.03668096617548846), (1384, 0.0053209408410600555), (1385, 0.043644317954971), (1386, 0.09628461394551438), (1387, 0.012513273948788017), (1388, 0.007917213546029785), (1389, 0.00830092265267361), (1390, 0.031640061986971287), (1391, 0.0), (1392, 0.02043018857546396), (1393, 0.0178666964230034), (1394, 0.0), (1395, 0.0), (1396, 0.0310870775235416), (1397, 0.03591539962748142), (1398, 0.07137899586946801), (1399, 0.0), (1400, 0.012587442697146262), (1401, 0.13274836494733155), (1402, 0.021160535636244673), (1403, 0.06200775891886644), (1404, 0.01043312141434191), (1405, 0.01049817428491569), (1406, 0.0058430273266265485), (1407, 0.01685963944559477), (1408, 0.03021413293882058), (1409, 0.05336104996678568), (1410, 0.014011403281375411), (1411, 0.010906636851105609), (1412, 0.09212247091820312), (1413, 0.02216837694757267), (1414, 0.010653103066210414), (1415, 0.0), (1416, 0.01945636844967985), (1417, 0.01705081496188127), (1418, 0.044223000205677564), (1419, 0.038896763063724166), (1420, 0.027692954898082746), (1421, 0.0), (1422, 0.0), (1423, 0.037129564959055034), (1424, 0.0), (1425, 0.016139168284483012), (1426, 0.04295282803335823), (1427, 0.0), (1428, 0.019129006239561368), (1429, 0.0), (1430, 0.012890607659567198), (1431, 0.011301948789332498), (1432, 0.006227521607865854), (1433, 0.0290151554307401), (1434, 0.0), (1435, 0.0), (1436, 0.014666321975327096), (1437, 0.015706847974330678), (1438, 0.012593329084023691), (1439, 0.0), (1440, 0.028152651244201563), (1441, 0.0), (1442, 0.0196436103497307), (1443, 0.05320755662611314), (1444, 0.0), (1445, 0.04105730188378108), (1446, 0.015203266995321036), (1447, 0.0336834483437531), (1448, 0.0), (1449, 0.0), (1450, 0.0), (1451, 0.01036741840461059), (1452, 0.0), (1453, 0.0127648639053175), (1454, 0.0369002077170264), (1455, 0.02120984572574751), (1456, 0.025735411843970477), (1457, 0.0), (1458, 0.05491855420949054), (1459, 0.013644085523182206), (1460, 0.07443517216608903), (1461, 0.016042364482640934), (1462, 0.0), (1463, 0.0), (1464, 0.056561835960575575), (1465, 0.04516079390287809), (1466, 0.030079893662870363), (1467, 0.04115139919517585), (1468, 0.022871192163928633), (1469, 0.006189207427568246), (1470, 0.05568037514461949), (1471, 0.027962933253354617), (1472, 0.0), (1473, 0.0), (1474, 0.008791090401403974), (1475, 0.06837043194725695), (1476, 0.015457533697391843), (1477, 0.03324591824437913), (1478, 0.017517922566820793), (1479, 0.015205035941524763), (1480, 0.0), (1481, 0.0), (1482, 0.0), (1483, 0.0059321392784164005), (1484, 0.006324066033225673), (1485, 0.0), (1486, 0.024055811541937356), (1487, 0.0), (1488, 0.020230328904658153), (1489, 0.0), (1490, 0.007531766793260961), (1491, 0.0), (1492, 0.013729289655591437), (1493, 0.05866498652348611), (1494, 0.14130743473670893), (1495, 0.04637533058201567), (1496, 0.05283361345185772), (1497, 0.017412504541961336), (1498, 0.0), (1499, 0.0), (1500, 0.027843262039310097), (1501, 0.02969046463374103), (1502, 0.04184730179505051), (1503, 0.029723617319454613), (1504, 0.005921251383581745), (1505, 0.015910772947314817), (1506, 0.010864456083478658), (1507, 0.012639299936043848), (1508, 0.012128088548741048), (1509, 0.03522508999537692), (1510, 0.06255554905789543), (1511, 0.019458810849460204), (1512, 0.049427348407298524), (1513, 0.006227830974645692), (1514, 0.021977767350288727), (1515, 0.04193904123218667), (1516, 0.006157041319279933), (1517, 0.06300542627399877), (1518, 0.0), (1519, 0.01467070524381666), (1520, 0.021662406903067182), (1521, 0.00680818157643475), (1522, 0.040008958794690075), (1523, 0.011843743761439604), (1524, 0.03993980108597476), (1525, 0.038654031658647885), (1526, 0.015160565845577177), (1527, 0.005851001172227262), (1528, 0.0), (1529, 0.03537370165076259), (1530, 0.01135170284170103), (1531, 0.01301209467615181), (1532, 0.0), (1533, 0.012113034332631415), (1534, 0.0), (1535, 0.0050272177611472724), (1536, 0.006216925441081415), (1537, 0.006400778208630607), (1538, 0.04980983766965239), (1539, 0.034636170134209866), (1540, 0.006983920030935731), (1541, 0.0), (1542, 0.0), (1543, 0.012772411436493181), (1544, 0.005739032885084565), (1545, 0.005733004761004113), (1546, 0.00514317895944643), (1547, 0.016144252299594958), (1548, 0.03520620522301046), (1549, 0.10452745228480809), (1550, 0.012538976076396082), (1551, 0.015592602816510948), (1552, 0.043008623767486424), (1553, 0.014001672996221877), (1554, 0.015261436734841777), (1555, 0.011464482825331336), (1556, 0.0), (1557, 0.0), (1558, 0.02567211222412873), (1559, 0.009552279302455818), (1560, 0.006737052555816419), (1561, 0.010608862930493162), (1562, 0.0), (1563, 0.011991185287974899), (1564, 0.017426969289176548), (1565, 0.010206965971083231), (1566, 0.013872529618752853), (1567, 0.03692560345213634), (1568, 0.0), (1569, 0.020631669436753063), (1570, 0.014577652097319985), (1571, 0.01311647377570835), (1572, 0.031630050702110994), (1573, 0.0), (1574, 0.01113803077279464), (1575, 0.01633604339549835), (1576, 0.0486263148231458), (1577, 0.027966673502291723), (1578, 0.01257685916291985), (1579, 0.1313251153839884), (1580, 0.06492341590768212), (1581, 0.014991227536122542), (1582, 0.0), (1583, 0.017381036536659674), (1584, 0.01007968963403833), (1585, 0.025204239642952847), (1586, 0.008817819889131244), (1587, 0.01410972049052534), (1588, 0.0), (1589, 0.027052515385052232), (1590, 0.0), (1591, 0.006924002663037739), (1592, 0.0330147049554516), (1593, 0.0), (1594, 0.0), (1595, 0.0), (1596, 0.0), (1597, 0.01335432355717257), (1598, 0.0077815526475458), (1599, 0.06562342522180087), (1600, 0.04485663387743692), (1601, 0.017596500603775725), (1602, 0.0), (1603, 0.1409680393841557), (1604, 0.0393277800741242), (1605, 0.0), (1606, 0.011829394907608336), (1607, 0.007676619158845799), (1608, 0.0), (1609, 0.014793862848896886), (1610, 0.011055927683228385), (1611, 0.014008238014112407), (1612, 0.04112335516178081), (1613, 0.012420805823875917), (1614, 0.0), (1615, 0.02347609781578141), (1616, 0.069685760439327), (1617, 0.019700555407586036), (1618, 0.0), (1619, 0.016906953387775096), (1620, 0.0), (1621, 0.06966329254379659), (1622, 0.0), (1623, 0.0), (1624, 0.0), (1625, 0.0), (1626, 0.0), (1627, 0.015317987045505858), (1628, 0.0), (1629, 0.05322557667402223), (1630, 0.0), (1631, 0.0), (1632, 0.010582353072379015), (1633, 0.011410119642260387), (1634, 0.0), (1635, 0.0), (1636, 0.0), (1637, 0.0), (1638, 0.0), (1639, 0.0), (1640, 0.02499274711427449), (1641, 0.0), (1642, 0.0), (1643, 0.0), (1644, 0.02814812157259578), (1645, 0.013390934883632737), (1646, 0.008880645643480583), (1647, 0.014996717904668631), (1648, 0.05156577966066349), (1649, 0.0874055028491405), (1650, 0.0407500837498489), (1651, 0.01085028951478769), (1652, 0.02038202367048611), (1653, 0.005830059592168816), (1654, 0.08235962967721192), (1655, 0.08516944623978093), (1656, 0.0), (1657, 0.005399527505650848), (1658, 0.05684983270368883), (1659, 0.006372398131979832), (1660, 0.0), (1661, 0.0), (1662, 0.03655111088161393), (1663, 0.0), (1664, 0.03380083842685181), (1665, 0.0055977318176411005), (1666, 0.06968582342733512), (1667, 0.0), (1668, 0.012243423238403866), (1669, 0.029845575636565903), (1670, 0.0), (1671, 0.0), (1672, 0.0), (1673, 0.0), (1674, 0.0), (1675, 0.03609396917912085), (1676, 0.0), (1677, 0.03878620050492516), (1678, 0.04786270486044804), (1679, 0.01195891442539), (1680, 0.023756696201045813), (1681, 0.006563648972517226), (1682, 0.050490659657705564), (1683, 0.012778265458674363), (1684, 0.0243569461573087), (1685, 0.01678525592982419), (1686, 0.03234333114606265), (1687, 0.006338820261026919), (1688, 0.04729329932633841), (1689, 0.035303694597666316), (1690, 0.07490058690501515), (1691, 0.0), (1692, 0.036708178009141265), (1693, 0.011939389480557594), (1694, 0.0), (1695, 0.012841006625695537), (1696, 0.036380701860828035), (1697, 0.028519797947863322), (1698, 0.07101339627397553), (1699, 0.0), (1700, 0.02676198871072441), (1701, 0.030967696801026127), (1702, 0.0), (1703, 0.015785923825339825), (1704, 0.0), (1705, 0.014843269084443222), (1706, 0.03618275699287263), (1707, 0.05536912498952772), (1708, 0.023460854466862517), (1709, 0.060927894639191696), (1710, 0.015028120613046541), (1711, 0.0), (1712, 0.016957921387730935), (1713, 0.03375498812342541), (1714, 0.08232742348493008), (1715, 0.014208834452385894), (1716, 0.0), (1717, 0.015713171208621507), (1718, 0.06286843383590017), (1719, 0.0), (1720, 0.0), (1721, 0.03528536032858876), (1722, 0.02568214625047618), (1723, 0.04436769865588528), (1724, 0.014926934802327731), (1725, 0.008714751533083069), (1726, 0.012253732197848028), (1727, 0.006216015541175412), (1728, 0.02148534296962902), (1729, 0.02976047803274228), (1730, 0.014463795669283654), (1731, 0.03186072799146148), (1732, 0.019152520296514156), (1733, 0.0), (1734, 0.006264362421170218), (1735, 0.0061654364153612765), (1736, 0.0062586597835770285), (1737, 0.016923113312667947), (1738, 0.007483434881079117), (1739, 0.0), (1740, 0.006098687297834218), (1741, 0.0), (1742, 0.02470200156589833), (1743, 0.10037597694934375), (1744, 0.0), (1745, 0.011864279112174969), (1746, 0.014806454032460812), (1747, 0.012346443063656842), (1748, 0.025563976327414358), (1749, 0.00560732976284373), (1750, 0.010671833192808119), (1751, 0.006048773449330955), (1752, 0.0), (1753, 0.0), (1754, 0.0), (1755, 0.007501250321324904), (1756, 0.0), (1757, 0.02590271409832639), (1758, 0.009115425179966379), (1759, 0.0), (1760, 0.0), (1761, 0.028797613553202584), (1762, 0.1346646315630496), (1763, 0.02034111683619354), (1764, 0.058770075836519345), (1765, 0.0), (1766, 0.0), (1767, 0.0), (1768, 0.0), (1769, 0.015417915645791702), (1770, 0.023487432139155356), (1771, 0.023648472557277922), (1772, 0.035993394356721616), (1773, 0.015543755729279003), (1774, 0.03780601170542933), (1775, 0.0), (1776, 0.024418215545552933), (1777, 0.023991164780963074), (1778, 0.023193201596007268), (1779, 0.052715785742131815), (1780, 0.0), (1781, 0.015565402435300045), (1782, 0.013954350341953308), (1783, 0.0), (1784, 0.02343173171853065), (1785, 0.014436994051545964), (1786, 0.0), (1787, 0.08280742403163467), (1788, 0.08012075362120782), (1789, 0.024542077115387226), (1790, 0.01891237295250337), (1791, 0.026266949866253587), (1792, 0.0), (1793, 0.01486957483360193), (1794, 0.0), (1795, 0.0), (1796, 0.005454835817014342), (1797, 0.01215222457073135), (1798, 0.10392946281682236), (1799, 0.16761540772168318), (1800, 0.0), (1801, 0.0), (1802, 0.02120699157065458), (1803, 0.0), (1804, 0.023048264963625966), (1805, 0.0), (1806, 0.013882626772334374), (1807, 0.015561477658146472), (1808, 0.04322683183136444), (1809, 0.03683992620316971), (1810, 0.019310383191706075), (1811, 0.0), (1812, 0.03175479823434954), (1813, 0.0), (1814, 0.01858041366268544), (1815, 0.006920653927041155), (1816, 0.009949295363019894), (1817, 0.0), (1818, 0.020699293420447656), (1819, 0.011473260059336127), (1820, 0.0), (1821, 0.03591285039243536), (1822, 0.006311042910363163), (1823, 0.005531464225046294), (1824, 0.011576018220234624), (1825, 0.0), (1826, 0.0), (1827, 0.044744292347821006), (1828, 0.023998997536044127), (1829, 0.0), (1830, 0.0), (1831, 0.032704142082999835), (1832, 0.0), (1833, 0.020334901530095144), (1834, 0.0), (1835, 0.0), (1836, 0.013258505028346216), (1837, 0.0), (1838, 0.0), (1839, 0.10166249109999997), (1840, 0.0), (1841, 0.07833504013223545), (1842, 0.08995236367273587), (1843, 0.0359881664509133), (1844, 0.008654532851404032), (1845, 0.026318188233564035), (1846, 0.025499962617318774), (1847, 0.021925102484859807), (1848, 0.09896825616901338), (1849, 0.015618186266095036), (1850, 0.01995893224374497), (1851, 0.012821090188469084), (1852, 0.038673289557068814), (1853, 0.006328172715753368), (1854, 0.0), (1855, 0.01854236993515348), (1856, 0.0), (1857, 0.012123764695131201), (1858, 0.0), (1859, 0.011638262963290723), (1860, 0.10753864026390665), (1861, 0.015432764655544268), (1862, 0.0), (1863, 0.013701563394643006), (1864, 0.01525911728277696), (1865, 0.010012896254494558), (1866, 0.0), (1867, 0.015668000733966084), (1868, 0.0), (1869, 0.026365593642002944), (1870, 0.03370281813996764), (1871, 0.07470305912714183), (1872, 0.0), (1873, 0.01588055216635094), (1874, 0.0), (1875, 0.03326531641516679), (1876, 0.047012367251758766), (1877, 0.0), (1878, 0.03462751762121321), (1879, 0.0), (1880, 0.038932913395029314), (1881, 0.04439806055293319), (1882, 0.0), (1883, 0.0064990038011578976), (1884, 0.0), (1885, 0.0), (1886, 0.011017340764696251), (1887, 0.0), (1888, 0.012491477515023467), (1889, 0.020505965165125244), (1890, 0.014109981057706836), (1891, 0.01512475816200004), (1892, 0.0), (1893, 0.0), (1894, 0.015020729953940359), (1895, 0.013057701633955643), (1896, 0.0), (1897, 0.06256238986759093), (1898, 0.012961203565231703), (1899, 0.0), (1900, 0.03758434019992125), (1901, 0.04060530455535103), (1902, 0.016036836444505292), (1903, 0.08699218240550433), (1904, 0.014659050562274996), (1905, 0.0), (1906, 0.0), (1907, 0.0), (1908, 0.035878699104167674), (1909, 0.013978116151464996), (1910, 0.03036017709303912), (1911, 0.05882261899364984), (1912, 0.03255952011873028), (1913, 0.06008137878672799), (1914, 0.0), (1915, 0.0), (1916, 0.0), (1917, 0.0), (1918, 0.02150594298544544), (1919, 0.014230470248046254), (1920, 0.05179912694129647), (1921, 0.01238959261574777), (1922, 0.0), (1923, 0.0), (1924, 0.0), (1925, 0.019270159409333226), (1926, 0.03579609487604819), (1927, 0.0), (1928, 0.0), (1929, 0.0658269813523119), (1930, 0.026409765205359818), (1931, 0.028326751506675775), (1932, 0.03642771394505828), (1933, 0.05413231170030294), (1934, 0.06790440873933953), (1935, 0.06495941917639296), (1936, 0.03038150349586026), (1937, 0.03653541355092905), (1938, 0.01682473618056412), (1939, 0.01839566352332197), (1940, 0.0), (1941, 0.007155553885917067), (1942, 0.05870509019505653), (1943, 0.010393763674983838), (1944, 0.0), (1945, 0.029951902433309963), (1946, 0.0), (1947, 0.0), (1948, 0.0839740454542349), (1949, 0.006198044455969935), (1950, 0.0254209559606033), (1951, 0.03032377407722343), (1952, 0.0), (1953, 0.0), (1954, 0.018035514408345926), (1955, 0.020823320706188052), (1956, 0.0), (1957, 0.03733961477853695), (1958, 0.0), (1959, 0.0), (1960, 0.0), (1961, 0.048938888559325884), (1962, 0.0), (1963, 0.0), (1964, 0.09623185085761354), (1965, 0.020706730414864198), (1966, 0.011966479352307708), (1967, 0.07220059816786904), (1968, 0.021044436233892454), (1969, 0.021071628309274264), (1970, 0.0), (1971, 0.0050673745204170145), (1972, 0.0), (1973, 0.005624072912074367), (1974, 0.0), (1975, 0.0), (1976, 0.006678614061634586), (1977, 0.05137791828232107), (1978, 0.009837285419586297), (1979, 0.0), (1980, 0.011405491348082622), (1981, 0.0), (1982, 0.09893691954224608), (1983, 0.013243658875404327), (1984, 0.0), (1985, 0.022072091250679982), (1986, 0.03582552621619184), (1987, 0.01272381840854398), (1988, 0.06242988385761678), (1989, 0.0063314325059347296), (1990, 0.010879195914701403), (1991, 0.020654226419815302), (1992, 0.04523013301192173), (1993, 0.024637550958768673), (1994, 0.028231787125529453), (1995, 0.0), (1996, 0.029994797922973285), (1997, 0.0), (1998, 0.01208537568387291), (1999, 0.00890451537235748), (2000, 0.03633248606596909), (2001, 0.0), (2002, 0.0), (2003, 0.0), (2004, 0.011574637595025255), (2005, 0.04683854928789159), (2006, 0.00672268014351861), (2007, 0.02014890522398731), (2008, 0.035228547793926396), (2009, 0.0), (2010, 0.010946547750849625), (2011, 0.014425942041835145), (2012, 0.006875416131440301), (2013, 0.023684266184789218), (2014, 0.013786506090479765), (2015, 0.014473991474811345), (2016, 0.01438987297504538), (2017, 0.0), (2018, 0.00974001275028024), (2019, 0.03990864669658459), (2020, 0.018632246443019564), (2021, 0.012942697834914337), (2022, 0.04086873241742767), (2023, 0.0), (2024, 0.005724993185877622), (2025, 0.004931758282634794), (2026, 0.0), (2027, 0.06361885153455027), (2028, 0.027325206520722817), (2029, 0.0), (2030, 0.0), (2031, 0.0), (2032, 0.0), (2033, 0.016300016102215195), (2034, 0.011420034243131741), (2035, 0.07899762756824918), (2036, 0.12754919413438204), (2037, 0.14183351000397257), (2038, 0.0), (2039, 0.016974402050985674), (2040, 0.037737076955079406), (2041, 0.0), (2042, 0.0), (2043, 0.023705879805517263), (2044, 0.006350406326626326), (2045, 0.03021016274427012), (2046, 0.0), (2047, 0.0), (2048, 0.02120167467616167), (2049, 0.017490126684877382), (2050, 0.019259338409706696), (2051, 0.08000566729591498), (2052, 0.035166577763599355), (2053, 0.011395057559729267), (2054, 0.0), (2055, 0.0556093350085388), (2056, 0.015287974108871125), (2057, 0.0), (2058, 0.07970372229778183), (2059, 0.0), (2060, 0.0), (2061, 0.04064402120276732), (2062, 0.03761154982951008), (2063, 0.0), (2064, 0.011685425756032673), (2065, 0.01245336593208123), (2066, 0.01559339571383105), (2067, 0.035910743538834396), (2068, 0.012083325209417078), (2069, 0.0), (2070, 0.013569937588285064), (2071, 0.0), (2072, 0.0), (2073, 0.03273652674240583), (2074, 0.03429147882599009), (2075, 0.03482457409242477), (2076, 0.02837961996731124), (2077, 0.007291151645282993), (2078, 0.004754750812401075), (2079, 0.0), (2080, 0.0), (2081, 0.0059848345316323446), (2082, 0.006485820777916866), (2083, 0.006256600072814538), (2084, 0.0), (2085, 0.07985317993765806), (2086, 0.012718139555955101), (2087, 0.015516939949099303), (2088, 0.020788339979801455), (2089, 0.0), (2090, 0.0), (2091, 0.006061722882082442), (2092, 0.0), (2093, 0.012819767660290148), (2094, 0.03197035288728218), (2095, 0.030547994896367087), (2096, 0.016909869416010803), (2097, 0.0), (2098, 0.013570582776361483), (2099, 0.0), (2100, 0.041158382866151935), (2101, 0.05149023626471683), (2102, 0.046317232408331445), (2103, 0.05207456249474149), (2104, 0.01178741581349726), (2105, 0.013540828760643298), (2106, 0.0), (2107, 0.01320517029534235), (2108, 0.0), (2109, 0.028810449790246627), (2110, 0.014556204236330122), (2111, 0.044334592186219546), (2112, 0.05561636674138432), (2113, 0.01709316467963254), (2114, 0.09310729082515826), (2115, 0.0328589165805669), (2116, 0.0622761181698236), (2117, 0.025108874463635612), (2118, 0.020593280204678432), (2119, 0.03343714943851763), (2120, 0.0), (2121, 0.028301607344550367), (2122, 0.011142362671801277), (2123, 0.01579211761927721), (2124, 0.050984859538561626), (2125, 0.03623619837083232), (2126, 0.0), (2127, 0.01163655985934112), (2128, 0.0), (2129, 0.018698535835185607), (2130, 0.007968389814949605), (2131, 0.014656615324291432), (2132, 0.010623486838485297), (2133, 0.0), (2134, 0.0), (2135, 0.0), (2136, 0.027964615793192676), (2137, 0.0174545355471617), (2138, 0.0), (2139, 0.013009413887961766), (2140, 0.020989432324382346), (2141, 0.0), (2142, 0.0), (2143, 0.015168282323854029), (2144, 0.08409657186166733), (2145, 0.028179854304641816), (2146, 0.0), (2147, 0.0), (2148, 0.0), (2149, 0.027208545380822846), (2150, 0.013423137201705735), (2151, 0.0), (2152, 0.0), (2153, 0.03983685077377755), (2154, 0.020321217034795384), (2155, 0.02737235136563128), (2156, 0.027712543516348193), (2157, 0.011657077633781366), (2158, 0.0366077890771164), (2159, 0.026192818871636638), (2160, 0.014928626083465416), (2161, 0.024688173512046763), (2162, 0.05611019580530101), (2163, 0.0), (2164, 0.015514995076589795), (2165, 0.0), (2166, 0.005630457658366303), (2167, 0.03614680002368631), (2168, 0.0), (2169, 0.0), (2170, 0.011167113838013715), (2171, 0.022253416660880737), (2172, 0.008072661414333535), (2173, 0.0), (2174, 0.08106876092925779), (2175, 0.014649926322181553), (2176, 0.0), (2177, 0.048376515470446996), (2178, 0.005815169026982809), (2179, 0.03243355316426751), (2180, 0.0068340074190574454), (2181, 0.03813330174423769), (2182, 0.006716257398672782), (2183, 0.00730993523580764), (2184, 0.005616010873022356), (2185, 0.04470821471513034), (2186, 0.0), (2187, 0.014594214058359334), (2188, 0.007296289638179077), (2189, 0.0), (2190, 0.014943291400825337), (2191, 0.023581364752947448), (2192, 0.015364763426576541), (2193, 0.01600916690516372), (2194, 0.0), (2195, 0.01268262862626596), (2196, 0.011671832869943442), (2197, 0.04192529640789805), (2198, 0.06405381330392394), (2199, 0.0), (2200, 0.0), (2201, 0.010267341337002623), (2202, 0.01494601334767604), (2203, 0.014516993286221462), (2204, 0.009356331256275842), (2205, 0.12686485529730607), (2206, 0.03825405813230809), (2207, 0.01863985295055452), (2208, 0.014691398073173911), (2209, 0.01766223371678389), (2210, 0.018599670009490435), (2211, 0.04769956248432254), (2212, 0.005965550100235369), (2213, 0.0), (2214, 0.0), (2215, 0.0), (2216, 0.0), (2217, 0.0062587764382308385), (2218, 0.03780760919185186), (2219, 0.0), (2220, 0.015848415149555158), (2221, 0.03790322003663379), (2222, 0.0), (2223, 0.0), (2224, 0.005673052723575886), (2225, 0.0), (2226, 0.013555813987841132), (2227, 0.03105738994548002), (2228, 0.0), (2229, 0.0), (2230, 0.0), (2231, 0.0), (2232, 0.005840812990381525), (2233, 0.015211561766638954), (2234, 0.05936046561774776), (2235, 0.025586837004238725), (2236, 0.025571341463821312), (2237, 0.03153314994229522), (2238, 0.006191416012685615), (2239, 0.033319911315955776), (2240, 0.0), (2241, 0.006216894879603141), (2242, 0.011350160710474759), (2243, 0.019622188290831625), (2244, 0.017448357683416234), (2245, 0.011894781861689812), (2246, 0.020141673965523365), (2247, 0.0), (2248, 0.0), (2249, 0.02112270337861888), (2250, 0.04769570712890148), (2251, 0.0), (2252, 0.0), (2253, 0.0), (2254, 0.0825417392691689), (2255, 0.0), (2256, 0.0), (2257, 0.0), (2258, 0.013788948663204393), (2259, 0.028803518620777065), (2260, 0.0), (2261, 0.0), (2262, 0.009943550312733924), (2263, 0.03350390251508519), (2264, 0.0), (2265, 0.05579031698188422), (2266, 0.024847523693018875), (2267, 0.0), (2268, 0.013388837987770874), (2269, 0.013859230270642895), (2270, 0.01318244105589276), (2271, 0.020663856843476835), (2272, 0.0), (2273, 0.0), (2274, 0.005500949885062188), (2275, 0.008096184800057329), (2276, 0.022437211658202484), (2277, 0.03013312944361361), (2278, 0.02650381232366181), (2279, 0.012389943304528762), (2280, 0.0), (2281, 0.0), (2282, 0.0), (2283, 0.02112613354594578), (2284, 0.012381573567739688), (2285, 0.0395433224872381), (2286, 0.015260473527207061), (2287, 0.013153227060695525), (2288, 0.0), (2289, 0.0), (2290, 0.012567106812686602), (2291, 0.013591983137009071), (2292, 0.01295131594660225), (2293, 0.028476822455491515), (2294, 0.07386959417795605), (2295, 0.0), (2296, 0.011644029852537627), (2297, 0.011704757085579859), (2298, 0.013678381909100625), (2299, 0.0), (2300, 0.0), (2301, 0.07611764435129584), (2302, 0.0), (2303, 0.03555576622627874), (2304, 0.0), (2305, 0.02497271884643131), (2306, 0.020072102528449064), (2307, 0.0), (2308, 0.015411996852245676), (2309, 0.027302135986492844), (2310, 0.0), (2311, 0.010382537442024102), (2312, 0.017730095739556632), (2313, 0.02799332492474807), (2314, 0.0), (2315, 0.025636072042823824), (2316, 0.023290752713730836), (2317, 0.04215736236413677), (2318, 0.023267404265323664), (2319, 0.03589297209288495), (2320, 0.0), (2321, 0.0), (2322, 0.011632020526217817), (2323, 0.0), (2324, 0.010170751535149307), (2325, 0.0), (2326, 0.00866676197759272), (2327, 0.010290499813720181), (2328, 0.0), (2329, 0.01855790593037606), (2330, 0.05643321865022627), (2331, 0.0), (2332, 0.008123399885303308), (2333, 0.0), (2334, 0.0), (2335, 0.028051826479256636), (2336, 0.0), (2337, 0.008345823494414645), (2338, 0.0), (2339, 0.01801888366912697), (2340, 0.026189737998651565), (2341, 0.0), (2342, 0.029360737731359287), (2343, 0.0), (2344, 0.0), (2345, 0.0), (2346, 0.0), (2347, 0.010146181853640147), (2348, 0.0), (2349, 0.0), (2350, 0.0), (2351, 0.01517824727818134), (2352, 0.006736931048590695), (2353, 0.025635233207258572), (2354, 0.013877068765492242), (2355, 0.023024108560196675), (2356, 0.01549549957984591), (2357, 0.0), (2358, 0.0), (2359, 0.09018543007705387), (2360, 0.017993741172088084), (2361, 0.006341407968761874), (2362, 0.03031984776171471), (2363, 0.007388205683977719), (2364, 0.006337997959895766), (2365, 0.01071683252274948), (2366, 0.0), (2367, 0.013270277507772071), (2368, 0.029678137063116734), (2369, 0.0), (2370, 0.0), (2371, 0.0129356184567194), (2372, 0.03270181861286106), (2373, 0.0), (2374, 0.0), (2375, 0.015230129896842675), (2376, 0.055790784664956794), (2377, 0.0), (2378, 0.020024958689098094), (2379, 0.0), (2380, 0.0), (2381, 0.029185067838262312), (2382, 0.05914984805199311), (2383, 0.0066474681895129974), (2384, 0.0), (2385, 0.0), (2386, 0.0), (2387, 0.03300431858554902), (2388, 0.0), (2389, 0.023015950027856724), (2390, 0.013500479847372309), (2391, 0.02155288590254157), (2392, 0.02850917736266772), (2393, 0.03256413056143095), (2394, 0.0), (2395, 0.0), (2396, 0.0), (2397, 0.038722456054932186), (2398, 0.043265498160927784), (2399, 0.046238815606056693), (2400, 0.0), (2401, 0.032702426860027514), (2402, 0.0), (2403, 0.018285125448182782), (2404, 0.0), (2405, 0.015868372421733466), (2406, 0.05633455489261405), (2407, 0.0), (2408, 0.0), (2409, 0.022623254732474313), (2410, 0.0), (2411, 0.030797798627971506), (2412, 0.0051911641757855795), (2413, 0.035896421254521596), (2414, 0.007946064984610122), (2415, 0.007254503548142808), (2416, 0.020066410141877572), (2417, 0.01857538647007412), (2418, 0.016816636163167364), (2419, 0.0), (2420, 0.0), (2421, 0.04347348003631156), (2422, 0.012343597195626927), (2423, 0.0), (2424, 0.0054189386297751625), (2425, 0.0), (2426, 0.02679347516569773), (2427, 0.016100984428016087), (2428, 0.015297241468426346), (2429, 0.005541919889654079), (2430, 0.031855009336958576), (2431, 0.015702677246143357), (2432, 0.017633178623459776), (2433, 0.012138547811260348), (2434, 0.0), (2435, 0.0), (2436, 0.017731615538542366), (2437, 0.05382972921709925), (2438, 0.0), (2439, 0.03908210227453736), (2440, 0.0), (2441, 0.0), (2442, 0.045000433913714805), (2443, 0.0390997866251135), (2444, 0.0141391461196822), (2445, 0.0), (2446, 0.0), (2447, 0.0), (2448, 0.0), (2449, 0.0), (2450, 0.007328047099352392), (2451, 0.00846634762656959), (2452, 0.0), (2453, 0.0), (2454, 0.0), (2455, 0.0), (2456, 0.01232478413728675), (2457, 0.029591089904785484), (2458, 0.0), (2459, 0.02415065966759849), (2460, 0.011081962908526555), (2461, 0.019740836430020666), (2462, 0.0), (2463, 0.03560757756545431), (2464, 0.0), (2465, 0.04606545506582202), (2466, 0.0), (2467, 0.0), (2468, 0.006985334710767023), (2469, 0.024366622049531828), (2470, 0.006752266414247502), (2471, 0.012173763414740904), (2472, 0.01581580629194038), (2473, 0.022616603747564076), (2474, 0.03983982653160473), (2475, 0.0), (2476, 0.0067980134240117245), (2477, 0.0), (2478, 0.0), (2479, 0.01547863563160851), (2480, 0.015728494332155365), (2481, 0.04822386926291654), (2482, 0.0), (2483, 0.0), (2484, 0.0), (2485, 0.0), (2486, 0.0), (2487, 0.038206782135085486), (2488, 0.0), (2489, 0.034291721319129304), (2490, 0.0), (2491, 0.02344819813690127), (2492, 0.026288527295085178), (2493, 0.006598237272665665), (2494, 0.06863840616939787), (2495, 0.0), (2496, 0.011516798578395167), (2497, 0.01102865083350386), (2498, 0.0), (2499, 0.006356525120632225), (2500, 0.016660703066717762), (2501, 0.013928068241819476), (2502, 0.0), (2503, 0.015731956631266468), (2504, 0.007696490173528508), (2505, 0.017619011505445772), (2506, 0.04341088907781547), (2507, 0.011989731356003721), (2508, 0.0), (2509, 0.033437649581066826), (2510, 0.11242892732791171), (2511, 0.0), (2512, 0.007826324226913293), (2513, 0.06076167779955719), (2514, 0.028045763352489306), (2515, 0.0), (2516, 0.0), (2517, 0.13316923910866363), (2518, 0.0), (2519, 0.0), (2520, 0.03873776967188795), (2521, 0.0077834739320314615), (2522, 0.014773099060245688), (2523, 0.0), (2524, 0.025567644810613008), (2525, 0.010393139369383348), (2526, 0.0), (2527, 0.02054083954687428), (2528, 0.032085792290188556), (2529, 0.0), (2530, 0.017617725917290203), (2531, 0.0), (2532, 0.022380215531158078), (2533, 0.013943289910649867), (2534, 0.0), (2535, 0.0), (2536, 0.0), (2537, 0.0), (2538, 0.08730477191133001), (2539, 0.05005871755850738), (2540, 0.016217317483191756), (2541, 0.06933288242863077), (2542, 0.01150962160431865), (2543, 0.0), (2544, 0.011462487863995832), (2545, 0.016528714511225694), (2546, 0.04005314476549578), (2547, 0.007872762170473956), (2548, 0.025518192253451494), (2549, 0.02202314137511831), (2550, 0.011863410763201765), (2551, 0.03418236407059763), (2552, 0.02220790910552898), (2553, 0.04906988231412837), (2554, 0.013983488704349133), (2555, 0.0686238275240553), (2556, 0.0), (2557, 0.015273566494207304), (2558, 0.026128459222300202), (2559, 0.01822174658564675), (2560, 0.09261753956840968), (2561, 0.0), (2562, 0.016373250180876667), (2563, 0.02224928334670124), (2564, 0.0), (2565, 0.03301442603547058), (2566, 0.013019730132216275), (2567, 0.058556357670925575), (2568, 0.019403242594653626), (2569, 0.0077892365352600695), (2570, 0.023750752768525812), (2571, 0.021095534801396424), (2572, 0.02948100993780127), (2573, 0.004900643725284808), (2574, 0.015368340442277835), (2575, 0.008615873136794515), (2576, 0.00676349087178702), (2577, 0.0), (2578, 0.0), (2579, 0.01425353406800715), (2580, 0.009856626280892154), (2581, 0.007470868384875187), (2582, 0.15914861587992873), (2583, 0.0), (2584, 0.02004953535395247), (2585, 0.0), (2586, 0.0), (2587, 0.03854730250705646), (2588, 0.013620547874655343), (2589, 0.0), (2590, 0.018454355085862507), (2591, 0.0), (2592, 0.0), (2593, 0.0), (2594, 0.011534986999811508), (2595, 0.0), (2596, 0.0), (2597, 0.0), (2598, 0.011651454954324587), (2599, 0.0), (2600, 0.04050278035388452), (2601, 0.028056117010399947), (2602, 0.0), (2603, 0.03778212913693004), (2604, 0.013402180655046989), (2605, 0.02415570155437822), (2606, 0.0), (2607, 0.014220385096054645), (2608, 0.010786375671886032), (2609, 0.0211449003353709), (2610, 0.0), (2611, 0.0173122787496034), (2612, 0.0), (2613, 0.0), (2614, 0.03591476126141615), (2615, 0.018762568183490532), (2616, 0.02522864924564027), (2617, 0.011211286452442), (2618, 0.0), (2619, 0.0), (2620, 0.0), (2621, 0.013802661579844043), (2622, 0.014436376823226554), (2623, 0.0), (2624, 0.01347541040012882), (2625, 0.02101772279513942), (2626, 0.006561435839802673), (2627, 0.0), (2628, 0.01612153993094092), (2629, 0.044091122610544806), (2630, 0.0), (2631, 0.0), (2632, 0.026269733094639067), (2633, 0.01665550123441875), (2634, 0.005586219680887647), (2635, 0.014429936021793743), (2636, 0.024395844365021013), (2637, 0.04217298600703817), (2638, 0.01802569081112816), (2639, 0.0), (2640, 0.04398834058685043), (2641, 0.04564882181409363), (2642, 0.0400681446121137), (2643, 0.015927201508888933), (2644, 0.02770859020246707), (2645, 0.0076940588168816024), (2646, 0.06339673360005442), (2647, 0.014039218959185737), (2648, 0.0), (2649, 0.0), (2650, 0.0), (2651, 0.011651565562134801), (2652, 0.012072222878290986), (2653, 0.01530936686226141), (2654, 0.022471682694629666), (2655, 0.0), (2656, 0.0), (2657, 0.008757273378428758), (2658, 0.0), (2659, 0.008611718624355018), (2660, 0.017566469564200216), (2661, 0.023439634296493386), (2662, 0.014015134331592755), (2663, 0.01079045764856151), (2664, 0.0), (2665, 0.013063415558734448), (2666, 0.012744075644813828), (2667, 0.008146563472274375), (2668, 0.05917440014492937), (2669, 0.0), (2670, 0.006399255087120628), (2671, 0.00810665814726322), (2672, 0.05339395001134571), (2673, 0.0), (2674, 0.005503369328426693), (2675, 0.0), (2676, 0.006855491971830841), (2677, 0.0), (2678, 0.0), (2679, 0.0), (2680, 0.020938115604718435), (2681, 0.0), (2682, 0.07959965820977533), (2683, 0.0), (2684, 0.01783435325922708), (2685, 0.0), (2686, 0.009537633238619477), (2687, 0.02336957958955206), (2688, 0.044229660105279255), (2689, 0.019392258510049214), (2690, 0.0), (2691, 0.07887914959245347), (2692, 0.013776482994224605), (2693, 0.019681893400343875), (2694, 0.016404432205831116), (2695, 0.0), (2696, 0.01478203832866789), (2697, 0.03405275091114278), (2698, 0.02621078796939396), (2699, 0.0), (2700, 0.0), (2701, 0.0), (2702, 0.0), (2703, 0.023618387070564444), (2704, 0.016262811420290832), (2705, 0.0), (2706, 0.020766411867901666), (2707, 0.016268542974721367), (2708, 0.028342788167611564), (2709, 0.0), (2710, 0.04013577527875527), (2711, 0.0056886621682168586), (2712, 0.04569432448454497), (2713, 0.040634079301947866), (2714, 0.01896516411126018), (2715, 0.042838296491919045), (2716, 0.0), (2717, 0.0), (2718, 0.012096449144850236), (2719, 0.0), (2720, 0.007006954317776636), (2721, 0.0), (2722, 0.0), (2723, 0.0), (2724, 0.0), (2725, 0.020234420671861656), (2726, 0.016381739801456616), (2727, 0.0), (2728, 0.0), (2729, 0.027527853858838814), (2730, 0.03230705961287492), (2731, 0.0), (2732, 0.016179852512717724), (2733, 0.013264780626685398), (2734, 0.02674443187637312), (2735, 0.0), (2736, 0.01938650617126025), (2737, 0.0), (2738, 0.0), (2739, 0.0), (2740, 0.05279260145587704), (2741, 0.007097664123038343), (2742, 0.040553109373045904), (2743, 0.0), (2744, 0.016442226887024142), (2745, 0.022039115959377104), (2746, 0.012141518075369584), (2747, 0.0), (2748, 0.0), (2749, 0.04359759417781041), (2750, 0.013020476092513186), (2751, 0.031180557408618255), (2752, 0.026519036303670942), (2753, 0.011202459609144256), (2754, 0.006267868387763849), (2755, 0.008335466583988803), (2756, 0.0), (2757, 0.0), (2758, 0.010141635796304109), (2759, 0.026213800528026666), (2760, 0.030977288379491794), (2761, 0.01192989209495627), (2762, 0.0), (2763, 0.007698420880503695), (2764, 0.0), (2765, 0.014502517301487883), (2766, 0.08170711110934249), (2767, 0.023880121164298586), (2768, 0.008498404582451265), (2769, 0.018725722581028552), (2770, 0.0), (2771, 0.011763372568710092), (2772, 0.021670198645957477), (2773, 0.0), (2774, 0.03391489699182718), (2775, 0.0), (2776, 0.011887352018367112), (2777, 0.0202115278049908), (2778, 0.0072290624477062025), (2779, 0.012139054361702838), (2780, 0.038482632723318144), (2781, 0.01484135368782819), (2782, 0.0), (2783, 0.02592301176389593), (2784, 0.0), (2785, 0.0), (2786, 0.0), (2787, 0.02644713533118736), (2788, 0.03602667747548457), (2789, 0.02996072264420941), (2790, 0.047303675857766396), (2791, 0.04073656112723634), (2792, 0.0), (2793, 0.0), (2794, 0.0), (2795, 0.007550080743443891), (2796, 0.0), (2797, 0.0), (2798, 0.01611026384089997), (2799, 0.01707644418580478), (2800, 0.0), (2801, 0.009468014037200387), (2802, 0.02486829829780809), (2803, 0.027052109497127996), (2804, 0.02175278765214036), (2805, 0.0), (2806, 0.008730123578932863), (2807, 0.02254275533402458), (2808, 0.015372746584756748), (2809, 0.011617616498149156), (2810, 0.006700375684611086), (2811, 0.030458077381649552), (2812, 0.014951369267971398), (2813, 0.023027525185806974), (2814, 0.0), (2815, 0.06516539640877153), (2816, 0.016415345107601138), (2817, 0.041217195856182734), (2818, 0.0), (2819, 0.03163307181239208), (2820, 0.0191056555235627), (2821, 0.0), (2822, 0.022268393273732423), (2823, 0.0), (2824, 0.01965988979809308), (2825, 0.005906052380423099), (2826, 0.02503158174604258), (2827, 0.0), (2828, 0.0), (2829, 0.01057454860013164), (2830, 0.04472263676585129), (2831, 0.0634500094781658), (2832, 0.0), (2833, 0.0), (2834, 0.025259351550337317), (2835, 0.0), (2836, 0.02002271555328929), (2837, 0.01438592124142657), (2838, 0.0), (2839, 0.0), (2840, 0.006667934017571897), (2841, 0.01825096329875646), (2842, 0.015816431248365244), (2843, 0.0836283786559439), (2844, 0.054947528506629095), (2845, 0.010158795724501159), (2846, 0.0), (2847, 0.025475381128819585), (2848, 0.01457586001865373), (2849, 0.0), (2850, 0.11325649279009213), (2851, 0.0), (2852, 0.036709166952875065), (2853, 0.012652446309378496), (2854, 0.044447560703915076), (2855, 0.0), (2856, 0.020727005643625073), (2857, 0.0), (2858, 0.0), (2859, 0.10545234745012992), (2860, 0.015039065198058803), (2861, 0.0), (2862, 0.005571656642357042), (2863, 0.0), (2864, 0.020369391580851416), (2865, 0.0), (2866, 0.0), (2867, 0.027832467993041253), (2868, 0.02935584747925892), (2869, 0.015261994451907273), (2870, 0.0), (2871, 0.0), (2872, 0.0), (2873, 0.03200618955180208), (2874, 0.01472434572007052), (2875, 0.01616190815570198), (2876, 0.0), (2877, 0.0), (2878, 0.016083053596682047), (2879, 0.0), (2880, 0.006443531554586671), (2881, 0.006771050120494431), (2882, 0.0), (2883, 0.02954763671411125), (2884, 0.030158271023120034), (2885, 0.005604684342922972), (2886, 0.0), (2887, 0.007987425364094415), (2888, 0.015015155297808162), (2889, 0.03596378759652256), (2890, 0.0), (2891, 0.0), (2892, 0.0), (2893, 0.0), (2894, 0.0), (2895, 0.05746806138143871), (2896, 0.015493547280196873), (2897, 0.0), (2898, 0.015105450654748772), (2899, 0.005620041589001291), (2900, 0.0), (2901, 0.0), (2902, 0.05610606613010762), (2903, 0.006704493126395947), (2904, 0.015869089367186617), (2905, 0.0), (2906, 0.0), (2907, 0.0), (2908, 0.04263943518280363), (2909, 0.021295034527376584), (2910, 0.03141067252557596), (2911, 0.012816947657677163), (2912, 0.010687267443346618), (2913, 0.004903718997929021), (2914, 0.0), (2915, 0.04403727198811387), (2916, 0.0), (2917, 0.024992130701140744), (2918, 0.019115990390849193), (2919, 0.0), (2920, 0.018847354775212186), (2921, 0.0), (2922, 0.008134657113403134), (2923, 0.0), (2924, 0.0), (2925, 0.0), (2926, 0.0), (2927, 0.02402327196206798), (2928, 0.0), (2929, 0.01414949535184246), (2930, 0.0), (2931, 0.014351051248949327), (2932, 0.0), (2933, 0.013472964318405457), (2934, 0.0), (2935, 0.029202205938478214), (2936, 0.017959136112917926), (2937, 0.01990439624322507), (2938, 0.011178895162041758), (2939, 0.0), (2940, 0.11591566314469556), (2941, 0.0), (2942, 0.023278970207371658), (2943, 0.005957023699592182), (2944, 0.04718981674925973), (2945, 0.0), (2946, 0.0), (2947, 0.006127668678711137), (2948, 0.007785555964320862), (2949, 0.0), (2950, 0.013172550025549061), (2951, 0.0), (2952, 0.0), (2953, 0.013035285876954626), (2954, 0.0), (2955, 0.05638086329502463), (2956, 0.02218889461105913), (2957, 0.016960261189818342), (2958, 0.005569726656042437), (2959, 0.006293721423998985), (2960, 0.014137645373250242), (2961, 0.0), (2962, 0.016192239218889844), (2963, 0.00638340479256156), (2964, 0.01695313272706209), (2965, 0.0), (2966, 0.0), (2967, 0.0), (2968, 0.0), (2969, 0.03127475936095369), (2970, 0.0), (2971, 0.005201960055207144), (2972, 0.0), (2973, 0.0), (2974, 0.0), (2975, 0.013937887091733736), (2976, 0.0), (2977, 0.01624411520393764), (2978, 0.0), (2979, 0.03844639207203869), (2980, 0.02803068809864751), (2981, 0.036257807966890425), (2982, 0.014015068166186988), (2983, 0.0), (2984, 0.0), (2985, 0.01323305566878019), (2986, 0.0), (2987, 0.0), (2988, 0.016362776724353302), (2989, 0.008330534941128192), (2990, 0.024626438576592108), (2991, 0.0), (2992, 0.0203669169019993), (2993, 0.0), (2994, 0.0), (2995, 0.012051744539262228), (2996, 0.012146423675913846), (2997, 0.0), (2998, 0.020809573638262614), (2999, 0.0), (3000, 0.039531046957467675), (3001, 0.0), (3002, 0.006041740609858188), (3003, 0.02241695372416133), (3004, 0.0), (3005, 0.0), (3006, 0.0), (3007, 0.0), (3008, 0.0851200356587338), (3009, 0.0), (3010, 0.01064320376304737), (3011, 0.0), (3012, 0.0), (3013, 0.014344849405557174), (3014, 0.010419454283131332), (3015, 0.0), (3016, 0.0), (3017, 0.0), (3018, 0.0), (3019, 0.0), (3020, 0.0), (3021, 0.0), (3022, 0.019795538042564655), (3023, 0.015010041486764832), (3024, 0.016413707003849327), (3025, 0.0), (3026, 0.0), (3027, 0.03027947250445969), (3028, 0.0), (3029, 0.0), (3030, 0.0), (3031, 0.015043583523421602), (3032, 0.0), (3033, 0.015855859135720525), (3034, 0.0), (3035, 0.0), (3036, 0.0), (3037, 0.0), (3038, 0.0), (3039, 0.01795255582798256), (3040, 0.0), (3041, 0.0), (3042, 0.0), (3043, 0.03723933238067713), (3044, 0.019940889208157224), (3045, 0.014051731800431358), (3046, 0.027638836900211777), (3047, 0.011183156670368555), (3048, 0.0), (3049, 0.01529088570070853), (3050, 0.0), (3051, 0.034600241049612804), (3052, 0.0), (3053, 0.0), (3054, 0.0), (3055, 0.0), (3056, 0.020736537938935266), (3057, 0.01192906010579336), (3058, 0.019646577972782776), (3059, 0.006404762761296417), (3060, 0.0), (3061, 0.013295260039704562), (3062, 0.015367595518951286), (3063, 0.011245354137280455), (3064, 0.006505337900438562), (3065, 0.025249329674881783), (3066, 0.07390060185622244), (3067, 0.02823493709696854), (3068, 0.0), (3069, 0.08648334560652142), (3070, 0.005340460097058384), (3071, 0.0), (3072, 0.0), (3073, 0.0), (3074, 0.0), (3075, 0.0), (3076, 0.0), (3077, 0.013091956111571372), (3078, 0.015824956826646513), (3079, 0.0), (3080, 0.0), (3081, 0.0), (3082, 0.0), (3083, 0.05401678847217688), (3084, 0.027708465792563818), (3085, 0.020867248411717422), (3086, 0.0), (3087, 0.0), (3088, 0.0), (3089, 0.014508578531813731), (3090, 0.03395030035302048), (3091, 0.07555679080140504), (3092, 0.0), (3093, 0.011751903522182831), (3094, 0.01856318200580346), (3095, 0.017032448116596887), (3096, 0.053132882581784495), (3097, 0.03499607518374621), (3098, 0.031605316992412175), (3099, 0.012329372070074833), (3100, 0.027199815391979257), (3101, 0.01685610083690651), (3102, 0.024340873469129925), (3103, 0.0), (3104, 0.027661560357538913), (3105, 0.05224219111027756), (3106, 0.0), (3107, 0.0), (3108, 0.027932694842408207), (3109, 0.0), (3110, 0.0), (3111, 0.046296354484535826), (3112, 0.05493500127580156), (3113, 0.011257408914400902), (3114, 0.027480590453669407), (3115, 0.028478659223688304), (3116, 0.05446182317097734), (3117, 0.01265298490236913), (3118, 0.0), (3119, 0.0), (3120, 0.010218538178656845), (3121, 0.017669477418263347), (3122, 0.014554849907251526), (3123, 0.015021432283602087), (3124, 0.014391210943771495), (3125, 0.0), (3126, 0.01716121116477015), (3127, 0.0), (3128, 0.0), (3129, 0.04115721894902398), (3130, 0.07102695552244537), (3131, 0.014829870227326), (3132, 0.12081541514808544), (3133, 0.10710883219960785), (3134, 0.11893455018282621), (3135, 0.012982790103163434), (3136, 0.024414167266115883), (3137, 0.0), (3138, 0.0), (3139, 0.0), (3140, 0.03150178372512182), (3141, 0.0387147946894996), (3142, 0.0), (3143, 0.016990122836252074), (3144, 0.0118126161885352), (3145, 0.0), (3146, 0.0), (3147, 0.04487155104828861), (3148, 0.0), (3149, 0.013372014196994825), (3150, 0.027333821774261455), (3151, 0.027225436857949387), (3152, 0.027144471283353233), (3153, 0.026901940218246555), (3154, 0.0), (3155, 0.0), (3156, 0.03278660582009011), (3157, 0.01765841952032192), (3158, 0.0), (3159, 0.0), (3160, 0.0), (3161, 0.05322803563483955), (3162, 0.02396105891317959), (3163, 0.06728829738894859), (3164, 0.013434998627379126), (3165, 0.0068667767701216095), (3166, 0.0), (3167, 0.0), (3168, 0.006732002979699949), (3169, 0.018753914163905393), (3170, 0.0), (3171, 0.0), (3172, 0.016140250720003486), (3173, 0.015025454872186346), (3174, 0.043562084089251135), (3175, 0.025453391932168487), (3176, 0.0), (3177, 0.01207944442287923), (3178, 0.0), (3179, 0.0), (3180, 0.0), (3181, 0.03660885802607233), (3182, 0.0), (3183, 0.025571931689879965), (3184, 0.06820201251883135), (3185, 0.009071548796204143), (3186, 0.05419747074029314), (3187, 0.0), (3188, 0.0), (3189, 0.01293869315798525), (3190, 0.05538739194327328), (3191, 0.018448430250954596), (3192, 0.0531416225902348), (3193, 0.013021053810640698), (3194, 0.0), (3195, 0.01086168347639902), (3196, 0.0), (3197, 0.0), (3198, 0.0), (3199, 0.0), (3200, 0.0), (3201, 0.019675977512259638), (3202, 0.05646721935520403), (3203, 0.0), (3204, 0.0), (3205, 0.022111568292947713), (3206, 0.03354400252798407), (3207, 0.013973998076992554), (3208, 0.008286564569781213), (3209, 0.028356484479594133), (3210, 0.006030456598412283), (3211, 0.01747187715452888), (3212, 0.0), (3213, 0.00501148783119408), (3214, 0.0), (3215, 0.04685085967523404), (3216, 0.0), (3217, 0.0), (3218, 0.01691354599516819), (3219, 0.0), (3220, 0.0), (3221, 0.022192180832203333), (3222, 0.013227580467492827), (3223, 0.009081028164481978), (3224, 0.01149111813758603), (3225, 0.02033279121899944), (3226, 0.029182796537875828), (3227, 0.006028055273226838), (3228, 0.03776882611571637), (3229, 0.011462966836006979), (3230, 0.0), (3231, 0.01694279996617102), (3232, 0.012119292643381359), (3233, 0.0), (3234, 0.0), (3235, 0.05133280060161374), (3236, 0.013098059651773557), (3237, 0.02822967901668471), (3238, 0.017521540197481235), (3239, 0.0), (3240, 0.02761895256574854), (3241, 0.006237132055951571), (3242, 0.013350630503440831), (3243, 0.0), (3244, 0.02464381215972701), (3245, 0.0), (3246, 0.04168442260438564), (3247, 0.023657943633786465), (3248, 0.0), (3249, 0.0), (3250, 0.0), (3251, 0.0), (3252, 0.044555643661444835), (3253, 0.042881080085596615), (3254, 0.01133521039210933), (3255, 0.0), (3256, 0.03135973572894191), (3257, 0.0), (3258, 0.0), (3259, 0.006305046194947319), (3260, 0.0), (3261, 0.0), (3262, 0.0), (3263, 0.006513068224922448), (3264, 0.038250108652506366), (3265, 0.01634943456257595), (3266, 0.0), (3267, 0.005424748846190789), (3268, 0.0), (3269, 0.0), (3270, 0.016905101467066794), (3271, 0.0), (3272, 0.03428620926845122), (3273, 0.015433967662781234), (3274, 0.0), (3275, 0.006987664503646335), (3276, 0.03951451792123309), (3277, 0.0), (3278, 0.03059658605394245), (3279, 0.009457662764678701), (3280, 0.0), (3281, 0.0), (3282, 0.0), (3283, 0.0), (3284, 0.03916877157483528), (3285, 0.0), (3286, 0.07489063497276957), (3287, 0.023921845907157804), (3288, 0.015522571646138223), (3289, 0.020680586465748853), (3290, 0.0), (3291, 0.0), (3292, 0.0), (3293, 0.013121498990652833), (3294, 0.014632659953454672), (3295, 0.0), (3296, 0.0), (3297, 0.006352601747856706), (3298, 0.0), (3299, 0.04668991189063107), (3300, 0.0), (3301, 0.02045807426723941), (3302, 0.04300205569771502), (3303, 0.014107764005743463), (3304, 0.041464433537210715), (3305, 0.0), (3306, 0.0054809879673418755), (3307, 0.01430523906347931), (3308, 0.04468860579058501), (3309, 0.04728100059463149), (3310, 0.01869414812896591), (3311, 0.01539215756100897), (3312, 0.006943915309387788), (3313, 0.0), (3314, 0.013061113341382739), (3315, 0.03863413426216958), (3316, 0.012203726042263581), (3317, 0.0), (3318, 0.0), (3319, 0.0), (3320, 0.03968587097549652), (3321, 0.0), (3322, 0.0), (3323, 0.03479078935002038), (3324, 0.0), (3325, 0.03605393814554826), (3326, 0.0), (3327, 0.00707067830482144), (3328, 0.009110907030868184), (3329, 0.02459404639745648), (3330, 0.013816035092506408), (3331, 0.0), (3332, 0.028146307847874974), (3333, 0.0), (3334, 0.0), (3335, 0.025696223099639627), (3336, 0.005381129001076628), (3337, 0.0), (3338, 0.010282863484865361), (3339, 0.005144999171922767), (3340, 0.005926355268236927), (3341, 0.0), (3342, 0.07776349255008297), (3343, 0.0059724636085655), (3344, 0.022846928392675384), (3345, 0.0), (3346, 0.0375110058138747), (3347, 0.0), (3348, 0.0), (3349, 0.0), (3350, 0.021540981130761017), (3351, 0.012853077290313859), (3352, 0.0), (3353, 0.028276439076184275), (3354, 0.0), (3355, 0.013738057368045042), (3356, 0.0), (3357, 0.0), (3358, 0.0), (3359, 0.0), (3360, 0.054503302083591235), (3361, 0.013121500077751605), (3362, 0.04976939448659161), (3363, 0.0), (3364, 0.0), (3365, 0.02623028917474088), (3366, 0.11775526650033014), (3367, 0.0451491271329901), (3368, 0.030985823836843028), (3369, 0.024516908928735738), (3370, 0.010713493022024984), (3371, 0.0), (3372, 0.0), (3373, 0.05569224393482013), (3374, 0.00593320117547535), (3375, 0.0), (3376, 0.058963781884140275), (3377, 0.009224332292348312), (3378, 0.0), (3379, 0.0), (3380, 0.0), (3381, 0.0), (3382, 0.0), (3383, 0.006769531696667439), (3384, 0.04947801417805575), (3385, 0.04433596466276621), (3386, 0.028174411706238685), (3387, 0.039410847200992125), (3388, 0.0), (3389, 0.027341162953609825), (3390, 0.01922688433097413), (3391, 0.0), (3392, 0.013528264635027399), (3393, 0.02008429405761846), (3394, 0.01728865576194785), (3395, 0.050964074913232967), (3396, 0.0), (3397, 0.007074416962156843), (3398, 0.012315578966690704), (3399, 0.025133639975737414), (3400, 0.010793848091038153), (3401, 0.0), (3402, 0.0), (3403, 0.08316891332091897), (3404, 0.05245999371889774), (3405, 0.08574695497736112), (3406, 0.0), (3407, 0.03383834840375187), (3408, 0.028514477172379923), (3409, 0.013535272279146705), (3410, 0.03527692699945329), (3411, 0.00968350955967228), (3412, 0.03624379230399294), (3413, 0.0), (3414, 0.0), (3415, 0.0), (3416, 0.047603307064832054), (3417, 0.02801073748960292), (3418, 0.0), (3419, 0.030671345635208347), (3420, 0.03959664920861101), (3421, 0.0), (3422, 0.0), (3423, 0.018152947220118308), (3424, 0.020482352332127286), (3425, 0.0), (3426, 0.02209110693094877), (3427, 0.013913757701693943), (3428, 0.0), (3429, 0.0040648039583247005), (3430, 0.011539324957289725), (3431, 0.0), (3432, 0.02108009205020003), (3433, 0.0), (3434, 0.013528295901243175), (3435, 0.0), (3436, 0.02197511386477596), (3437, 0.0), (3438, 0.014797889226580634), (3439, 0.010224489652081612), (3440, 0.006946292670350829), (3441, 0.005929406658330533), (3442, 0.014705007568462786), (3443, 0.019570818706386172), (3444, 0.04110678973293738), (3445, 0.018352174564553268), (3446, 0.01264754559699683), (3447, 0.026287622679521568), (3448, 0.01681517607863349), (3449, 0.01374102444968874), (3450, 0.039017676952212026), (3451, 0.042896309096205426), (3452, 0.0346530391613601), (3453, 0.035310909492341114), (3454, 0.025240020233228348), (3455, 0.0), (3456, 0.04889267747307461), (3457, 0.016913496416325977), (3458, 0.020366863888323237), (3459, 0.026312080949236257), (3460, 0.0), (3461, 0.021131282488187374), (3462, 0.0), (3463, 0.05878903621802887), (3464, 0.018991815862688007), (3465, 0.005678628069789016), (3466, 0.050777901468762064), (3467, 0.036395220869372746), (3468, 0.00644331889394381), (3469, 0.10647855082771936), (3470, 0.02680696148513112), (3471, 0.0), (3472, 0.022702576014641894), (3473, 0.02797510812148928), (3474, 0.024151836480395643), (3475, 0.020018585781558317), (3476, 0.0), (3477, 0.0), (3478, 0.0), (3479, 0.01644654778005482), (3480, 0.009791260760248216), (3481, 0.0), (3482, 0.04178626359732148), (3483, 0.0329515803105279), (3484, 0.016781911465357287), (3485, 0.010943393841965075), (3486, 0.014152881121520718), (3487, 0.010611934239940429), (3488, 0.0), (3489, 0.0), (3490, 0.0), (3491, 0.0), (3492, 0.019799786189809508), (3493, 0.0), (3494, 0.0), (3495, 0.0), (3496, 0.0), (3497, 0.01667002921348785), (3498, 0.0), (3499, 0.0), (3500, 0.011797538571534311), (3501, 0.0), (3502, 0.0), (3503, 0.04191593283101994), (3504, 0.01519570917539745), (3505, 0.0), (3506, 0.0), (3507, 0.006197596745929665), (3508, 0.031225875651909783), (3509, 0.07038367043237383), (3510, 0.0), (3511, 0.013385493872468698), (3512, 0.0), (3513, 0.0191667221674907), (3514, 0.03351499620199808), (3515, 0.051188188616458935), (3516, 0.03491482856886423), (3517, 0.013166407576851334), (3518, 0.04538138918170903), (3519, 0.0), (3520, 0.025205513012119585), (3521, 0.0), (3522, 0.03094417743265118), (3523, 0.0), (3524, 0.03362713158832702), (3525, 0.005197573003809497), (3526, 0.0), (3527, 0.0), (3528, 0.005507259182668588), (3529, 0.01212823323025998), (3530, 0.0), (3531, 0.0057987238055186435), (3532, 0.04981949192824018), (3533, 0.0), (3534, 0.0), (3535, 0.0), (3536, 0.04548610959337664), (3537, 0.0), (3538, 0.009819674053000667), (3539, 0.044053887041569144), (3540, 0.0), (3541, 0.04470873792794958), (3542, 0.0), (3543, 0.02428560252209789), (3544, 0.0), (3545, 0.0), (3546, 0.005881239722792185), (3547, 0.0), (3548, 0.0), (3549, 0.0), (3550, 0.018912387235967932), (3551, 0.015398777046785864), (3552, 0.0), (3553, 0.015723515053774267), (3554, 0.038418880678253074), (3555, 0.04193749799692), (3556, 0.017741130426827262), (3557, 0.0), (3558, 0.05122271014205493), (3559, 0.02330660017614647), (3560, 0.015574565891802688), (3561, 0.016694411475483614), (3562, 0.04793840004859784), (3563, 0.0), (3564, 0.0), (3565, 0.0), (3566, 0.05264881173014299), (3567, 0.028472198460774017), (3568, 0.02510421935300141), (3569, 0.013081075600828324), (3570, 0.0), (3571, 0.0), (3572, 0.024174068771273247), (3573, 0.0), (3574, 0.012108514626504866), (3575, 0.0), (3576, 0.0), (3577, 0.01475745903921496), (3578, 0.01989939946382485), (3579, 0.05119628837471828), (3580, 0.0), (3581, 0.0), (3582, 0.04006369693635857), (3583, 0.0), (3584, 0.036675671623423764), (3585, 0.010757454694121921), (3586, 0.04303326304743578), (3587, 0.04692751635208409), (3588, 0.007345458757331407), (3589, 0.0219044865213531), (3590, 0.0), (3591, 0.0062397064404119155), (3592, 0.014846427771301664), (3593, 0.006673816543846003), (3594, 0.01580217377600095), (3595, 0.005720043083255994), (3596, 0.015700928261495082), (3597, 0.11296907543786297), (3598, 0.05897523608043288), (3599, 0.04577242303060118), (3600, 0.02396555725027288), (3601, 0.0), (3602, 0.01950961951577499), (3603, 0.019051457258757842), (3604, 0.14239269976485916), (3605, 0.005715308374837453), (3606, 0.014134996495008045), (3607, 0.03750859119505569), (3608, 0.0), (3609, 0.016849814303381516), (3610, 0.030855631167805046), (3611, 0.0), (3612, 0.04005693233180332), (3613, 0.014728789842385633), (3614, 0.01150988920626004), (3615, 0.02600658758504296), (3616, 0.027152362228769808), (3617, 0.0), (3618, 0.0), (3619, 0.0), (3620, 0.0), (3621, 0.014491310831812453), (3622, 0.0), (3623, 0.05547591237091587), (3624, 0.0), (3625, 0.0), (3626, 0.0), (3627, 0.0), (3628, 0.015157913565754366), (3629, 0.013539865560532847), (3630, 0.17610306147004212), (3631, 0.0), (3632, 0.02842172249195799), (3633, 0.0), (3634, 0.08292462414566636), (3635, 0.01874072560810113), (3636, 0.0), (3637, 0.01488057145539459), (3638, 0.00982817316830289), (3639, 0.0), (3640, 0.03853224164653684), (3641, 0.01914577706413526), (3642, 0.019837429310350405), (3643, 0.050301065470753525), (3644, 0.013620624317764006), (3645, 0.004506263642838727), (3646, 0.09017237492290306), (3647, 0.0), (3648, 0.03220130122531459), (3649, 0.0), (3650, 0.012478445102227538), (3651, 0.030079715528490494), (3652, 0.0), (3653, 0.012553627848242675), (3654, 0.01337356201160232), (3655, 0.09381618679469583), (3656, 0.014620984521248232), (3657, 0.02177450329504198), (3658, 0.03484104606503737), (3659, 0.02545139274804735), (3660, 0.0252251671049797), (3661, 0.018093791004589545), (3662, 0.0), (3663, 0.0), (3664, 0.0), (3665, 0.011010964434756866), (3666, 0.012786949172408028), (3667, 0.021851360574299247), (3668, 0.04321704932708006), (3669, 0.010776352910105844), (3670, 0.0), (3671, 0.0), (3672, 0.0), (3673, 0.0), (3674, 0.009316810437526165), (3675, 0.0), (3676, 0.006041605937852478), (3677, 0.0), (3678, 0.025269832944729242), (3679, 0.0), (3680, 0.03461253552042584), (3681, 0.014116387690375504), (3682, 0.0), (3683, 0.020656199872931196), (3684, 0.005188504148722283), (3685, 0.007733418969834442), (3686, 0.0), (3687, 0.0), (3688, 0.0), (3689, 0.05883455531549227), (3690, 0.08458237867257823), (3691, 0.0), (3692, 0.06553221939506836), (3693, 0.011826788605014035), (3694, 0.04120484444251585), (3695, 0.16333178856382893), (3696, 0.0), (3697, 0.04369868634423704), (3698, 0.03436994588262905), (3699, 0.0), (3700, 0.033906135509072954), (3701, 0.09425154057866461), (3702, 0.0), (3703, 0.008923549418505114), (3704, 0.0), (3705, 0.02824760213599156), (3706, 0.044503006569377765), (3707, 0.006084765186012151), (3708, 0.006902812454122068), (3709, 0.03007986699442032), (3710, 0.006355846206503456), (3711, 0.02411948746381193), (3712, 0.0), (3713, 0.013227276156016536), (3714, 0.013460842222515756), (3715, 0.007714585527402544), (3716, 0.00991992564676486), (3717, 0.0), (3718, 0.00730962866689775), (3719, 0.0), (3720, 0.0057694116341567275), (3721, 0.016337054912041366), (3722, 0.030237299754613988), (3723, 0.08193909473058292), (3724, 0.037522355560277075), (3725, 0.0), (3726, 0.03746146192548029), (3727, 0.0), (3728, 0.0297341567700248), (3729, 0.0), (3730, 0.0), (3731, 0.022942202518787876), (3732, 0.03718686453437827), (3733, 0.015109775531138835), (3734, 0.01725408518640403), (3735, 0.02560614387016262), (3736, 0.0), (3737, 0.0), (3738, 0.01639068748733606), (3739, 0.0), (3740, 0.015585619552764631), (3741, 0.02124979609057966), (3742, 0.01812221596733581), (3743, 0.014342427804206758), (3744, 0.016869541082781724), (3745, 0.025685108057453762), (3746, 0.0398154725181523), (3747, 0.08250344747688128), (3748, 0.013726606042811007), (3749, 0.0), (3750, 0.0), (3751, 0.02316181112911877), (3752, 0.0329993458606249), (3753, 0.0), (3754, 0.051158884517429164), (3755, 0.0), (3756, 0.0), (3757, 0.0), (3758, 0.015208712240111064), (3759, 0.0), (3760, 0.0), (3761, 0.0), (3762, 0.0), (3763, 0.0), (3764, 0.0), (3765, 0.0), (3766, 0.014686178381486397), (3767, 0.025886191057313226), (3768, 0.0), (3769, 0.02109931613522054), (3770, 0.012878153723818335), (3771, 0.006475474112598979), (3772, 0.0), (3773, 0.01355716635033266), (3774, 0.0), (3775, 0.0), (3776, 0.005120233287046797), (3777, 0.0), (3778, 0.0), (3779, 0.0), (3780, 0.026726478618304534), (3781, 0.013195094975672516), (3782, 0.026670132734304845), (3783, 0.1009393134668619), (3784, 0.0151006954608776), (3785, 0.053192198281021036), (3786, 0.12079482596691922), (3787, 0.015175293256141413), (3788, 0.0), (3789, 0.0), (3790, 0.046373042840984605), (3791, 0.0), (3792, 0.0), (3793, 0.02891161867819858), (3794, 0.016116598414554907), (3795, 0.012399410330827988), (3796, 0.0), (3797, 0.017555964396378302), (3798, 0.0267644158612998), (3799, 0.0), (3800, 0.0), (3801, 0.04209694465809673), (3802, 0.04072817111181039), (3803, 0.043814351059890455), (3804, 0.0), (3805, 0.01976652624582742), (3806, 0.0), (3807, 0.005947163720963697), (3808, 0.0), (3809, 0.0), (3810, 0.0), (3811, 0.038387438634765576), (3812, 0.038744774569108964), (3813, 0.013874640165656454), (3814, 0.005880447224090856), (3815, 0.0), (3816, 0.0), (3817, 0.02981588776088833), (3818, 0.0), (3819, 0.0), (3820, 0.0), (3821, 0.013304976835582355), (3822, 0.030206304529715358), (3823, 0.0), (3824, 0.0), (3825, 0.014324001395499622), (3826, 0.036158254913436993), (3827, 0.0), (3828, 0.0), (3829, 0.04971422669027589), (3830, 0.0), (3831, 0.023943818136964386), (3832, 0.0), (3833, 0.0), (3834, 0.04476158737256818), (3835, 0.017213528605254207), (3836, 0.0), (3837, 0.0), (3838, 0.0), (3839, 0.014633232088136272), (3840, 0.028421387341931753), (3841, 0.0), (3842, 0.0), (3843, 0.0), (3844, 0.0), (3845, 0.013263572430030991), (3846, 0.027496666245030235), (3847, 0.012367669743400702), (3848, 0.0), (3849, 0.03535648522380654), (3850, 0.04707823068851798), (3851, 0.0), (3852, 0.0), (3853, 0.011628314650502382), (3854, 0.010206651051702976), (3855, 0.0), (3856, 0.0), (3857, 0.0), (3858, 0.029958254132404185), (3859, 0.03356263391971006), (3860, 0.005420547939862028), (3861, 0.0), (3862, 0.006243928135264429), (3863, 0.0), (3864, 0.028054167725868395), (3865, 0.021178472904314426), (3866, 0.0), (3867, 0.014445615438413575), (3868, 0.0), (3869, 0.015194992447801703), (3870, 0.05772057016096045), (3871, 0.00822759519090902), (3872, 0.0), (3873, 0.0), (3874, 0.0), (3875, 0.04902082675553328), (3876, 0.045254151474476485), (3877, 0.033087386543723715), (3878, 0.0200525902941822), (3879, 0.07970586265215712), (3880, 0.03467732318063685), (3881, 0.0), (3882, 0.024999455183951167), (3883, 0.014037816900009763), (3884, 0.017751406237499656), (3885, 0.0), (3886, 0.0), (3887, 0.0), (3888, 0.012185183171787512), (3889, 0.0), (3890, 0.0), (3891, 0.0382198341058586), (3892, 0.0), (3893, 0.0), (3894, 0.049822414326363085), (3895, 0.012135790080969348), (3896, 0.0), (3897, 0.013057074867350039), (3898, 0.012067179921646883), (3899, 0.0), (3900, 0.0), (3901, 0.0), (3902, 0.0), (3903, 0.027201074226828333), (3904, 0.0), (3905, 0.023096373152365502), (3906, 0.0), (3907, 0.014381130032095806), (3908, 0.0060571755831047075), (3909, 0.01480179031968672), (3910, 0.030310767512177705), (3911, 0.0), (3912, 0.0), (3913, 0.0359073944893896), (3914, 0.0), (3915, 0.01657185927801305), (3916, 0.022306598283935792), (3917, 0.013333970444887946), (3918, 0.0), (3919, 0.016584503627971005), (3920, 0.0), (3921, 0.02325298778429378), (3922, 0.0), (3923, 0.012736442061141773), (3924, 0.012132780744252065), (3925, 0.03250041189300672), (3926, 0.045346587461751436), (3927, 0.013205088306531209), (3928, 0.0), (3929, 0.01242666826904356), (3930, 0.0), (3931, 0.0), (3932, 0.01172850978981688), (3933, 0.09460922512816919), (3934, 0.0), (3935, 0.0), (3936, 0.0), (3937, 0.04270474126192359), (3938, 0.02714021599792444), (3939, 0.03479552903269089), (3940, 0.02217998661709837), (3941, 0.0), (3942, 0.0), (3943, 0.025532083650576628), (3944, 0.0), (3945, 0.0), (3946, 0.01693930028143363), (3947, 0.006908798388984264), (3948, 0.01055798125620871), (3949, 0.016928687988067195), (3950, 0.014135452988266137), (3951, 0.018511541734304016), (3952, 0.0), (3953, 0.005439601503677332), (3954, 0.02697417050494428), (3955, 0.005966155277196184), (3956, 0.0), (3957, 0.013076584354389532), (3958, 0.0051269169200814126), (3959, 0.0), (3960, 0.012512790140723404), (3961, 0.0), (3962, 0.0), (3963, 0.02598058286012337), (3964, 0.022537224372867436), (3965, 0.04924350635713676), (3966, 0.010293734501338936), (3967, 0.0), (3968, 0.1505487846076759), (3969, 0.030895171984831053), (3970, 0.04661365242144574), (3971, 0.0), (3972, 0.10743898224189466), (3973, 0.01689121930709312), (3974, 0.0), (3975, 0.0), (3976, 0.0), (3977, 0.01497076725703381), (3978, 0.0057024276519213254), (3979, 0.16488640858982356), (3980, 0.04779568032721932), (3981, 0.0), (3982, 0.11392472792119313), (3983, 0.04053027229673812), (3984, 0.0), (3985, 0.0), (3986, 0.0), (3987, 0.023255525514086953), (3988, 0.0), (3989, 0.0), (3990, 0.033996844391183376), (3991, 0.007434007297907116), (3992, 0.0), (3993, 0.005523721441204861), (3994, 0.0), (3995, 0.02092154348159353), (3996, 0.0), (3997, 0.021123391499124913), (3998, 0.021044020575050733), (3999, 0.015657604157589954), (4000, 0.0), (4001, 0.06975948373272194), (4002, 0.0), (4003, 0.013603830775229196), (4004, 0.02953207544152723), (4005, 0.00638822006518174), (4006, 0.0), (4007, 0.04425299660442012), (4008, 0.016464715437178434), (4009, 0.03369208106229215), (4010, 0.01420993005754722), (4011, 0.011214681383853769), (4012, 0.00564244122558208), (4013, 0.013407872154975166), (4014, 0.0), (4015, 0.0355869829721776), (4016, 0.007861186350914394), (4017, 0.016711783265380368), (4018, 0.0), (4019, 0.10713769066935272), (4020, 0.02083313685147916), (4021, 0.0), (4022, 0.0), (4023, 0.01637175104472663), (4024, 0.013732157160450103), (4025, 0.01645891103277572), (4026, 0.0), (4027, 0.0), (4028, 0.0), (4029, 0.0), (4030, 0.0), (4031, 0.009214966204789905), (4032, 0.018512043792525933), (4033, 0.01972232055386947), (4034, 0.03524123049704357), (4035, 0.013804190710571701), (4036, 0.019370008047295786), (4037, 0.005663556345595344), (4038, 0.006391530523417959), (4039, 0.00582791473304261), (4040, 0.0), (4041, 0.11676210067646801), (4042, 0.0), (4043, 0.0), (4044, 0.005424547549311658), (4045, 0.006316062657911372), (4046, 0.02175193116789861), (4047, 0.019284124362025368), (4048, 0.0), (4049, 0.0), (4050, 0.0), (4051, 0.0), (4052, 0.016767246020421817), (4053, 0.0433723551801492), (4054, 0.02788124269118951), (4055, 0.0375824408435169), (4056, 0.013786498129116634), (4057, 0.014101520061604545), (4058, 0.015318006254189507), (4059, 0.0), (4060, 0.015158234723184675), (4061, 0.09586213730881528), (4062, 0.03413177480609739), (4063, 0.0), (4064, 0.0), (4065, 0.0), (4066, 0.0), (4067, 0.018675053569081817), (4068, 0.006073730274542744), (4069, 0.0), (4070, 0.1382351553141834), (4071, 0.052106170229621336), (4072, 0.0), (4073, 0.0), (4074, 0.04891734976460669), (4075, 0.10727437216365068), (4076, 0.05206534437090433), (4077, 0.03275419271922898), (4078, 0.014110164637096365), (4079, 0.02462380700398487), (4080, 0.0), (4081, 0.013939977655005048), (4082, 0.0), (4083, 0.0), (4084, 0.0), (4085, 0.0), (4086, 0.008530156739474848), (4087, 0.0), (4088, 0.03289963371721332), (4089, 0.0), (4090, 0.031690074663638386), (4091, 0.015230623415334897), (4092, 0.029150349964906896), (4093, 0.03801818809611768), (4094, 0.01281436835579763), (4095, 0.015865363788192366), (4096, 0.018916386222163902), (4097, 0.0), (4098, 0.020338682292464876), (4099, 0.0416565347794415), (4100, 0.006245128822907048), (4101, 0.026912336926539673), (4102, 0.0), (4103, 0.043504539419458005), (4104, 0.0), (4105, 0.0), (4106, 0.02522917745011788), (4107, 0.0), (4108, 0.0), (4109, 0.028245832061389014), (4110, 0.026384099224793248), (4111, 0.0), (4112, 0.013530024701562627), (4113, 0.0), (4114, 0.005188674080141854), (4115, 0.0), (4116, 0.030322749061133983), (4117, 0.012599237363904059), (4118, 0.021781078328985647), (4119, 0.006644790643562605), (4120, 0.0), (4121, 0.006799762698015599), (4122, 0.021132325996098364), (4123, 0.0), (4124, 0.0), (4125, 0.01584640229490335), (4126, 0.0), (4127, 0.0), (4128, 0.013810782116506343), (4129, 0.0), (4130, 0.015150422553650164), (4131, 0.006397768546084309), (4132, 0.08039492265232778), (4133, 0.0), (4134, 0.021772094164509585), (4135, 0.0), (4136, 0.025268730176135217), (4137, 0.0), (4138, 0.013650438743515594), (4139, 0.0245588687119066), (4140, 0.0), (4141, 0.028290414756692906), (4142, 0.037228158280627505), (4143, 0.015295328236215495), (4144, 0.035251888670644105), (4145, 0.0), (4146, 0.0), (4147, 0.028434523343983196), (4148, 0.005955116720721114), (4149, 0.0), (4150, 0.0), (4151, 0.0), (4152, 0.007520914837792754), (4153, 0.023854169870284506), (4154, 0.0), (4155, 0.025120138033600317), (4156, 0.05251551039543147), (4157, 0.053784584457841934), (4158, 0.013622026706613612), (4159, 0.011541670127115366), (4160, 0.008838207253406486), (4161, 0.0), (4162, 0.0), (4163, 0.0), (4164, 0.031089563214731546), (4165, 0.0429169920804596), (4166, 0.0), (4167, 0.012809749319303931), (4168, 0.008062123513820534), (4169, 0.05126776967556891), (4170, 0.0), (4171, 0.026383726674264293), (4172, 0.0), (4173, 0.013176233841630969), (4174, 0.01873981176472586), (4175, 0.013540350834322642), (4176, 0.0), (4177, 0.022663571962041593), (4178, 0.022926893161382824), (4179, 0.0), (4180, 0.0), (4181, 0.09123040993546416), (4182, 0.07274195138739957), (4183, 0.025779448355730938), (4184, 0.0), (4185, 0.020514358242327037), (4186, 0.025679554720981684), (4187, 0.0), (4188, 0.025637477840601972), (4189, 0.03705406224986634), (4190, 0.0), (4191, 0.010816537656201494), (4192, 0.0), (4193, 0.012605784213466205), (4194, 0.024738786603715528), (4195, 0.03726921673403745), (4196, 0.03444117718245747), (4197, 0.0), (4198, 0.0), (4199, 0.049151633916226595), (4200, 0.06733398237099222), (4201, 0.0), (4202, 0.008359665164880722), (4203, 0.036074938514754275), (4204, 0.0), (4205, 0.014170483206241855), (4206, 0.0), (4207, 0.0), (4208, 0.0), (4209, 0.015090722023599212), (4210, 0.056278865034511905), (4211, 0.04247532860430227), (4212, 0.0), (4213, 0.0), (4214, 0.0), (4215, 0.0), (4216, 0.0), (4217, 0.015323093136455976), (4218, 0.03295173065471832), (4219, 0.0), (4220, 0.02445964584082128), (4221, 0.024458580120916715), (4222, 0.0), (4223, 0.0), (4224, 0.013556205900032169), (4225, 0.0), (4226, 0.017344076716211194), (4227, 0.028839980360232054), (4228, 0.0), (4229, 0.0), (4230, 0.0), (4231, 0.0), (4232, 0.011054923714911203), (4233, 0.043915080278254824), (4234, 0.02548578849099204), (4235, 0.0), (4236, 0.027491444522830283), (4237, 0.010631083400755484), (4238, 0.05049297308050834), (4239, 0.0), (4240, 0.04517513665936719), (4241, 0.016828446509336244), (4242, 0.013711847181674468), (4243, 0.0), (4244, 0.006849099682768216), (4245, 0.051355658428883254), (4246, 0.0), (4247, 0.022961896526592186), (4248, 0.0059431065372064825), (4249, 0.006168575812321624), (4250, 0.0), (4251, 0.0), (4252, 0.0), (4253, 0.0117807511879251), (4254, 0.0), (4255, 0.022143097258183246), (4256, 0.013068658740861723), (4257, 0.014945142895079522), (4258, 0.03866204747280813), (4259, 0.016947162575517274), (4260, 0.0), (4261, 0.0044355803474779775), (4262, 0.0), (4263, 0.0), (4264, 0.005891499623760604), (4265, 0.0), (4266, 0.012426816160260784), (4267, 0.025072173753349657), (4268, 0.03664751547870626), (4269, 0.008455456328928001), (4270, 0.051714253458056546), (4271, 0.0), (4272, 0.028200939297073128), (4273, 0.0), (4274, 0.04931092079604095), (4275, 0.0), (4276, 0.006924837017582365), (4277, 0.0), (4278, 0.0), (4279, 0.01141921205511995), (4280, 0.0), (4281, 0.03019447576873891), (4282, 0.0), (4283, 0.014129535914842721), (4284, 0.0), (4285, 0.007015898628593137), (4286, 0.013020427683146566), (4287, 0.0339854109967664), (4288, 0.008020015093264752), (4289, 0.08404961233942485), (4290, 0.0), (4291, 0.0), (4292, 0.02907698488556255), (4293, 0.006671288600735278), (4294, 0.058369261835750724), (4295, 0.014060615645957796), (4296, 0.0), (4297, 0.0), (4298, 0.015108375717221647), (4299, 0.025503536228480752), (4300, 0.007944506280586416), (4301, 0.0), (4302, 0.0), (4303, 0.022804138127911027), (4304, 0.013693405359862684), (4305, 0.027320720257505333), (4306, 0.0), (4307, 0.036932861493749664), (4308, 0.03891296655521534), (4309, 0.02131134216527735), (4310, 0.005984567417029334), (4311, 0.0), (4312, 0.034098208126071936), (4313, 0.0428108061334963), (4314, 0.026734919247081698), (4315, 0.0), (4316, 0.014247759624754086), (4317, 0.0), (4318, 0.0), (4319, 0.013070138715908886), (4320, 0.04829118233904633), (4321, 0.01210634008221867), (4322, 0.0), (4323, 0.020881225273935936), (4324, 0.026890234286005284), (4325, 0.029934183558399177), (4326, 0.0), (4327, 0.0), (4328, 0.005585059619772556), (4329, 0.0), (4330, 0.012321995437324023), (4331, 0.0), (4332, 0.0), (4333, 0.0), (4334, 0.0), (4335, 0.03349771771325751), (4336, 0.015324080549073587), (4337, 0.07134328483065465), (4338, 0.062721906389192), (4339, 0.019945269769284676), (4340, 0.0), (4341, 0.00935080522039725), (4342, 0.04335857727761778), (4343, 0.03254677737617383), (4344, 0.024088667521437443), (4345, 0.00567088289532995), (4346, 0.013853873118861815), (4347, 0.008435458488033558), (4348, 0.014030812827365102), (4349, 0.0), (4350, 0.02395716925999987), (4351, 0.039103768858779434), (4352, 0.0), (4353, 0.04670179407838984), (4354, 0.008246342874757779), (4355, 0.04064097704903675), (4356, 0.01418927453330011), (4357, 0.013554916352722058), (4358, 0.0), (4359, 0.0), (4360, 0.0), (4361, 0.0), (4362, 0.0), (4363, 0.0), (4364, 0.02176678989942502), (4365, 0.0), (4366, 0.04184496081614517), (4367, 0.027696823441947353), (4368, 0.02772010983664186), (4369, 0.028797970100905474), (4370, 0.05104970607720843), (4371, 0.017012724436296037), (4372, 0.0), (4373, 0.016443428255541293), (4374, 0.029632211680454927), (4375, 0.0), (4376, 0.006129462922446882), (4377, 0.0), (4378, 0.06797693309927623), (4379, 0.033262310719064964), (4380, 0.011232344527618449), (4381, 0.0), (4382, 0.01190829411171473), (4383, 0.0), (4384, 0.01980081550285022), (4385, 0.01380841563119374), (4386, 0.0), (4387, 0.0), (4388, 0.046557871413624136), (4389, 0.0), (4390, 0.006212590606805163), (4391, 0.0), (4392, 0.019263165922749886), (4393, 0.0067442788760408295), (4394, 0.0), (4395, 0.0), (4396, 0.0), (4397, 0.0), (4398, 0.0), (4399, 0.0), (4400, 0.0), (4401, 0.1392354775200229), (4402, 0.0), (4403, 0.0), (4404, 0.0), (4405, 0.031061361917280046), (4406, 0.11889755933507606), (4407, 0.0), (4408, 0.0), (4409, 0.012640933263291024), (4410, 0.03396331513878128), (4411, 0.0), (4412, 0.0), (4413, 0.0), (4414, 0.015293658531129947), (4415, 0.08136237544336275), (4416, 0.0), (4417, 0.0), (4418, 0.010353051408418778), (4419, 0.0268993350637498), (4420, 0.027726144676286875), (4421, 0.0), (4422, 0.0), (4423, 0.0), (4424, 0.0), (4425, 0.0), (4426, 0.009523396622621012), (4427, 0.020156943506122883), (4428, 0.028218414385317445), (4429, 0.005190896404817962), (4430, 0.006259453082182248), (4431, 0.0), (4432, 0.005232830728373421), (4433, 0.03068270579826266), (4434, 0.0), (4435, 0.006007032205055746), (4436, 0.023554035065878075), (4437, 0.0), (4438, 0.0), (4439, 0.012739849078619544), (4440, 0.045663763977671266), (4441, 0.01048462480375538), (4442, 0.0), (4443, 0.12365483311896881), (4444, 0.023963659300441465), (4445, 0.0127738802021434), (4446, 0.01673683614088801), (4447, 0.016596904838265293), (4448, 0.0), (4449, 0.0), (4450, 0.005299675871448283), (4451, 0.013022405578777065), (4452, 0.0), (4453, 0.020425585108258006), (4454, 0.02287080178903892), (4455, 0.02385643784438469), (4456, 0.014275068686377318), (4457, 0.007853833490599638), (4458, 0.0), (4459, 0.027110210657953573), (4460, 0.015714393780633072), (4461, 0.0), (4462, 0.006756161541080772), (4463, 0.03105014927075804), (4464, 0.0156586624162442), (4465, 0.0), (4466, 0.06609096634458636), (4467, 0.06762921779053599), (4468, 0.0), (4469, 0.0), (4470, 0.01311022607850226), (4471, 0.0), (4472, 0.019506649696654978), (4473, 0.0), (4474, 0.0), (4475, 0.011434986021812808), (4476, 0.0), (4477, 0.006984610084765313), (4478, 0.021194592012374433), (4479, 0.023054144019615058), (4480, 0.0), (4481, 0.005712146233023569), (4482, 0.019662030857828132), (4483, 0.0), (4484, 0.0), (4485, 0.0), (4486, 0.022640977936900144), (4487, 0.019881166178855665), (4488, 0.0), (4489, 0.0), (4490, 0.007090057695567827), (4491, 0.015082351014873386), (4492, 0.008468042828221882), (4493, 0.1214838450060065), (4494, 0.0), (4495, 0.023387437565788816), (4496, 0.05504014933518002), (4497, 0.0), (4498, 0.03408379311784093), (4499, 0.0), (4500, 0.0), (4501, 0.03398865851250255), (4502, 0.012661692449921269), (4503, 0.006029501117853944), (4504, 0.013380116159346946), (4505, 0.0), (4506, 0.0), (4507, 0.0), (4508, 0.0), (4509, 0.0255410778740726), (4510, 0.013496932460859564), (4511, 0.01577935673777349), (4512, 0.0), (4513, 0.0), (4514, 0.0), (4515, 0.0), (4516, 0.022732388060068862), (4517, 0.02958687867130152), (4518, 0.014949845870766757), (4519, 0.006324143055800107), (4520, 0.0), (4521, 0.0), (4522, 0.0), (4523, 0.0208025178864077), (4524, 0.018932040783512006), (4525, 0.03820807702669688), (4526, 0.008991082974854321), (4527, 0.0), (4528, 0.0), (4529, 0.0), (4530, 0.0), (4531, 0.03479564931177776), (4532, 0.02574337851851341), (4533, 0.020671564132231632), (4534, 0.016549377401368352), (4535, 0.008823079566035848), (4536, 0.0), (4537, 0.0), (4538, 0.0), (4539, 0.0), (4540, 0.0), (4541, 0.0), (4542, 0.011806093378453288), (4543, 0.03408532142518386), (4544, 0.015362915854553339), (4545, 0.0), (4546, 0.0), (4547, 0.0), (4548, 0.023341815880649007), (4549, 0.006632166878548284), (4550, 0.013437791454735446), (4551, 0.012214827805388588), (4552, 0.04286077801791632), (4553, 0.005227605613959427), (4554, 0.018858529047822013), (4555, 0.0), (4556, 0.0), (4557, 0.052343177623479904), (4558, 0.0), (4559, 0.0), (4560, 0.013523119778683798), (4561, 0.0), (4562, 0.03245486801206562), (4563, 0.012628270411358562), (4564, 0.1497990663331261), (4565, 0.0), (4566, 0.03939796333074454), (4567, 0.010548727127242672), (4568, 0.005588054937209654), (4569, 0.01860935307998316), (4570, 0.009423140269480625), (4571, 0.0), (4572, 0.0), (4573, 0.00579566389885465), (4574, 0.013186070456305241), (4575, 0.02310265763976822), (4576, 0.039594582790114186), (4577, 0.0), (4578, 0.0), (4579, 0.0), (4580, 0.013742428543367866), (4581, 0.05204184600941349), (4582, 0.012365852398254724), (4583, 0.0), (4584, 0.01447822499376849), (4585, 0.0), (4586, 0.019048971501256746), (4587, 0.022256592254203712), (4588, 0.007634317470363595), (4589, 0.01622419389357975), (4590, 0.016380897218016416), (4591, 0.005560339422346873), (4592, 0.0), (4593, 0.0), (4594, 0.0), (4595, 0.0), (4596, 0.05935764799327613), (4597, 0.006926942975735784), (4598, 0.0), (4599, 0.0), (4600, 0.005471179935108886), (4601, 0.0), (4602, 0.0), (4603, 0.014798721665810201), (4604, 0.0), (4605, 0.031747280252324914), (4606, 0.02154188537667382), (4607, 0.01602729754111568), (4608, 0.005305355877068391), (4609, 0.08699327329557623), (4610, 0.013314852106096111), (4611, 0.0159167236773574), (4612, 0.0), (4613, 0.07993144846182844), (4614, 0.0), (4615, 0.0), (4616, 0.0), (4617, 0.0), (4618, 0.0), (4619, 0.006596297478083302), (4620, 0.0), (4621, 0.012868920096077858), (4622, 0.0), (4623, 0.024810563501179096), (4624, 0.0), (4625, 0.0), (4626, 0.01120682786981625), (4627, 0.011895570508144963), (4628, 0.05327022431732516), (4629, 0.006236726423827948), (4630, 0.05349516556157184), (4631, 0.0072600671109601805), (4632, 0.01451884378149003), (4633, 0.0), (4634, 0.0), (4635, 0.0), (4636, 0.0), (4637, 0.0), (4638, 0.0), (4639, 0.012886394897981279), (4640, 0.0), (4641, 0.02516334288458289), (4642, 0.00705540110498145), (4643, 0.020776320059726096), (4644, 0.0), (4645, 0.0), (4646, 0.023324390536762087), (4647, 0.061941089060573495), (4648, 0.0), (4649, 0.03136980309265855), (4650, 0.012719727047083905), (4651, 0.0), (4652, 0.06356591946100823), (4653, 0.007309525853079599), (4654, 0.0), (4655, 0.03112880304587265), (4656, 0.006446784748663829), (4657, 0.0), (4658, 0.03919107098197324), (4659, 0.006451517383025349), (4660, 0.0), (4661, 0.017588029435352856), (4662, 0.021542485034329806), (4663, 0.044375250412188774), (4664, 0.0), (4665, 0.0), (4666, 0.008093892356918203), (4667, 0.027502317209685174), (4668, 0.03315565980113998), (4669, 0.0), (4670, 0.0), (4671, 0.0), (4672, 0.0), (4673, 0.0057904668337747855), (4674, 0.017729520743506356), (4675, 0.0), (4676, 0.04137461438982969), (4677, 0.011155668044485267), (4678, 0.012586840194323485), (4679, 0.0), (4680, 0.0), (4681, 0.0), (4682, 0.02119531329389352), (4683, 0.011074401363496793), (4684, 0.006100990168023082), (4685, 0.015575737200435152), (4686, 0.0), (4687, 0.026960081237909786), (4688, 0.023187395365810333), (4689, 0.0), (4690, 0.005606659051069024), (4691, 0.0), (4692, 0.0), (4693, 0.0), (4694, 0.0), (4695, 0.016719734474566556), (4696, 0.0), (4697, 0.0), (4698, 0.007213072618599148), (4699, 0.0), (4700, 0.0), (4701, 0.0), (4702, 0.0), (4703, 0.014856494672910375), (4704, 0.0), (4705, 0.008547720264218133), (4706, 0.0), (4707, 0.0), (4708, 0.01815390977286958), (4709, 0.00812630441340183), (4710, 0.0), (4711, 0.0), (4712, 0.0), (4713, 0.0), (4714, 0.0), (4715, 0.0), (4716, 0.00619622423155193), (4717, 0.0), (4718, 0.0), (4719, 0.0), (4720, 0.0), (4721, 0.0), (4722, 0.0), (4723, 0.007309729966069415), (4724, 0.0), (4725, 0.02282119793189694), (4726, 0.04571303386710725), (4727, 0.006422494144398267), (4728, 0.0), (4729, 0.0), (4730, 0.0), (4731, 0.0), (4732, 0.015120737729986454), (4733, 0.004988393795592153), (4734, 0.0), (4735, 0.015047433342485027), (4736, 0.023338128136055056), (4737, 0.0), (4738, 0.015857650298239503), (4739, 0.044543182724170766), (4740, 0.0), (4741, 0.030013537134993853), (4742, 0.028645583840099888), (4743, 0.03012925051617659), (4744, 0.010308407170950197), (4745, 0.006167462202522566), (4746, 0.0), (4747, 0.042807000165883465), (4748, 0.024405755272726933), (4749, 0.016527340090087696), (4750, 0.0), (4751, 0.0), (4752, 0.028796852157980696), (4753, 0.0), (4754, 0.03316917795708739), (4755, 0.0), (4756, 0.011456231639097295), (4757, 0.0), (4758, 0.0), (4759, 0.0)]\n"
          ]
        }
      ]
    },
    {
      "cell_type": "code",
      "source": [
        "print('Top 30 Movies Suggestions for You : \\n')\n",
        "\n",
        "i = 1\n",
        "for movie in Recommendation_Score[1:31]:\n",
        "  index = movie[0]\n",
        "  title_from_index = df[df.index==index]['Movie_Title'].values[0]\n",
        "  if (i<31):\n",
        "    print(i, '.',title_from_index)\n",
        "    i+=1"
      ],
      "metadata": {
        "colab": {
          "base_uri": "https://localhost:8080/"
        },
        "id": "KKr9NmJiEvlS",
        "outputId": "cb438e7a-436a-464a-e9d6-308b63bf19ce"
      },
      "execution_count": 32,
      "outputs": [
        {
          "output_type": "stream",
          "name": "stdout",
          "text": [
            "Top 30 Movies Suggestions for You : \n",
            "\n",
            "1 . Star Wars\n",
            "2 . Finding Nemo\n",
            "3 . Forrest Gump\n",
            "4 . American Beauty\n",
            "5 . Dancer in the Dark\n",
            "6 . The Fifth Element\n",
            "7 . Metropolis\n",
            "8 . My Life Without Me\n",
            "9 . Pirates of the Caribbean: The Curse of the Black Pearl\n",
            "10 . Kill Bill: Vol. 1\n",
            "11 . Jarhead\n",
            "12 . Apocalypse Now\n",
            "13 . Unforgiven\n",
            "14 . The Simpsons Movie\n",
            "15 . Eternal Sunshine of the Spotless Mind\n",
            "16 . Amores perros\n",
            "17 . Pirates of the Caribbean: Dead Man's Chest\n",
            "18 . A History of Violence\n",
            "19 . 2001: A Space Odyssey\n",
            "20 . 8 Mile\n",
            "21 . Absolute Power\n",
            "22 . Brazil\n",
            "23 . Walk the Line\n",
            "24 . Million Dollar Baby\n",
            "25 . Billy Elliot\n",
            "26 . American History X\n",
            "27 . War of the Worlds\n",
            "28 . Mars Attacks!\n",
            "29 . Before Sunrise\n",
            "30 . Memento\n"
          ]
        }
      ]
    },
    {
      "cell_type": "markdown",
      "source": [
        "# **Top 10 Movie Recommendation System**"
      ],
      "metadata": {
        "id": "DoLTOfIrFlIy"
      }
    },
    {
      "cell_type": "code",
      "source": [
        "Movie_Name = input('Enter Your Favourite Movie Name: ')\n",
        "\n",
        "list_of_all_titles = df['Movie_Title'].tolist()\n",
        "\n",
        "Find_Close_Match = difflib.get_close_matches(Movie_Name, list_of_all_titles)\n",
        "\n",
        "Close_Match = Find_Close_Match[0]\n",
        "\n",
        "Index_of_Movie = df[df.Movie_Title == Close_Match]['Movie_ID'].values[0]\n",
        "\n",
        "Recommendation_Score = list(enumerate(Similarity_Score[Index_of_Movie]))\n",
        "\n",
        "sorted_similar_movies = sorted(Recommendation_Score, key = lambda x:x[1], reverse = True)\n",
        "\n",
        "print('Top 10 Movies Suggested For You : \\n')\n",
        "\n",
        "i = 1\n",
        "for movie in Recommendation_Score[1:11]:\n",
        "  index = movie[0]\n",
        "  title_from_index = df[df.Movie_ID==index]['Movie_Title'].values\n",
        "  if (i<11):\n",
        "    print(i, '.',title_from_index)\n",
        "    i+=1"
      ],
      "metadata": {
        "colab": {
          "base_uri": "https://localhost:8080/"
        },
        "id": "9LETNvdAFnoW",
        "outputId": "92e55f17-0b37-4ecb-bfea-00e080a72790"
      },
      "execution_count": 34,
      "outputs": [
        {
          "output_type": "stream",
          "name": "stdout",
          "text": [
            "Enter Your Favourite Movie Name: spider man\n",
            "Top 10 Movies Suggested For You : \n",
            "\n",
            "1 . ['Four Rooms']\n",
            "2 . ['Star Wars']\n",
            "3 . ['Finding Nemo']\n",
            "4 . ['Forrest Gump']\n",
            "5 . ['American Beauty']\n",
            "6 . ['Dancer in the Dark']\n",
            "7 . ['The Fifth Element']\n",
            "8 . ['Metropolis']\n",
            "9 . ['My Life Without Me']\n",
            "10 . ['Pirates of the Caribbean: The Curse of the Black Pearl']\n"
          ]
        }
      ]
    }
  ]
}